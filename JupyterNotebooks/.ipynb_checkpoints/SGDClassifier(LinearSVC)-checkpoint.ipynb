{
 "cells": [
  {
   "cell_type": "markdown",
   "metadata": {},
   "source": [
    "# SGDClassifier(LinearSVC) \n",
    "### Linear SVC  implementation with SGD Classifier to speed up training \n",
    "#### Import Requirements "
   ]
  },
  {
   "cell_type": "code",
   "execution_count": 1,
   "metadata": {},
   "outputs": [],
   "source": [
    "# numpy and pandas for data manipulation\n",
    "import numpy as np\n",
    "import pandas as pd \n",
    "#from pandas.tools.plotting import table\n",
    "\n",
    "#memory management\n",
    "import gc\n",
    "\n",
    "# File system manangement\n",
    "import os\n",
    "\n",
    "# Suppress warnings \n",
    "import warnings\n",
    "warnings.filterwarnings('ignore')\n",
    "\n",
    "#SGD Classifier\n",
    "from sklearn.linear_model import SGDClassifier\n",
    "\n",
    "#to measure ROC AUC performance\n",
    "from sklearn.metrics import roc_auc_score\n",
    "\n",
    "from sklearn.model_selection import StratifiedKFold"
   ]
  },
  {
   "cell_type": "markdown",
   "metadata": {},
   "source": [
    "### Set folder paths for getting input and saving outputs"
   ]
  },
  {
   "cell_type": "code",
   "execution_count": 2,
   "metadata": {},
   "outputs": [],
   "source": [
    "#Set input data folder \n",
    "dataFolder = os.getcwd()+os.sep+os.pardir+os.sep + 'CodeOutputs'\n",
    "if(not os.path.exists(dataFolder)):\n",
    "    print(\"Input Data folder not found. Please specify data folder path as dataFolder variable to proceed\")\n",
    "    raise NotADirectoryError\n",
    "    \n",
    "#Create output folder is it does not exist\n",
    "outputFolder = os.getcwd()+os.sep+os.pardir+os.sep + 'CodeOutputs'\n",
    "\n",
    "if not os.path.exists(outputFolder):\n",
    "    os.makedirs(outputFolder)\n",
    "    print('Output Folder created')"
   ]
  },
  {
   "cell_type": "markdown",
   "metadata": {},
   "source": [
    "### Read input"
   ]
  },
  {
   "cell_type": "code",
   "execution_count": 3,
   "metadata": {},
   "outputs": [],
   "source": [
    "def setup_input(filename):\n",
    "    # Read Training data\n",
    "    df = pd.read_csv(dataFolder + os.sep + filename)\n",
    "    labels = df.pop('TARGET')\n",
    "    if('Unnamed: 0' in df):\n",
    "        df = df.drop(columns='Unnamed: 0')\n",
    "    \n",
    "    df = df.drop(columns='SK_ID_CURR')\n",
    "    return df, labels"
   ]
  },
  {
   "cell_type": "code",
   "execution_count": 4,
   "metadata": {},
   "outputs": [],
   "source": [
    "def svclassifier(df, labels):\n",
    "    # Run classifier with 10 fold cross-validation\n",
    "    cv = StratifiedKFold(n_splits=10)\n",
    "    probas_ = np.zeros(df.shape[0])\n",
    "\n",
    "    for trainSet, testSet in cv.split(df, labels):\n",
    "        clf = SGDClassifier(alpha=5.5, class_weight='balanced', \n",
    "                            loss='hinge', max_iter=1000, n_jobs=-1)\n",
    "        model = clf.fit(df.iloc[trainSet], labels.iloc[trainSet])\n",
    "        probas_[testSet] = np.array(clf.decision_function(df.iloc[testSet]))\n",
    "        del clf\n",
    "    \n",
    "    return roc_auc_score(labels, probas_)"
   ]
  },
  {
   "cell_type": "code",
   "execution_count": 5,
   "metadata": {},
   "outputs": [
    {
     "name": "stdout",
     "output_type": "stream",
     "text": [
      "Classifier could not run on the data set. Put X instead of score.\n",
      "Classifier could not run on the data set. Put X instead of score.\n",
      "Classifier could not run on the data set. Put X instead of score.\n",
      "File: DataSetVersion2_a.csv,  AUC score : 0.536\n",
      "File: DataSetVersion2_b.csv,  AUC score : 0.542\n",
      "File: DataSetVersion2_c.csv,  AUC score : 0.528\n",
      "File: DataSetVersion3_a.csv,  AUC score : 0.533\n",
      "File: DataSetVersion3_b.csv,  AUC score : 0.529\n",
      "File: DataSetVersion3_c.csv,  AUC score : 0.525\n"
     ]
    }
   ],
   "source": [
    "file_names = ['DataSetVersion1_a.csv', 'DataSetVersion1_b.csv', 'DataSetVersion1_c.csv', 'DataSetVersion2_a.csv',\n",
    "              'DataSetVersion2_b.csv', 'DataSetVersion2_c.csv', 'DataSetVersion3_a.csv', 'DataSetVersion3_b.csv',\n",
    "             'DataSetVersion3_c.csv']\n",
    "\n",
    "for filename in file_names:\n",
    "    input_df, labels = setup_input(filename)\n",
    "    try:\n",
    "        print('File: {},  AUC score : {:0.3f}'.format(filename,svclassifier(input_df, labels)))\n",
    "        del input_df,labels\n",
    "        gc.collect()\n",
    "    except:\n",
    "        print('Classifier could not run on the data set. Put X instead of score.')\n",
    "        del input_df,labels\n",
    "        gc.collect()\n",
    "        continue"
   ]
  },
  {
   "cell_type": "code",
   "execution_count": null,
   "metadata": {},
   "outputs": [
    {
     "name": "stdout",
     "output_type": "stream",
     "text": [
      "File: DataSetVersion4_a.csv,  AUC score : 0.527\n"
     ]
    }
   ],
   "source": [
    "file_names = ['DataSetVersion4_a.csv', 'DataSetVersion4_b.csv', 'DataSetVersion4_c.csv']\n",
    "\n",
    "for filename in file_names:\n",
    "    input_df, labels = setup_input(filename)\n",
    "    try:\n",
    "        print('File: {},  AUC score : {:0.3f}'.format(filename,svclassifier(input_df, labels)))\n",
    "        del input_df,labels\n",
    "        gc.collect()\n",
    "    except:\n",
    "        print('Classifier could not run on the data set. Put X instead of score.')\n",
    "        del input_df,labels\n",
    "        gc.collect()\n",
    "        continue"
   ]
  }
 ],
 "metadata": {
  "kernelspec": {
   "display_name": "Python 3",
   "language": "python",
   "name": "python3"
  },
  "language_info": {
   "codemirror_mode": {
    "name": "ipython",
    "version": 3
   },
   "file_extension": ".py",
   "mimetype": "text/x-python",
   "name": "python",
   "nbconvert_exporter": "python",
   "pygments_lexer": "ipython3",
   "version": "3.6.6"
  }
 },
 "nbformat": 4,
 "nbformat_minor": 2
}
