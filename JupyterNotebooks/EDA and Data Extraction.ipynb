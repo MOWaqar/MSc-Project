{
 "cells": [
  {
   "cell_type": "markdown",
   "metadata": {},
   "source": [
    "### Import Requirements"
   ]
  },
  {
   "cell_type": "code",
   "execution_count": 1,
   "metadata": {},
   "outputs": [],
   "source": [
    "# numpy and pandas for data manipulation\n",
    "import numpy as np\n",
    "import pandas as pd \n",
    "\n",
    "#memory management\n",
    "import gc\n",
    "\n",
    "# File system manangement\n",
    "import os\n",
    "\n",
    "# Suppress warnings \n",
    "import warnings\n",
    "warnings.filterwarnings('ignore')\n",
    "\n",
    "# matplotlib for plotting\n",
    "import matplotlib.pyplot as plt\n",
    "\n",
    "#to impute missing values\n",
    "from sklearn.preprocessing import Imputer, MinMaxScaler\n",
    "\n",
    "from sklearn.feature_selection import VarianceThreshold, RFE, SelectFromModel, chi2, SelectKBest\n",
    "from sklearn.linear_model import LogisticRegression\n",
    "from sklearn.ensemble import RandomForestClassifier"
   ]
  },
  {
   "cell_type": "markdown",
   "metadata": {},
   "source": [
    "## Utility Functions\n",
    "### Set folder paths for getting input and saving outputs"
   ]
  },
  {
   "cell_type": "code",
   "execution_count": 2,
   "metadata": {},
   "outputs": [],
   "source": [
    "def setupFolderPaths():    \n",
    "    #Set input data folder \n",
    "    dataFolder = os.getcwd() + os.sep + os.pardir + os.sep + 'ProjectDataFiles'\n",
    "    if(not os.path.exists(dataFolder)):\n",
    "        print(\"Input Data folder not found. Please specify data folder path as dataFolder variable to proceed\")\n",
    "        raise NotADirectoryError\n",
    "\n",
    "    #Create output folder is it does not exist\n",
    "    outputFolder = os.getcwd() + os.sep + os.pardir + os.sep + 'CodeOutputs'\n",
    "\n",
    "    if not os.path.exists(outputFolder):\n",
    "        os.makedirs(outputFolder)\n",
    "        print('Output Folder created')\n",
    "        \n",
    "    return dataFolder, outputFolder"
   ]
  },
  {
   "cell_type": "code",
   "execution_count": 3,
   "metadata": {},
   "outputs": [],
   "source": [
    "def readFile(fileName):\n",
    "    if(not os.path.exists(fileName)):\n",
    "        raise FileNotFoundError\n",
    "        \n",
    "    return pd.read_csv(fileName)"
   ]
  },
  {
   "cell_type": "markdown",
   "metadata": {},
   "source": [
    "## Replace all the outliers in the input data set with nan"
   ]
  },
  {
   "cell_type": "code",
   "execution_count": 4,
   "metadata": {},
   "outputs": [],
   "source": [
    "#Function to replace outliers in input data\n",
    "def replace_outliers(df):\n",
    "    #Optional: Remove 4 applications with XNA CODE_GENDER (train set)\n",
    "    if 'CODE_GENDER' in df:\n",
    "        df = df[df['CODE_GENDER'] != 'XNA']\n",
    "\n",
    "    #Replace outlier values with nan\n",
    "    df['DAYS_EMPLOYED'] = df['DAYS_EMPLOYED'].map(lambda x: x if x <= 0 else np.nan)\n",
    "    df['REGION_RATING_CLIENT_W_CITY'] = df['REGION_RATING_CLIENT_W_CITY'].map(lambda x: x if x >= 0 else np.nan)\n",
    "    df['AMT_INCOME_TOTAL'] = df['AMT_INCOME_TOTAL'].map(lambda x: x if x <= 1e8 else np.nan)\n",
    "    df['AMT_REQ_CREDIT_BUREAU_QRT'] = df['AMT_REQ_CREDIT_BUREAU_QRT'].map(lambda x: x if x <= 10 else np.nan)\n",
    "    df['OBS_30_CNT_SOCIAL_CIRCLE'] = df['OBS_30_CNT_SOCIAL_CIRCLE'].map(lambda x: x if x <= 40 else np.nan)\n",
    "    df['OBS_60_CNT_SOCIAL_CIRCLE'] = df['OBS_60_CNT_SOCIAL_CIRCLE'].map(lambda x: x if x <= 50 else np.nan)\n",
    "    df['DEF_30_CNT_SOCIAL_CIRCLE'] = df['DEF_30_CNT_SOCIAL_CIRCLE'].map(lambda x: x if x <= 100 else np.nan)\n",
    "    \n",
    "    return df"
   ]
  },
  {
   "cell_type": "markdown",
   "metadata": {},
   "source": [
    "## Check For Missing Values"
   ]
  },
  {
   "cell_type": "code",
   "execution_count": 5,
   "metadata": {},
   "outputs": [],
   "source": [
    "# Function to calculate missing values by columns \n",
    "def compute_missing_values(df, sortAscending = False):\n",
    "        # Total missing values\n",
    "        mis_val = df.isnull().sum()\n",
    "        \n",
    "        # Percentage of missing values\n",
    "        mis_val_percent = 100 * df.isnull().sum() / len(df)\n",
    "        \n",
    "        # Make a table with the results\n",
    "        mis_val_table = pd.concat([mis_val, mis_val_percent], axis=1)\n",
    "        \n",
    "        # Rename the columns\n",
    "        mis_val_table_ren_columns = mis_val_table.rename(\n",
    "        columns = {0 : 'Missing Values', 1 : '% of Total Values'})\n",
    "        \n",
    "        # Sort the table by percentage of missing descending\n",
    "        mis_val_table_ren_columns = mis_val_table_ren_columns[\n",
    "            mis_val_table_ren_columns.iloc[:,1] != 0].sort_values(\n",
    "        '% of Total Values', ascending=sortAscending).round(1)\n",
    "        \n",
    "        # Print some summary information\n",
    "        print (\"Your selected dataframe has \" + str(df.shape[1]) + \" columns.\\n\"      \n",
    "            \"There are \" + str(mis_val_table_ren_columns.shape[0]) +\n",
    "              \" columns that have missing values.\")\n",
    "        \n",
    "        # Return the dataframe with missing value information\n",
    "        return mis_val_table_ren_columns"
   ]
  },
  {
   "cell_type": "code",
   "execution_count": 6,
   "metadata": {},
   "outputs": [],
   "source": [
    "#Functions used for plotting and visualizing outliers\n",
    "\n",
    "# add noise to y axis to avoid overlapping of data points\n",
    "def rand_jitter(arr):\n",
    "    nosie = .01*(max(arr)-min(arr))\n",
    "    return arr + np.random.randn(len(arr))\n",
    "\n",
    "def plot_feature_distribution(df, column, fileName = ''):\n",
    "    column_values = df[df[column].notna()][column]\n",
    "    # group by target\n",
    "    class_0_values = df[df[column].notna() & (df['TARGET']==0)][column]\n",
    "    class_1_values = df[df[column].notna() & (df['TARGET']==1)][column]\n",
    "    class_t_values = df[df[column].notna() & (df['TARGET'].isna())][column]        \n",
    "    # for features with unique values >= 10\n",
    "    if len(df[column].value_counts().keys()) >= 10:\n",
    "        fig, ax = plt.subplots(1, figsize=(15, 4))\n",
    "        if df[column].dtype == 'object':\n",
    "            label_encoder = LabelEncoder()\n",
    "            label_encoder.fit(column_values)\n",
    "            class_0_values = label_encoder.transform(class_0_values)\n",
    "            class_1_values = label_encoder.transform(class_1_values)\n",
    "            class_t_values = label_encoder.transform(class_t_values)\n",
    "            column_values = label_encoder.transform(column_values)\n",
    "            plt.xticks(range(len(label_encoder.classes_)), label_encoder.classes_, fontsize=12, rotation='vertical')\n",
    "\n",
    "        ax.scatter(class_0_values, rand_jitter([0]*class_0_values.shape[0]), label='Class0', s=10, marker='o', color='#7ac143', alpha=1)\n",
    "        ax.scatter(class_1_values, rand_jitter([10]*class_1_values.shape[0]), label='Class1', s=10, marker='o', color='#fd5c63', alpha=1)\n",
    "        ax.scatter(class_t_values, rand_jitter([20]*class_t_values.shape[0]), label='Test', s=10, marker='o', color='#037ef3', alpha=0.4)\n",
    "        ax.set_title(column +' group by target', fontsize=16)\n",
    "        ax.legend(bbox_to_anchor=(1.01, 1), loc=\"upper left\")\n",
    "        ax.set_title(column +' distribution', fontsize=16)\n",
    "    else:      \n",
    "        all_categories = list(df[df[column].notna()][column].value_counts().keys())\n",
    "        bar_width = 0.25\n",
    "        \n",
    "        fig, ax = plt.subplots(figsize=(20, 4))\n",
    "        ax.set_title(column, fontsize=16)\n",
    "        plt.xlabel('Categories', fontsize=16)\n",
    "        plt.ylabel('Counts', fontsize=16)\n",
    "\n",
    "        value_counts = class_0_values.value_counts()\n",
    "        x_0 = np.arange(len(all_categories))\n",
    "        y_0 = [value_counts.get(categroy, 0) for categroy in all_categories]\n",
    "        ax.bar(x_0, y_0, color='#7ac143', width=bar_width, label='class0')\n",
    "\n",
    "        value_counts = class_1_values.value_counts()\n",
    "        x_1 = np.arange(len(all_categories))\n",
    "        y_1 = [value_counts.get(categroy, 0) for categroy in all_categories]\n",
    "        ax.bar(x_1+bar_width, y_1, color='#fd5c63', width=bar_width, label='class1')\n",
    "        \n",
    "        value_counts = class_t_values.value_counts()\n",
    "        x_2 = np.arange(len(all_categories))\n",
    "        y_2 = [value_counts.get(categroy, 0) for categroy in all_categories]\n",
    "        ax.bar(x_2+2*bar_width, y_2, color='#037ef3', width=bar_width, label='test')\n",
    "        \n",
    "        ax.legend(bbox_to_anchor=(1.01, 1), loc=\"upper left\")\n",
    "        \n",
    "        for i, v in enumerate(y_0):\n",
    "            if y_0[i]+y_1[i] == 0:\n",
    "                ax.text(i - .08, max(y_0)//1.25,  'Missing in Train', fontsize=14, rotation='vertical')\n",
    "            else:\n",
    "                ax.text(i - .08, max(y_0)//1.25,  \"{:0.1f}%\".format(100*y_0[i]/(y_0[i]+y_1[i])), fontsize=14, rotation='vertical')\n",
    "        \n",
    "        for i, v in enumerate(y_1):\n",
    "            if y_0[i]+y_1[i] == 0:\n",
    "                ax.text(i - .08, max(y_0)//1.25,  'Missing in Train', fontsize=14, rotation='vertical')\n",
    "            else:\n",
    "                ax.text(i + bar_width - .08, max(y_0)//1.25, \"{:0.1f}%\".format(100*y_1[i]/(y_0[i]+y_1[i])), fontsize=14, rotation='vertical')\n",
    " \n",
    "        for i, v in enumerate(y_2):\n",
    "            if y_2[i] == 0:\n",
    "                ax.text(i + 2*bar_width - .08, max(y_0)//1.25, 'Missing in Test', fontsize=14, rotation='vertical')\n",
    "            else:\n",
    "                ax.text(i + 2*bar_width - .08, max(y_0)//1.25, str(y_2[i]), fontsize=14, rotation='vertical')\n",
    "        \n",
    "        plt.xticks(x_0 + 2*bar_width/3, all_categories, fontsize=16)\n",
    "        \n",
    "    plt.show()\n",
    "    plt.savefig(outputFolder + '\\\\{}{}_distribution.png'.format(column,fileName), bbox_inches='tight')\n",
    "    plt.close()"
   ]
  },
  {
   "cell_type": "markdown",
   "metadata": {},
   "source": [
    "### Identify Feature types : Catagorical, Numerical, Integer and Boolean (Flags)"
   ]
  },
  {
   "cell_type": "code",
   "execution_count": 7,
   "metadata": {},
   "outputs": [],
   "source": [
    "#Function to identify feature types in a given data frame\n",
    "def identify_feature_types(df, features_to_ignore, verbose = False):\n",
    "    categorical_features = list(f for f in df.select_dtypes(include='object') if f not in features_to_ignore)\n",
    "    floatingPoint_features = list(f for f in df.select_dtypes(include='float64') if f not in features_to_ignore)\n",
    "    temp = list(f for f in df.select_dtypes(include='int64') if f not in features_to_ignore)\n",
    "    bool_features = [x for x in temp if 'FLAG' in x]\n",
    "    integer_features = [x for x in temp if x not in bool_features]\n",
    "    totalCount = len(categorical_features) + len(floatingPoint_features) + len(bool_features) + len(integer_features)\n",
    "    if (verbose == True):\n",
    "        print ('Catagorical Features : {}, Floating Point Features : {}, Boolean Features : {}, Integer Features : {}, Total Count : {}'\n",
    "           .format(len(categorical_features), len(floatingPoint_features), len(bool_features), len(integer_features), totalCount))\n",
    "    \n",
    "    return categorical_features, floatingPoint_features, bool_features, integer_features"
   ]
  },
  {
   "cell_type": "markdown",
   "metadata": {},
   "source": [
    "### Drop list of features from data frame"
   ]
  },
  {
   "cell_type": "code",
   "execution_count": 9,
   "metadata": {},
   "outputs": [],
   "source": [
    "def drop_features(df, features):\n",
    "    df = df.drop(columns=[f for f in df.columns if f in features])\n",
    "    return df"
   ]
  },
  {
   "cell_type": "code",
   "execution_count": 10,
   "metadata": {},
   "outputs": [],
   "source": [
    "def scale_features(df, feature_list = None, scale_range = (0,1)):\n",
    "    if(feature_list == None):\n",
    "        feature_list = [f for f in df.columns if f not in ['TARGET', 'SK_ID_CURR', 'Unnamed :0']]\n",
    "        \n",
    "    #Scale each feature to 0-1\n",
    "    scaler = MinMaxScaler(feature_range = scale_range)\n",
    "    \n",
    "    for feature in feature_list:\n",
    "        if (df[feature].dtype == 'object'):\n",
    "            continue\n",
    "\n",
    "        scaler.fit(df[feature].values.reshape(-1,1))\n",
    "        df[feature] = scaler.transform(df[feature].values.reshape(-1,1))\n",
    "    \n",
    "    return df"
   ]
  },
  {
   "cell_type": "code",
   "execution_count": 11,
   "metadata": {},
   "outputs": [],
   "source": [
    "def impute_features(df, features = 'All'):\n",
    "    categorical_feats, floatingPoint_feats, bool_feats, integer_feats = identify_feature_types(df,\n",
    "                                                                                        ['TARGET', 'SK_ID_CURR', 'Unnamed :0'])\n",
    "    if(features == 'All'):\n",
    "        feature_list = [f for f in df.columns if f not in ['TARGET', 'SK_ID_CURR', 'Unnamed :0']]\n",
    "    elif(features == 'Numerical'):\n",
    "        feature_list = floatingPoint_feats + integer_feats\n",
    "    elif(features == 'Categorical'):\n",
    "        feature_list = categorical_feats + bool_feats\n",
    "    else:\n",
    "        raise ValueError('features can either be All, Numerical, Categorical')\n",
    "        \n",
    "    #Imputer for numerical features\n",
    "    imputer = Imputer(strategy = 'median')\n",
    "    \n",
    "    for feature in feature_list:\n",
    "        if (feature in categorical_feats + bool_feats):\n",
    "            df[feature] = df[feature].fillna(df[feature].value_counts().index[0])\n",
    "        else:\n",
    "            imputer.fit(df[feature].values.reshape(-1,1))\n",
    "            df[feature] = imputer.transform(df[feature].values.reshape(-1,1))\n",
    "\n",
    "    return df"
   ]
  },
  {
   "cell_type": "code",
   "execution_count": 12,
   "metadata": {},
   "outputs": [],
   "source": [
    "#Function to caluculate WOE\n",
    "def calculate_WOE(df, target,feature):\n",
    "    lst = []\n",
    "    for i in range(df[feature].nunique(dropna=False)):\n",
    "        val = list(df[feature].unique())[i]\n",
    "        lst.append([feature,                                                        # Variable\n",
    "                    val,                                                            # Value\n",
    "                    df[df[feature] == val].count()[feature],                        # All\n",
    "                    df[(df[feature] == val) & (df[target] == 0)].count()[feature],  # Good (target == 0)\n",
    "                    df[(df[feature] == val) & (df[target] == 1)].count()[feature]]) # Bad (target == 1)\n",
    "\n",
    "    data = pd.DataFrame(lst, columns=['Variable', 'Value', 'All', 'Good', 'Bad'])\n",
    "    data['Distribution Good'] = (data['All'] - data['Bad']) / (data['All'].sum() - data['Bad'].sum())\n",
    "    data['Distribution Bad'] = data['Bad'] / data['Bad'].sum()\n",
    "    data['WoE'] = np.log(data['Distribution Good'] / data['Distribution Bad'])\n",
    "\n",
    "    data = data.replace({'WoE': {np.inf: 0, -np.inf: 0}})\n",
    "    return data"
   ]
  },
  {
   "cell_type": "markdown",
   "metadata": {},
   "source": [
    "### Remove columns with greater than 20% missing values"
   ]
  },
  {
   "cell_type": "code",
   "execution_count": 13,
   "metadata": {},
   "outputs": [],
   "source": [
    "def remove_missing_value_columns(df, threshold):\n",
    "    missing_values = compute_missing_values(df)\n",
    "    missing_greater = missing_values[missing_values.iloc[:,1] >= threshold]\n",
    "    df = df.drop(columns=missing_greater.index)\n",
    "    print('{} columns have been dropped from input data set'.format(len(missing_greater)))\n",
    "    del missing_values\n",
    "    gc.collect()\n",
    "    return df"
   ]
  },
  {
   "cell_type": "markdown",
   "metadata": {},
   "source": [
    "### Feature Selection Utils"
   ]
  },
  {
   "cell_type": "markdown",
   "metadata": {},
   "source": [
    "#### 1. Variance Selector\n",
    "#### 2. Pearson Correlation Selector\n",
    "**Note**\n",
    "- Scaling: no\n",
    "- Impute missing values: yes"
   ]
  },
  {
   "cell_type": "code",
   "execution_count": 14,
   "metadata": {},
   "outputs": [],
   "source": [
    "def var_selector(input_df, threshold = 0.01):\n",
    "    df = input_df.copy()\n",
    "    df = impute_features(df)\n",
    "    selector = VarianceThreshold(threshold)\n",
    "    selector.fit_transform(df)\n",
    "    var_support = selector.get_support()\n",
    "    var_feature = df.loc[:,var_support].columns.tolist()\n",
    "    print('Variance : ', str(len(var_feature)), 'selected features out of', str(len(var_support)))\n",
    "    del df, selector, var_feature\n",
    "    return var_support"
   ]
  },
  {
   "cell_type": "markdown",
   "metadata": {},
   "source": [
    "#### 2. Pearson Correlation Selector\n",
    "**Note**\n",
    "- Scaling: no\n",
    "- Impute missing values: yes"
   ]
  },
  {
   "cell_type": "code",
   "execution_count": 15,
   "metadata": {},
   "outputs": [],
   "source": [
    "def cor_selector(input_df, labels, drop_ratio = 0.5):\n",
    "    drop_ratio = max(0,min(drop_ratio, 1))\n",
    "    df = input_df.copy()\n",
    "    cor_list = []\n",
    "    df = impute_features(df, 'All')\n",
    "    # calculate the correlation with y for each feature\n",
    "    for i in df.columns.tolist():\n",
    "        cor = np.corrcoef(df[i], labels)[0, 1]\n",
    "        cor_list.append(cor)\n",
    "    # replace NaN with 0\n",
    "    cor_list = [0 if np.isnan(i) else i for i in cor_list]\n",
    "    # feature name\n",
    "    cor_feature = df.iloc[:,np.argsort(np.abs(cor_list))[-int(len(cor_list) * drop_ratio):]].columns.tolist()\n",
    "    # feature selection? 0 for not select, 1 for select\n",
    "    cor_support = [True if i in cor_feature else False for i in df.columns]\n",
    "    print('Pearson : ', str(len(cor_feature)), 'selected features out of', str(len(cor_support)))\n",
    "    del df, cor_feature\n",
    "    return cor_support"
   ]
  },
  {
   "cell_type": "markdown",
   "metadata": {},
   "source": [
    "#### 3. Chi2 Selector\n",
    "**Note**\n",
    "- Scaling: yes\n",
    "- Impute missing values: yes"
   ]
  },
  {
   "cell_type": "code",
   "execution_count": 16,
   "metadata": {},
   "outputs": [],
   "source": [
    "def chi_selector(input_df, labels, drop_ratio = 0.5):\n",
    "    drop_ratio = max(0,min(drop_ratio, 1))\n",
    "    df = input_df.copy()\n",
    "    num_feats = int(len(df.columns) * drop_ratio)\n",
    "    df = impute_features(df, features ='All')    \n",
    "    df = scale_features(df)\n",
    "    selector = SelectKBest(chi2, k=num_feats)\n",
    "    selector.fit(df, labels)\n",
    "    chi_support = selector.get_support()\n",
    "    chi_feature = df.loc[:,chi_support].columns.tolist()\n",
    "    print('CHI2 : ', str(len(chi_feature)), 'selected features out of', str(len(chi_support)))\n",
    "    del df, selector, chi_feature\n",
    "    return chi_support"
   ]
  },
  {
   "cell_type": "markdown",
   "metadata": {},
   "source": [
    "#### 4. RFE Selector\n",
    "**Note**\n",
    "- Scaling: yes\n",
    "- Impute missing values: yes "
   ]
  },
  {
   "cell_type": "code",
   "execution_count": 17,
   "metadata": {},
   "outputs": [],
   "source": [
    "def rfe_selector(input_df, labels, drop_ratio = 0.5):\n",
    "    drop_ratio = max(0,min(drop_ratio, 1))\n",
    "    df = input_df.copy()\n",
    "    num_feats = int(len(df.columns) * drop_ratio)\n",
    "    df = impute_features(df, features ='All')    \n",
    "    df = scale_features(df)\n",
    "    selector = RFE(estimator=LogisticRegression(solver='saga', n_jobs=-1), n_features_to_select=num_feats, step=10, verbose=20)\n",
    "    selector.fit(df, labels)\n",
    "    rfe_support = selector.get_support()\n",
    "    rfe_feature = df.loc[:,rfe_support].columns.tolist()\n",
    "    print('RFE : ', str(len(rfe_feature)), 'selected features out of', str(len(rfe_feature)))\n",
    "    del df, selector, rfe_feature\n",
    "    return rfe_support"
   ]
  },
  {
   "cell_type": "markdown",
   "metadata": {},
   "source": [
    "#### 5. Random Forest Selector\n",
    "**Note**\n",
    "- Scaling: no\n",
    "- Impute missing values: yes"
   ]
  },
  {
   "cell_type": "code",
   "execution_count": 18,
   "metadata": {},
   "outputs": [],
   "source": [
    "def rf_selector(input_df, labels, drop_ratio = 0.5):\n",
    "    drop_ratio = max(0,min(drop_ratio, 1))\n",
    "    df = input_df.copy()\n",
    "    num_feats = int(len(df.columns) * drop_ratio)\n",
    "    df = impute_features(df, features ='All')\n",
    "    selector = SelectFromModel(RandomForestClassifier(n_estimators=150), threshold='1.25*median')\n",
    "    selector.fit(df, labels)\n",
    "    rf_support = selector.get_support()\n",
    "    rf_feature = df.loc[:,rf_support].columns.tolist()\n",
    "    print('RF : ', str(len(rf_support)), 'selected features out of', str(len(rf_feature)))\n",
    "    del df, selector, rf_feature\n",
    "    return rf_support"
   ]
  },
  {
   "cell_type": "code",
   "execution_count": 19,
   "metadata": {},
   "outputs": [],
   "source": [
    "def select_features(input_df, labels, min_votes = 3, drop_ratio = 0.5):\n",
    "    \n",
    "    df = input_df.copy()\n",
    "    \n",
    "    var_support = var_selector(df)\n",
    "    cor_support = cor_selector(df, labels, drop_ratio)\n",
    "    chi_support = chi_selector(df, labels, drop_ratio)\n",
    "    rfe_support = rfe_selector(df, labels, drop_ratio)\n",
    "    rf_support = rf_selector(df, labels, drop_ratio)\n",
    "    \n",
    "    pd.set_option('display.max_rows', None)\n",
    "    \n",
    "    # put all selection together\n",
    "    feature_selection_df = pd.DataFrame({'Feature':df.columns, 'Variance': var_support, 'Pearson':cor_support,\n",
    "                                         'Chi-2':chi_support, 'RFE':rfe_support, 'Random Forest':rf_support})\n",
    "    ## count the selected times for each feature\n",
    "    feature_selection_df['Total'] = np.sum(feature_selection_df, axis=1)\n",
    "    # display the top 100\n",
    "    feature_selection_df = feature_selection_df.sort_values(['Total','Feature'] , ascending=False)\n",
    "    \n",
    "    feature_selection_df.index = range(1, len(feature_selection_df)+1)\n",
    "    \n",
    "    del df, var_support, cor_support, chi_support, rfe_support, rf_support\n",
    "    \n",
    "    return feature_selection_df"
   ]
  },
  {
   "cell_type": "markdown",
   "metadata": {},
   "source": [
    "### Sampling "
   ]
  },
  {
   "cell_type": "code",
   "execution_count": 34,
   "metadata": {},
   "outputs": [],
   "source": [
    "def take_sample(df, labels, stratified = True):\n",
    "    df['TARGET'] = labels\n",
    "    num_samples = df.loc[df.TARGET==1].shape[0]\n",
    "    if (stratified):\n",
    "        sampling_ratio = num_samples / df.shape[0]\n",
    "        sample1 = df.loc[df.TARGET==1].sample(frac=sampling_ratio, replace=False)\n",
    "        print('label 1 sample size:', str(sample1.shape[0]))\n",
    "        sample0 = df.loc[df.TARGET==0].sample(frac=sampling_ratio, replace=False)\n",
    "        print('label 0 sample size:', str(sample0.shape[0]))\n",
    "    else:\n",
    "        sample1 = df.loc[df.TARGET==1].sample(n=num_samples, replace=False)\n",
    "        print('label 1 sample size:', str(sample1.shape[0]))\n",
    "        sample0 = df.loc[df.TARGET==0].sample(n=num_samples, replace=False)\n",
    "        print('label 0 sample size:', str(sample0.shape[0]))\n",
    "    \n",
    "    sampled_df = pd.concat([sample1, sample0], axis=0)\n",
    "    sampled_labels = sampled_df.pop('TARGET')\n",
    "    return sampled_df, sampled_labels"
   ]
  },
  {
   "cell_type": "code",
   "execution_count": 21,
   "metadata": {},
   "outputs": [],
   "source": [
    "dataFolder, outputFolder = setupFolderPaths()"
   ]
  },
  {
   "cell_type": "markdown",
   "metadata": {},
   "source": [
    "## EDA Part"
   ]
  },
  {
   "cell_type": "code",
   "execution_count": 26,
   "metadata": {},
   "outputs": [
    {
     "name": "stdout",
     "output_type": "stream",
     "text": [
      "(307511, 122)\n"
     ]
    },
    {
     "data": {
      "text/html": [
       "<div>\n",
       "<style scoped>\n",
       "    .dataframe tbody tr th:only-of-type {\n",
       "        vertical-align: middle;\n",
       "    }\n",
       "\n",
       "    .dataframe tbody tr th {\n",
       "        vertical-align: top;\n",
       "    }\n",
       "\n",
       "    .dataframe thead th {\n",
       "        text-align: right;\n",
       "    }\n",
       "</style>\n",
       "<table border=\"1\" class=\"dataframe\">\n",
       "  <thead>\n",
       "    <tr style=\"text-align: right;\">\n",
       "      <th></th>\n",
       "      <th>SK_ID_CURR</th>\n",
       "      <th>TARGET</th>\n",
       "      <th>NAME_CONTRACT_TYPE</th>\n",
       "      <th>CODE_GENDER</th>\n",
       "      <th>FLAG_OWN_CAR</th>\n",
       "      <th>FLAG_OWN_REALTY</th>\n",
       "      <th>CNT_CHILDREN</th>\n",
       "      <th>AMT_INCOME_TOTAL</th>\n",
       "      <th>AMT_CREDIT</th>\n",
       "      <th>AMT_ANNUITY</th>\n",
       "      <th>...</th>\n",
       "      <th>FLAG_DOCUMENT_18</th>\n",
       "      <th>FLAG_DOCUMENT_19</th>\n",
       "      <th>FLAG_DOCUMENT_20</th>\n",
       "      <th>FLAG_DOCUMENT_21</th>\n",
       "      <th>AMT_REQ_CREDIT_BUREAU_HOUR</th>\n",
       "      <th>AMT_REQ_CREDIT_BUREAU_DAY</th>\n",
       "      <th>AMT_REQ_CREDIT_BUREAU_WEEK</th>\n",
       "      <th>AMT_REQ_CREDIT_BUREAU_MON</th>\n",
       "      <th>AMT_REQ_CREDIT_BUREAU_QRT</th>\n",
       "      <th>AMT_REQ_CREDIT_BUREAU_YEAR</th>\n",
       "    </tr>\n",
       "  </thead>\n",
       "  <tbody>\n",
       "    <tr>\n",
       "      <th>0</th>\n",
       "      <td>100002</td>\n",
       "      <td>1</td>\n",
       "      <td>Cash loans</td>\n",
       "      <td>M</td>\n",
       "      <td>N</td>\n",
       "      <td>Y</td>\n",
       "      <td>0</td>\n",
       "      <td>202500.0</td>\n",
       "      <td>406597.5</td>\n",
       "      <td>24700.5</td>\n",
       "      <td>...</td>\n",
       "      <td>0</td>\n",
       "      <td>0</td>\n",
       "      <td>0</td>\n",
       "      <td>0</td>\n",
       "      <td>0.0</td>\n",
       "      <td>0.0</td>\n",
       "      <td>0.0</td>\n",
       "      <td>0.0</td>\n",
       "      <td>0.0</td>\n",
       "      <td>1.0</td>\n",
       "    </tr>\n",
       "    <tr>\n",
       "      <th>1</th>\n",
       "      <td>100003</td>\n",
       "      <td>0</td>\n",
       "      <td>Cash loans</td>\n",
       "      <td>F</td>\n",
       "      <td>N</td>\n",
       "      <td>N</td>\n",
       "      <td>0</td>\n",
       "      <td>270000.0</td>\n",
       "      <td>1293502.5</td>\n",
       "      <td>35698.5</td>\n",
       "      <td>...</td>\n",
       "      <td>0</td>\n",
       "      <td>0</td>\n",
       "      <td>0</td>\n",
       "      <td>0</td>\n",
       "      <td>0.0</td>\n",
       "      <td>0.0</td>\n",
       "      <td>0.0</td>\n",
       "      <td>0.0</td>\n",
       "      <td>0.0</td>\n",
       "      <td>0.0</td>\n",
       "    </tr>\n",
       "    <tr>\n",
       "      <th>2</th>\n",
       "      <td>100004</td>\n",
       "      <td>0</td>\n",
       "      <td>Revolving loans</td>\n",
       "      <td>M</td>\n",
       "      <td>Y</td>\n",
       "      <td>Y</td>\n",
       "      <td>0</td>\n",
       "      <td>67500.0</td>\n",
       "      <td>135000.0</td>\n",
       "      <td>6750.0</td>\n",
       "      <td>...</td>\n",
       "      <td>0</td>\n",
       "      <td>0</td>\n",
       "      <td>0</td>\n",
       "      <td>0</td>\n",
       "      <td>0.0</td>\n",
       "      <td>0.0</td>\n",
       "      <td>0.0</td>\n",
       "      <td>0.0</td>\n",
       "      <td>0.0</td>\n",
       "      <td>0.0</td>\n",
       "    </tr>\n",
       "    <tr>\n",
       "      <th>3</th>\n",
       "      <td>100006</td>\n",
       "      <td>0</td>\n",
       "      <td>Cash loans</td>\n",
       "      <td>F</td>\n",
       "      <td>N</td>\n",
       "      <td>Y</td>\n",
       "      <td>0</td>\n",
       "      <td>135000.0</td>\n",
       "      <td>312682.5</td>\n",
       "      <td>29686.5</td>\n",
       "      <td>...</td>\n",
       "      <td>0</td>\n",
       "      <td>0</td>\n",
       "      <td>0</td>\n",
       "      <td>0</td>\n",
       "      <td>NaN</td>\n",
       "      <td>NaN</td>\n",
       "      <td>NaN</td>\n",
       "      <td>NaN</td>\n",
       "      <td>NaN</td>\n",
       "      <td>NaN</td>\n",
       "    </tr>\n",
       "    <tr>\n",
       "      <th>4</th>\n",
       "      <td>100007</td>\n",
       "      <td>0</td>\n",
       "      <td>Cash loans</td>\n",
       "      <td>M</td>\n",
       "      <td>N</td>\n",
       "      <td>Y</td>\n",
       "      <td>0</td>\n",
       "      <td>121500.0</td>\n",
       "      <td>513000.0</td>\n",
       "      <td>21865.5</td>\n",
       "      <td>...</td>\n",
       "      <td>0</td>\n",
       "      <td>0</td>\n",
       "      <td>0</td>\n",
       "      <td>0</td>\n",
       "      <td>0.0</td>\n",
       "      <td>0.0</td>\n",
       "      <td>0.0</td>\n",
       "      <td>0.0</td>\n",
       "      <td>0.0</td>\n",
       "      <td>0.0</td>\n",
       "    </tr>\n",
       "  </tbody>\n",
       "</table>\n",
       "<p>5 rows × 122 columns</p>\n",
       "</div>"
      ],
      "text/plain": [
       "   SK_ID_CURR  TARGET NAME_CONTRACT_TYPE CODE_GENDER FLAG_OWN_CAR  \\\n",
       "0      100002       1         Cash loans           M            N   \n",
       "1      100003       0         Cash loans           F            N   \n",
       "2      100004       0    Revolving loans           M            Y   \n",
       "3      100006       0         Cash loans           F            N   \n",
       "4      100007       0         Cash loans           M            N   \n",
       "\n",
       "  FLAG_OWN_REALTY  CNT_CHILDREN  AMT_INCOME_TOTAL  AMT_CREDIT  AMT_ANNUITY  \\\n",
       "0               Y             0          202500.0    406597.5      24700.5   \n",
       "1               N             0          270000.0   1293502.5      35698.5   \n",
       "2               Y             0           67500.0    135000.0       6750.0   \n",
       "3               Y             0          135000.0    312682.5      29686.5   \n",
       "4               Y             0          121500.0    513000.0      21865.5   \n",
       "\n",
       "              ...              FLAG_DOCUMENT_18 FLAG_DOCUMENT_19  \\\n",
       "0             ...                             0                0   \n",
       "1             ...                             0                0   \n",
       "2             ...                             0                0   \n",
       "3             ...                             0                0   \n",
       "4             ...                             0                0   \n",
       "\n",
       "  FLAG_DOCUMENT_20 FLAG_DOCUMENT_21 AMT_REQ_CREDIT_BUREAU_HOUR  \\\n",
       "0                0                0                        0.0   \n",
       "1                0                0                        0.0   \n",
       "2                0                0                        0.0   \n",
       "3                0                0                        NaN   \n",
       "4                0                0                        0.0   \n",
       "\n",
       "  AMT_REQ_CREDIT_BUREAU_DAY  AMT_REQ_CREDIT_BUREAU_WEEK  \\\n",
       "0                       0.0                         0.0   \n",
       "1                       0.0                         0.0   \n",
       "2                       0.0                         0.0   \n",
       "3                       NaN                         NaN   \n",
       "4                       0.0                         0.0   \n",
       "\n",
       "   AMT_REQ_CREDIT_BUREAU_MON  AMT_REQ_CREDIT_BUREAU_QRT  \\\n",
       "0                        0.0                        0.0   \n",
       "1                        0.0                        0.0   \n",
       "2                        0.0                        0.0   \n",
       "3                        NaN                        NaN   \n",
       "4                        0.0                        0.0   \n",
       "\n",
       "   AMT_REQ_CREDIT_BUREAU_YEAR  \n",
       "0                         1.0  \n",
       "1                         0.0  \n",
       "2                         0.0  \n",
       "3                         NaN  \n",
       "4                         0.0  \n",
       "\n",
       "[5 rows x 122 columns]"
      ]
     },
     "execution_count": 26,
     "metadata": {},
     "output_type": "execute_result"
    }
   ],
   "source": [
    "#Read trining input file\n",
    "input_df = readFile(dataFolder + '\\\\application_train.csv')\n",
    "print(input_df.shape)\n",
    "input_df.head()"
   ]
  },
  {
   "cell_type": "code",
   "execution_count": 4,
   "metadata": {
    "collapsed": true
   },
   "outputs": [
    {
     "name": "stdout",
     "output_type": "stream",
     "text": [
      "(48744, 121)\n"
     ]
    },
    {
     "data": {
      "text/html": [
       "<div>\n",
       "<style scoped>\n",
       "    .dataframe tbody tr th:only-of-type {\n",
       "        vertical-align: middle;\n",
       "    }\n",
       "\n",
       "    .dataframe tbody tr th {\n",
       "        vertical-align: top;\n",
       "    }\n",
       "\n",
       "    .dataframe thead th {\n",
       "        text-align: right;\n",
       "    }\n",
       "</style>\n",
       "<table border=\"1\" class=\"dataframe\">\n",
       "  <thead>\n",
       "    <tr style=\"text-align: right;\">\n",
       "      <th></th>\n",
       "      <th>SK_ID_CURR</th>\n",
       "      <th>NAME_CONTRACT_TYPE</th>\n",
       "      <th>CODE_GENDER</th>\n",
       "      <th>FLAG_OWN_CAR</th>\n",
       "      <th>FLAG_OWN_REALTY</th>\n",
       "      <th>CNT_CHILDREN</th>\n",
       "      <th>AMT_INCOME_TOTAL</th>\n",
       "      <th>AMT_CREDIT</th>\n",
       "      <th>AMT_ANNUITY</th>\n",
       "      <th>AMT_GOODS_PRICE</th>\n",
       "      <th>...</th>\n",
       "      <th>FLAG_DOCUMENT_18</th>\n",
       "      <th>FLAG_DOCUMENT_19</th>\n",
       "      <th>FLAG_DOCUMENT_20</th>\n",
       "      <th>FLAG_DOCUMENT_21</th>\n",
       "      <th>AMT_REQ_CREDIT_BUREAU_HOUR</th>\n",
       "      <th>AMT_REQ_CREDIT_BUREAU_DAY</th>\n",
       "      <th>AMT_REQ_CREDIT_BUREAU_WEEK</th>\n",
       "      <th>AMT_REQ_CREDIT_BUREAU_MON</th>\n",
       "      <th>AMT_REQ_CREDIT_BUREAU_QRT</th>\n",
       "      <th>AMT_REQ_CREDIT_BUREAU_YEAR</th>\n",
       "    </tr>\n",
       "  </thead>\n",
       "  <tbody>\n",
       "    <tr>\n",
       "      <th>0</th>\n",
       "      <td>100001</td>\n",
       "      <td>Cash loans</td>\n",
       "      <td>F</td>\n",
       "      <td>N</td>\n",
       "      <td>Y</td>\n",
       "      <td>0</td>\n",
       "      <td>135000.0</td>\n",
       "      <td>568800.0</td>\n",
       "      <td>20560.5</td>\n",
       "      <td>450000.0</td>\n",
       "      <td>...</td>\n",
       "      <td>0</td>\n",
       "      <td>0</td>\n",
       "      <td>0</td>\n",
       "      <td>0</td>\n",
       "      <td>0.0</td>\n",
       "      <td>0.0</td>\n",
       "      <td>0.0</td>\n",
       "      <td>0.0</td>\n",
       "      <td>0.0</td>\n",
       "      <td>0.0</td>\n",
       "    </tr>\n",
       "    <tr>\n",
       "      <th>1</th>\n",
       "      <td>100005</td>\n",
       "      <td>Cash loans</td>\n",
       "      <td>M</td>\n",
       "      <td>N</td>\n",
       "      <td>Y</td>\n",
       "      <td>0</td>\n",
       "      <td>99000.0</td>\n",
       "      <td>222768.0</td>\n",
       "      <td>17370.0</td>\n",
       "      <td>180000.0</td>\n",
       "      <td>...</td>\n",
       "      <td>0</td>\n",
       "      <td>0</td>\n",
       "      <td>0</td>\n",
       "      <td>0</td>\n",
       "      <td>0.0</td>\n",
       "      <td>0.0</td>\n",
       "      <td>0.0</td>\n",
       "      <td>0.0</td>\n",
       "      <td>0.0</td>\n",
       "      <td>3.0</td>\n",
       "    </tr>\n",
       "    <tr>\n",
       "      <th>2</th>\n",
       "      <td>100013</td>\n",
       "      <td>Cash loans</td>\n",
       "      <td>M</td>\n",
       "      <td>Y</td>\n",
       "      <td>Y</td>\n",
       "      <td>0</td>\n",
       "      <td>202500.0</td>\n",
       "      <td>663264.0</td>\n",
       "      <td>69777.0</td>\n",
       "      <td>630000.0</td>\n",
       "      <td>...</td>\n",
       "      <td>0</td>\n",
       "      <td>0</td>\n",
       "      <td>0</td>\n",
       "      <td>0</td>\n",
       "      <td>0.0</td>\n",
       "      <td>0.0</td>\n",
       "      <td>0.0</td>\n",
       "      <td>0.0</td>\n",
       "      <td>1.0</td>\n",
       "      <td>4.0</td>\n",
       "    </tr>\n",
       "    <tr>\n",
       "      <th>3</th>\n",
       "      <td>100028</td>\n",
       "      <td>Cash loans</td>\n",
       "      <td>F</td>\n",
       "      <td>N</td>\n",
       "      <td>Y</td>\n",
       "      <td>2</td>\n",
       "      <td>315000.0</td>\n",
       "      <td>1575000.0</td>\n",
       "      <td>49018.5</td>\n",
       "      <td>1575000.0</td>\n",
       "      <td>...</td>\n",
       "      <td>0</td>\n",
       "      <td>0</td>\n",
       "      <td>0</td>\n",
       "      <td>0</td>\n",
       "      <td>0.0</td>\n",
       "      <td>0.0</td>\n",
       "      <td>0.0</td>\n",
       "      <td>0.0</td>\n",
       "      <td>0.0</td>\n",
       "      <td>3.0</td>\n",
       "    </tr>\n",
       "    <tr>\n",
       "      <th>4</th>\n",
       "      <td>100038</td>\n",
       "      <td>Cash loans</td>\n",
       "      <td>M</td>\n",
       "      <td>Y</td>\n",
       "      <td>N</td>\n",
       "      <td>1</td>\n",
       "      <td>180000.0</td>\n",
       "      <td>625500.0</td>\n",
       "      <td>32067.0</td>\n",
       "      <td>625500.0</td>\n",
       "      <td>...</td>\n",
       "      <td>0</td>\n",
       "      <td>0</td>\n",
       "      <td>0</td>\n",
       "      <td>0</td>\n",
       "      <td>NaN</td>\n",
       "      <td>NaN</td>\n",
       "      <td>NaN</td>\n",
       "      <td>NaN</td>\n",
       "      <td>NaN</td>\n",
       "      <td>NaN</td>\n",
       "    </tr>\n",
       "  </tbody>\n",
       "</table>\n",
       "<p>5 rows × 121 columns</p>\n",
       "</div>"
      ],
      "text/plain": [
       "   SK_ID_CURR NAME_CONTRACT_TYPE CODE_GENDER FLAG_OWN_CAR FLAG_OWN_REALTY  \\\n",
       "0      100001         Cash loans           F            N               Y   \n",
       "1      100005         Cash loans           M            N               Y   \n",
       "2      100013         Cash loans           M            Y               Y   \n",
       "3      100028         Cash loans           F            N               Y   \n",
       "4      100038         Cash loans           M            Y               N   \n",
       "\n",
       "   CNT_CHILDREN  AMT_INCOME_TOTAL  AMT_CREDIT  AMT_ANNUITY  AMT_GOODS_PRICE  \\\n",
       "0             0          135000.0    568800.0      20560.5         450000.0   \n",
       "1             0           99000.0    222768.0      17370.0         180000.0   \n",
       "2             0          202500.0    663264.0      69777.0         630000.0   \n",
       "3             2          315000.0   1575000.0      49018.5        1575000.0   \n",
       "4             1          180000.0    625500.0      32067.0         625500.0   \n",
       "\n",
       "              ...             FLAG_DOCUMENT_18 FLAG_DOCUMENT_19  \\\n",
       "0             ...                            0                0   \n",
       "1             ...                            0                0   \n",
       "2             ...                            0                0   \n",
       "3             ...                            0                0   \n",
       "4             ...                            0                0   \n",
       "\n",
       "  FLAG_DOCUMENT_20 FLAG_DOCUMENT_21 AMT_REQ_CREDIT_BUREAU_HOUR  \\\n",
       "0                0                0                        0.0   \n",
       "1                0                0                        0.0   \n",
       "2                0                0                        0.0   \n",
       "3                0                0                        0.0   \n",
       "4                0                0                        NaN   \n",
       "\n",
       "   AMT_REQ_CREDIT_BUREAU_DAY  AMT_REQ_CREDIT_BUREAU_WEEK  \\\n",
       "0                        0.0                         0.0   \n",
       "1                        0.0                         0.0   \n",
       "2                        0.0                         0.0   \n",
       "3                        0.0                         0.0   \n",
       "4                        NaN                         NaN   \n",
       "\n",
       "   AMT_REQ_CREDIT_BUREAU_MON  AMT_REQ_CREDIT_BUREAU_QRT  \\\n",
       "0                        0.0                        0.0   \n",
       "1                        0.0                        0.0   \n",
       "2                        0.0                        1.0   \n",
       "3                        0.0                        0.0   \n",
       "4                        NaN                        NaN   \n",
       "\n",
       "   AMT_REQ_CREDIT_BUREAU_YEAR  \n",
       "0                         0.0  \n",
       "1                         3.0  \n",
       "2                         4.0  \n",
       "3                         3.0  \n",
       "4                         NaN  \n",
       "\n",
       "[5 rows x 121 columns]"
      ]
     },
     "execution_count": 4,
     "metadata": {},
     "output_type": "execute_result"
    }
   ],
   "source": [
    "#Read test file data\n",
    "app_test = readFile(dataFolder + '\\\\application_test.csv')\n",
    "print(app_test.shape)\n",
    "app_test.head()"
   ]
  },
  {
   "cell_type": "markdown",
   "metadata": {},
   "source": [
    "## Check the difference in test and train file"
   ]
  },
  {
   "cell_type": "code",
   "execution_count": 14,
   "metadata": {
    "collapsed": true
   },
   "outputs": [
    {
     "data": {
      "text/plain": [
       "Index(['TARGET'], dtype='object')"
      ]
     },
     "execution_count": 14,
     "metadata": {},
     "output_type": "execute_result"
    }
   ],
   "source": [
    "input_df.columns.difference(app_test.columns)"
   ]
  },
  {
   "cell_type": "code",
   "execution_count": 5,
   "metadata": {
    "collapsed": true
   },
   "outputs": [
    {
     "data": {
      "text/plain": [
       "float64    65\n",
       "int64      41\n",
       "object     16\n",
       "dtype: int64"
      ]
     },
     "execution_count": 5,
     "metadata": {},
     "output_type": "execute_result"
    }
   ],
   "source": [
    "input_df.dtypes.value_counts()"
   ]
  },
  {
   "cell_type": "markdown",
   "metadata": {},
   "source": [
    "## Check data imbalance"
   ]
  },
  {
   "cell_type": "code",
   "execution_count": 7,
   "metadata": {
    "collapsed": true
   },
   "outputs": [
    {
     "data": {
      "text/html": [
       "<div>\n",
       "<style scoped>\n",
       "    .dataframe tbody tr th:only-of-type {\n",
       "        vertical-align: middle;\n",
       "    }\n",
       "\n",
       "    .dataframe tbody tr th {\n",
       "        vertical-align: top;\n",
       "    }\n",
       "\n",
       "    .dataframe thead th {\n",
       "        text-align: right;\n",
       "    }\n",
       "</style>\n",
       "<table border=\"1\" class=\"dataframe\">\n",
       "  <thead>\n",
       "    <tr style=\"text-align: right;\">\n",
       "      <th></th>\n",
       "      <th>Value</th>\n",
       "      <th>Count</th>\n",
       "      <th>% of Total Values</th>\n",
       "    </tr>\n",
       "  </thead>\n",
       "  <tbody>\n",
       "    <tr>\n",
       "      <th>0</th>\n",
       "      <td>0</td>\n",
       "      <td>282686</td>\n",
       "      <td>91.927118</td>\n",
       "    </tr>\n",
       "    <tr>\n",
       "      <th>1</th>\n",
       "      <td>1</td>\n",
       "      <td>24825</td>\n",
       "      <td>8.072882</td>\n",
       "    </tr>\n",
       "  </tbody>\n",
       "</table>\n",
       "</div>"
      ],
      "text/plain": [
       "   Value   Count  % of Total Values\n",
       "0      0  282686          91.927118\n",
       "1      1   24825           8.072882"
      ]
     },
     "execution_count": 7,
     "metadata": {},
     "output_type": "execute_result"
    }
   ],
   "source": [
    "value_df = input_df['TARGET'].value_counts().to_frame().reset_index()\n",
    "value_df.columns = ['Value', 'Count']\n",
    "value_df['% of Total Values'] = [100 * value_df['Count'][0] / input_df.shape[0], 100 * value_df['Count'][1] / input_df.shape[0]]\n",
    "value_df.head()"
   ]
  },
  {
   "cell_type": "code",
   "execution_count": 8,
   "metadata": {},
   "outputs": [
    {
     "data": {
      "image/png": "[encoded data removed]",
      "text/plain": [
       "<Figure size 360x360 with 1 Axes>"
      ]
     },
     "metadata": {},
     "output_type": "display_data"
    }
   ],
   "source": [
    "#Generate pie plot and save it in outputFolder\n",
    "figure = value_df.plot.pie(y='% of Total Values', figsize= (5,5), explode=(0,0.1), autopct='%.1f%%').get_figure()\n",
    "figure.savefig(outputFolder + os.sep + 'DataImbalance.png', dpi=200, format='png')"
   ]
  },
  {
   "cell_type": "markdown",
   "metadata": {},
   "source": [
    "#### Save top and bottom 10 values in a csv. "
   ]
  },
  {
   "cell_type": "code",
   "execution_count": 14,
   "metadata": {
    "collapsed": true
   },
   "outputs": [
    {
     "name": "stdout",
     "output_type": "stream",
     "text": [
      "Your selected dataframe has 122 columns.\n",
      "There are 67 columns that have missing values.\n"
     ]
    }
   ],
   "source": [
    "# Missing values statistics\n",
    "missing_values = compute_missing_values(input_df)\n",
    "missing_values.head(10).to_csv(outputFolder + os.sep + 'Top10MissingValues.csv')\n",
    "missing_values.tail(10).to_csv(outputFolder + os.sep + 'Bottom10MissingValues.csv')"
   ]
  },
  {
   "cell_type": "code",
   "execution_count": null,
   "metadata": {
    "collapsed": true
   },
   "outputs": [],
   "source": []
  },
  {
   "cell_type": "markdown",
   "metadata": {},
   "source": [
    "## Outliers detection and handling"
   ]
  },
  {
   "cell_type": "code",
   "execution_count": 18,
   "metadata": {
    "collapsed": true
   },
   "outputs": [
    {
     "name": "stdout",
     "output_type": "stream",
     "text": [
      "Joined train rows 307511 with test rows 48744. New total 356255\n"
     ]
    }
   ],
   "source": [
    "#join train and test data sets for better visualization of outliers\n",
    "training_df = readFile(dataFolder + '\\\\application_train.csv')\n",
    "test_df = readFile(dataFolder + '\\\\application_test.csv')\n",
    "combined_df = training_df.append(test_df)\n",
    "print('Joined train rows {} with test rows {}. New total {}'.format(input_df.shape[0], app_test.shape[0],combined_df.shape[0]))"
   ]
  },
  {
   "cell_type": "code",
   "execution_count": 21,
   "metadata": {
    "collapsed": true
   },
   "outputs": [],
   "source": [
    "plot_feature_distribution(combined_df, 'DAYS_EMPLOYED')"
   ]
  },
  {
   "cell_type": "code",
   "execution_count": 24,
   "metadata": {
    "collapsed": true
   },
   "outputs": [
    {
     "data": {
      "image/png": "[encoded data removed]",
      "text/plain": [
       "<Figure size 1080x288 with 1 Axes>"
      ]
     },
     "metadata": {},
     "output_type": "display_data"
    }
   ],
   "source": [
    "combined_df['DAYS_EMPLOYED'] = combined_df['DAYS_EMPLOYED'].map(lambda x: x if x <= 0 else np.nan)\n",
    "plot_feature_distribution(combined_df, 'DAYS_EMPLOYED', '_corrected')"
   ]
  },
  {
   "cell_type": "code",
   "execution_count": 27,
   "metadata": {
    "collapsed": true
   },
   "outputs": [
    {
     "data": {
      "text/plain": [
       "7"
      ]
     },
     "execution_count": 27,
     "metadata": {},
     "output_type": "execute_result"
    }
   ],
   "source": [
    "#Remove combined data frame to free up memory\n",
    "del combined_df\n",
    "gc.collect()"
   ]
  },
  {
   "cell_type": "code",
   "execution_count": 75,
   "metadata": {
    "collapsed": true
   },
   "outputs": [],
   "source": [
    "input_df = readFile(dataFolder + '\\\\application_train.csv')\n",
    "input_df = replace_outliers(input_df)"
   ]
  },
  {
   "cell_type": "markdown",
   "metadata": {},
   "source": [
    "## Data set version 1: with missing values as NaN\n",
    "### Data set version 1_a: Null values without categorical features"
   ]
  },
  {
   "cell_type": "code",
   "execution_count": 118,
   "metadata": {},
   "outputs": [
    {
     "name": "stdout",
     "output_type": "stream",
     "text": [
      "Your selected dataframe has 122 columns.\n",
      "There are 67 columns that have missing values.\n",
      "41 columns have been dropped from input data set\n",
      "<class 'pandas.core.frame.DataFrame'>\n",
      "Int64Index: 307507 entries, 0 to 307510\n",
      "Data columns (total 42 columns):\n",
      "SK_ID_CURR                      307507 non-null int64\n",
      "TARGET                          307507 non-null int64\n",
      "CNT_CHILDREN                    307507 non-null int64\n",
      "AMT_INCOME_TOTAL                307506 non-null float64\n",
      "AMT_CREDIT                      307507 non-null float64\n",
      "AMT_ANNUITY                     307495 non-null float64\n",
      "AMT_GOODS_PRICE                 307229 non-null float64\n",
      "REGION_POPULATION_RELATIVE      307507 non-null float64\n",
      "DAYS_BIRTH                      307507 non-null int64\n",
      "DAYS_EMPLOYED                   252133 non-null float64\n",
      "DAYS_REGISTRATION               307507 non-null float64\n",
      "DAYS_ID_PUBLISH                 307507 non-null int64\n",
      "CNT_FAM_MEMBERS                 307505 non-null float64\n",
      "REGION_RATING_CLIENT            307507 non-null int64\n",
      "REGION_RATING_CLIENT_W_CITY     307507 non-null int64\n",
      "HOUR_APPR_PROCESS_START         307507 non-null int64\n",
      "REG_REGION_NOT_LIVE_REGION      307507 non-null int64\n",
      "REG_REGION_NOT_WORK_REGION      307507 non-null int64\n",
      "LIVE_REGION_NOT_WORK_REGION     307507 non-null int64\n",
      "REG_CITY_NOT_LIVE_CITY          307507 non-null int64\n",
      "REG_CITY_NOT_WORK_CITY          307507 non-null int64\n",
      "LIVE_CITY_NOT_WORK_CITY         307507 non-null int64\n",
      "EXT_SOURCE_2                    306847 non-null float64\n",
      "EXT_SOURCE_3                    246542 non-null float64\n",
      "YEARS_BEGINEXPLUATATION_AVG     157501 non-null float64\n",
      "FLOORSMAX_AVG                   154488 non-null float64\n",
      "YEARS_BEGINEXPLUATATION_MODE    157501 non-null float64\n",
      "FLOORSMAX_MODE                  154488 non-null float64\n",
      "YEARS_BEGINEXPLUATATION_MEDI    157501 non-null float64\n",
      "FLOORSMAX_MEDI                  154488 non-null float64\n",
      "TOTALAREA_MODE                  159077 non-null float64\n",
      "OBS_30_CNT_SOCIAL_CIRCLE        306484 non-null float64\n",
      "DEF_30_CNT_SOCIAL_CIRCLE        306486 non-null float64\n",
      "OBS_60_CNT_SOCIAL_CIRCLE        306485 non-null float64\n",
      "DEF_60_CNT_SOCIAL_CIRCLE        306486 non-null float64\n",
      "DAYS_LAST_PHONE_CHANGE          307506 non-null float64\n",
      "AMT_REQ_CREDIT_BUREAU_HOUR      265988 non-null float64\n",
      "AMT_REQ_CREDIT_BUREAU_DAY       265988 non-null float64\n",
      "AMT_REQ_CREDIT_BUREAU_WEEK      265988 non-null float64\n",
      "AMT_REQ_CREDIT_BUREAU_MON       265988 non-null float64\n",
      "AMT_REQ_CREDIT_BUREAU_QRT       265986 non-null float64\n",
      "AMT_REQ_CREDIT_BUREAU_YEAR      265988 non-null float64\n",
      "dtypes: float64(28), int64(14)\n",
      "memory usage: 100.9 MB\n"
     ]
    },
    {
     "data": {
      "text/plain": [
       "28"
      ]
     },
     "execution_count": 118,
     "metadata": {},
     "output_type": "execute_result"
    }
   ],
   "source": [
    "#Version one with null values included and no categorical features.\n",
    "# Read Training data\n",
    "input_df = readFile(dataFolder + '\\\\application_train.csv')\n",
    "input_df = replace_outliers(input_df)\n",
    "categorical_feats, floatingPoint_feats, bool_feats, integer_feats = identify_feature_types(input_df,\n",
    "                                                                                        ['TARGET', 'SK_ID_CURR', 'Unnamed :0'])\n",
    "input_df = drop_features(input_df, categorical_feats + bool_feats)\n",
    "\n",
    "input_df.to_csv(outputFolder + '\\\\DataSetVersion1_a.csv')\n",
    "input_df.info()\n",
    "del input_df, categorical_feats, floatingPoint_feats, bool_feats, integer_feats\n",
    "gc.collect()"
   ]
  },
  {
   "cell_type": "markdown",
   "metadata": {},
   "source": [
    "### Data set version 1_b: Null values with categorical features OHE"
   ]
  },
  {
   "cell_type": "code",
   "execution_count": 119,
   "metadata": {},
   "outputs": [
    {
     "name": "stdout",
     "output_type": "stream",
     "text": [
      "Your selected dataframe has 122 columns.\n",
      "There are 67 columns that have missing values.\n",
      "41 columns have been dropped from input data set\n",
      "<class 'pandas.core.frame.DataFrame'>\n",
      "Int64Index: 307507 entries, 0 to 307510\n",
      "Columns: 206 entries, SK_ID_CURR to EMERGENCYSTATE_MODE_nan\n",
      "dtypes: float64(28), int64(178)\n",
      "memory usage: 485.6 MB\n"
     ]
    },
    {
     "data": {
      "text/plain": [
       "35"
      ]
     },
     "execution_count": 119,
     "metadata": {},
     "output_type": "execute_result"
    }
   ],
   "source": [
    "# Read Training data\n",
    "input_df = readFile(dataFolder + '\\\\application_train.csv')\n",
    "input_df = replace_outliers(input_df)\n",
    "categorical_feats, floatingPoint_feats, bool_feats, integer_feats = identify_feature_types(input_df,\n",
    "                                                                                        ['TARGET', 'SK_ID_CURR', 'Unnamed :0'])\n",
    "\n",
    "input_df = pd.get_dummies(input_df, columns=categorical_feats, dtype=np.int64, dummy_na= True)\n",
    "\n",
    "input_df.info()\n",
    "input_df.to_csv(outputFolder + '\\\\DataSetVersion1_b.csv')\n",
    "del input_df, categorical_feats, floatingPoint_feats, bool_feats, integer_feats\n",
    "gc.collect()"
   ]
  },
  {
   "cell_type": "markdown",
   "metadata": {},
   "source": [
    "### Data set version 1_c: Null values with categorical feature WOE encoded"
   ]
  },
  {
   "cell_type": "code",
   "execution_count": 120,
   "metadata": {},
   "outputs": [
    {
     "name": "stdout",
     "output_type": "stream",
     "text": [
      "Your selected dataframe has 122 columns.\n",
      "There are 67 columns that have missing values.\n",
      "41 columns have been dropped from input data set\n",
      "<class 'pandas.core.frame.DataFrame'>\n",
      "Int64Index: 307507 entries, 0 to 307510\n",
      "Data columns (total 81 columns):\n",
      "SK_ID_CURR                      307507 non-null int64\n",
      "TARGET                          307507 non-null int64\n",
      "NAME_CONTRACT_TYPE              307507 non-null float64\n",
      "CODE_GENDER                     307507 non-null float64\n",
      "FLAG_OWN_CAR                    307507 non-null float64\n",
      "FLAG_OWN_REALTY                 307507 non-null float64\n",
      "CNT_CHILDREN                    307507 non-null int64\n",
      "AMT_INCOME_TOTAL                307506 non-null float64\n",
      "AMT_CREDIT                      307507 non-null float64\n",
      "AMT_ANNUITY                     307495 non-null float64\n",
      "AMT_GOODS_PRICE                 307229 non-null float64\n",
      "NAME_TYPE_SUITE                 306215 non-null float64\n",
      "NAME_INCOME_TYPE                307507 non-null float64\n",
      "NAME_EDUCATION_TYPE             307507 non-null float64\n",
      "NAME_FAMILY_STATUS              307507 non-null float64\n",
      "NAME_HOUSING_TYPE               307507 non-null float64\n",
      "REGION_POPULATION_RELATIVE      307507 non-null float64\n",
      "DAYS_BIRTH                      307507 non-null int64\n",
      "DAYS_EMPLOYED                   252133 non-null float64\n",
      "DAYS_REGISTRATION               307507 non-null float64\n",
      "DAYS_ID_PUBLISH                 307507 non-null int64\n",
      "FLAG_MOBIL                      307507 non-null int64\n",
      "FLAG_EMP_PHONE                  307507 non-null int64\n",
      "FLAG_WORK_PHONE                 307507 non-null int64\n",
      "FLAG_CONT_MOBILE                307507 non-null int64\n",
      "FLAG_PHONE                      307507 non-null int64\n",
      "FLAG_EMAIL                      307507 non-null int64\n",
      "OCCUPATION_TYPE                 211118 non-null float64\n",
      "CNT_FAM_MEMBERS                 307505 non-null float64\n",
      "REGION_RATING_CLIENT            307507 non-null int64\n",
      "REGION_RATING_CLIENT_W_CITY     307507 non-null int64\n",
      "WEEKDAY_APPR_PROCESS_START      307507 non-null float64\n",
      "HOUR_APPR_PROCESS_START         307507 non-null int64\n",
      "REG_REGION_NOT_LIVE_REGION      307507 non-null int64\n",
      "REG_REGION_NOT_WORK_REGION      307507 non-null int64\n",
      "LIVE_REGION_NOT_WORK_REGION     307507 non-null int64\n",
      "REG_CITY_NOT_LIVE_CITY          307507 non-null int64\n",
      "REG_CITY_NOT_WORK_CITY          307507 non-null int64\n",
      "LIVE_CITY_NOT_WORK_CITY         307507 non-null int64\n",
      "ORGANIZATION_TYPE               307507 non-null float64\n",
      "EXT_SOURCE_2                    306847 non-null float64\n",
      "EXT_SOURCE_3                    246542 non-null float64\n",
      "YEARS_BEGINEXPLUATATION_AVG     157501 non-null float64\n",
      "FLOORSMAX_AVG                   154488 non-null float64\n",
      "YEARS_BEGINEXPLUATATION_MODE    157501 non-null float64\n",
      "FLOORSMAX_MODE                  154488 non-null float64\n",
      "YEARS_BEGINEXPLUATATION_MEDI    157501 non-null float64\n",
      "FLOORSMAX_MEDI                  154488 non-null float64\n",
      "TOTALAREA_MODE                  159077 non-null float64\n",
      "EMERGENCYSTATE_MODE             161753 non-null float64\n",
      "OBS_30_CNT_SOCIAL_CIRCLE        306484 non-null float64\n",
      "DEF_30_CNT_SOCIAL_CIRCLE        306486 non-null float64\n",
      "OBS_60_CNT_SOCIAL_CIRCLE        306485 non-null float64\n",
      "DEF_60_CNT_SOCIAL_CIRCLE        306486 non-null float64\n",
      "DAYS_LAST_PHONE_CHANGE          307506 non-null float64\n",
      "FLAG_DOCUMENT_2                 307507 non-null int64\n",
      "FLAG_DOCUMENT_3                 307507 non-null int64\n",
      "FLAG_DOCUMENT_4                 307507 non-null int64\n",
      "FLAG_DOCUMENT_5                 307507 non-null int64\n",
      "FLAG_DOCUMENT_6                 307507 non-null int64\n",
      "FLAG_DOCUMENT_7                 307507 non-null int64\n",
      "FLAG_DOCUMENT_8                 307507 non-null int64\n",
      "FLAG_DOCUMENT_9                 307507 non-null int64\n",
      "FLAG_DOCUMENT_10                307507 non-null int64\n",
      "FLAG_DOCUMENT_11                307507 non-null int64\n",
      "FLAG_DOCUMENT_12                307507 non-null int64\n",
      "FLAG_DOCUMENT_13                307507 non-null int64\n",
      "FLAG_DOCUMENT_14                307507 non-null int64\n",
      "FLAG_DOCUMENT_15                307507 non-null int64\n",
      "FLAG_DOCUMENT_16                307507 non-null int64\n",
      "FLAG_DOCUMENT_17                307507 non-null int64\n",
      "FLAG_DOCUMENT_18                307507 non-null int64\n",
      "FLAG_DOCUMENT_19                307507 non-null int64\n",
      "FLAG_DOCUMENT_20                307507 non-null int64\n",
      "FLAG_DOCUMENT_21                307507 non-null int64\n",
      "AMT_REQ_CREDIT_BUREAU_HOUR      265988 non-null float64\n",
      "AMT_REQ_CREDIT_BUREAU_DAY       265988 non-null float64\n",
      "AMT_REQ_CREDIT_BUREAU_WEEK      265988 non-null float64\n",
      "AMT_REQ_CREDIT_BUREAU_MON       265988 non-null float64\n",
      "AMT_REQ_CREDIT_BUREAU_QRT       265986 non-null float64\n",
      "AMT_REQ_CREDIT_BUREAU_YEAR      265988 non-null float64\n",
      "dtypes: float64(41), int64(40)\n",
      "memory usage: 192.4 MB\n"
     ]
    },
    {
     "data": {
      "text/plain": [
       "70"
      ]
     },
     "execution_count": 120,
     "metadata": {},
     "output_type": "execute_result"
    }
   ],
   "source": [
    "# Read Training data\n",
    "input_df = readFile(dataFolder + '\\\\application_train.csv')\n",
    "input_df = replace_outliers(input_df)\n",
    "\n",
    "categorical_feats, floatingPoint_feats, bool_feats, integer_feats = identify_feature_types(input_df,\n",
    "                                                                                        ['TARGET', 'SK_ID_CURR', 'Unnamed :0'])\n",
    "for cat_feature in categorical_feats:\n",
    "    WoE_df = calculate_WOE(input_df, 'TARGET', cat_feature)\n",
    "    input_df[cat_feature] = input_df[cat_feature].replace(WoE_df.set_index('Value')['WoE'])\n",
    "\n",
    "input_df.info()\n",
    "input_df.to_csv(outputFolder + '\\\\DataSetVersion1_c.csv')\n",
    "del input_df, categorical_feats, floatingPoint_feats, bool_feats, integer_feats, WoE_df\n",
    "gc.collect()"
   ]
  },
  {
   "cell_type": "markdown",
   "metadata": {},
   "source": [
    "## Data set version 2: With missing value entries omitted\n",
    "### Data set version 2_a: Without categorical features "
   ]
  },
  {
   "cell_type": "code",
   "execution_count": 121,
   "metadata": {},
   "outputs": [
    {
     "name": "stdout",
     "output_type": "stream",
     "text": [
      "Your selected dataframe has 122 columns.\n",
      "There are 67 columns that have missing values.\n",
      "41 columns have been dropped from input data set\n",
      "<class 'pandas.core.frame.DataFrame'>\n",
      "Int64Index: 101954 entries, 0 to 307510\n",
      "Data columns (total 42 columns):\n",
      "SK_ID_CURR                      101954 non-null int64\n",
      "TARGET                          101954 non-null int64\n",
      "CNT_CHILDREN                    101954 non-null int64\n",
      "AMT_INCOME_TOTAL                101954 non-null float64\n",
      "AMT_CREDIT                      101954 non-null float64\n",
      "AMT_ANNUITY                     101954 non-null float64\n",
      "AMT_GOODS_PRICE                 101954 non-null float64\n",
      "REGION_POPULATION_RELATIVE      101954 non-null float64\n",
      "DAYS_BIRTH                      101954 non-null int64\n",
      "DAYS_EMPLOYED                   101954 non-null float64\n",
      "DAYS_REGISTRATION               101954 non-null float64\n",
      "DAYS_ID_PUBLISH                 101954 non-null int64\n",
      "CNT_FAM_MEMBERS                 101954 non-null float64\n",
      "REGION_RATING_CLIENT            101954 non-null int64\n",
      "REGION_RATING_CLIENT_W_CITY     101954 non-null int64\n",
      "HOUR_APPR_PROCESS_START         101954 non-null int64\n",
      "REG_REGION_NOT_LIVE_REGION      101954 non-null int64\n",
      "REG_REGION_NOT_WORK_REGION      101954 non-null int64\n",
      "LIVE_REGION_NOT_WORK_REGION     101954 non-null int64\n",
      "REG_CITY_NOT_LIVE_CITY          101954 non-null int64\n",
      "REG_CITY_NOT_WORK_CITY          101954 non-null int64\n",
      "LIVE_CITY_NOT_WORK_CITY         101954 non-null int64\n",
      "EXT_SOURCE_2                    101954 non-null float64\n",
      "EXT_SOURCE_3                    101954 non-null float64\n",
      "YEARS_BEGINEXPLUATATION_AVG     101954 non-null float64\n",
      "FLOORSMAX_AVG                   101954 non-null float64\n",
      "YEARS_BEGINEXPLUATATION_MODE    101954 non-null float64\n",
      "FLOORSMAX_MODE                  101954 non-null float64\n",
      "YEARS_BEGINEXPLUATATION_MEDI    101954 non-null float64\n",
      "FLOORSMAX_MEDI                  101954 non-null float64\n",
      "TOTALAREA_MODE                  101954 non-null float64\n",
      "OBS_30_CNT_SOCIAL_CIRCLE        101954 non-null float64\n",
      "DEF_30_CNT_SOCIAL_CIRCLE        101954 non-null float64\n",
      "OBS_60_CNT_SOCIAL_CIRCLE        101954 non-null float64\n",
      "DEF_60_CNT_SOCIAL_CIRCLE        101954 non-null float64\n",
      "DAYS_LAST_PHONE_CHANGE          101954 non-null float64\n",
      "AMT_REQ_CREDIT_BUREAU_HOUR      101954 non-null float64\n",
      "AMT_REQ_CREDIT_BUREAU_DAY       101954 non-null float64\n",
      "AMT_REQ_CREDIT_BUREAU_WEEK      101954 non-null float64\n",
      "AMT_REQ_CREDIT_BUREAU_MON       101954 non-null float64\n",
      "AMT_REQ_CREDIT_BUREAU_QRT       101954 non-null float64\n",
      "AMT_REQ_CREDIT_BUREAU_YEAR      101954 non-null float64\n",
      "dtypes: float64(28), int64(14)\n",
      "memory usage: 33.4 MB\n"
     ]
    },
    {
     "data": {
      "text/plain": [
       "28"
      ]
     },
     "execution_count": 121,
     "metadata": {},
     "output_type": "execute_result"
    }
   ],
   "source": [
    "#Version with no null values and categorical features.\n",
    "# Read Training data\n",
    "input_df = readFile(dataFolder + '\\\\application_train.csv')\n",
    "input_df = replace_outliers(input_df)\n",
    "categorical_feats, floatingPoint_feats, bool_feats, integer_feats = identify_feature_types(input_df,\n",
    "                                                                                        ['TARGET', 'SK_ID_CURR', 'Unnamed :0'])\n",
    "input_df = drop_features(input_df, categorical_feats + bool_feats)\n",
    "input_df = input_df.dropna()\n",
    "\n",
    "input_df.to_csv(outputFolder + '\\\\DataSetVersion2_a.csv')\n",
    "input_df.info()\n",
    "del input_df, categorical_feats, floatingPoint_feats, bool_feats, integer_feats\n",
    "gc.collect()"
   ]
  },
  {
   "cell_type": "markdown",
   "metadata": {},
   "source": [
    "### Data set version 2_b: With categorical features OHE"
   ]
  },
  {
   "cell_type": "code",
   "execution_count": 122,
   "metadata": {},
   "outputs": [
    {
     "name": "stdout",
     "output_type": "stream",
     "text": [
      "Your selected dataframe has 122 columns.\n",
      "There are 67 columns that have missing values.\n",
      "41 columns have been dropped from input data set\n",
      "<class 'pandas.core.frame.DataFrame'>\n",
      "Int64Index: 84570 entries, 0 to 307510\n",
      "Columns: 201 entries, SK_ID_CURR to EMERGENCYSTATE_MODE_nan\n",
      "dtypes: float64(28), int64(173)\n",
      "memory usage: 130.3 MB\n"
     ]
    },
    {
     "data": {
      "text/plain": [
       "35"
      ]
     },
     "execution_count": 122,
     "metadata": {},
     "output_type": "execute_result"
    }
   ],
   "source": [
    "# Read Training data\n",
    "input_df = readFile(dataFolder + '\\\\application_train.csv')\n",
    "input_df = replace_outliers(input_df)\n",
    "categorical_feats, floatingPoint_feats, bool_feats, integer_feats = identify_feature_types(input_df,\n",
    "                                                                                        ['TARGET', 'SK_ID_CURR', 'Unnamed :0'])\n",
    "input_df = input_df.dropna()\n",
    "\n",
    "input_df = pd.get_dummies(input_df, columns=categorical_feats, dtype=np.int64, dummy_na= True)\n",
    "\n",
    "input_df.info()\n",
    "input_df.to_csv(outputFolder + '\\\\DataSetVersion2_b.csv')\n",
    "del input_df, categorical_feats, floatingPoint_feats, bool_feats, integer_feats\n",
    "gc.collect()"
   ]
  },
  {
   "cell_type": "markdown",
   "metadata": {},
   "source": [
    "### Data set version 2_c: With categorical features WOE Encoded"
   ]
  },
  {
   "cell_type": "code",
   "execution_count": 123,
   "metadata": {},
   "outputs": [
    {
     "name": "stdout",
     "output_type": "stream",
     "text": [
      "Your selected dataframe has 122 columns.\n",
      "There are 67 columns that have missing values.\n",
      "41 columns have been dropped from input data set\n",
      "<class 'pandas.core.frame.DataFrame'>\n",
      "Int64Index: 84570 entries, 0 to 307510\n",
      "Data columns (total 81 columns):\n",
      "SK_ID_CURR                      84570 non-null int64\n",
      "TARGET                          84570 non-null int64\n",
      "NAME_CONTRACT_TYPE              84570 non-null float64\n",
      "CODE_GENDER                     84570 non-null float64\n",
      "FLAG_OWN_CAR                    84570 non-null float64\n",
      "FLAG_OWN_REALTY                 84570 non-null float64\n",
      "CNT_CHILDREN                    84570 non-null int64\n",
      "AMT_INCOME_TOTAL                84570 non-null float64\n",
      "AMT_CREDIT                      84570 non-null float64\n",
      "AMT_ANNUITY                     84570 non-null float64\n",
      "AMT_GOODS_PRICE                 84570 non-null float64\n",
      "NAME_TYPE_SUITE                 84570 non-null float64\n",
      "NAME_INCOME_TYPE                84570 non-null float64\n",
      "NAME_EDUCATION_TYPE             84570 non-null float64\n",
      "NAME_FAMILY_STATUS              84570 non-null float64\n",
      "NAME_HOUSING_TYPE               84570 non-null float64\n",
      "REGION_POPULATION_RELATIVE      84570 non-null float64\n",
      "DAYS_BIRTH                      84570 non-null int64\n",
      "DAYS_EMPLOYED                   84570 non-null float64\n",
      "DAYS_REGISTRATION               84570 non-null float64\n",
      "DAYS_ID_PUBLISH                 84570 non-null int64\n",
      "FLAG_MOBIL                      84570 non-null int64\n",
      "FLAG_EMP_PHONE                  84570 non-null int64\n",
      "FLAG_WORK_PHONE                 84570 non-null int64\n",
      "FLAG_CONT_MOBILE                84570 non-null int64\n",
      "FLAG_PHONE                      84570 non-null int64\n",
      "FLAG_EMAIL                      84570 non-null int64\n",
      "OCCUPATION_TYPE                 84570 non-null float64\n",
      "CNT_FAM_MEMBERS                 84570 non-null float64\n",
      "REGION_RATING_CLIENT            84570 non-null int64\n",
      "REGION_RATING_CLIENT_W_CITY     84570 non-null int64\n",
      "WEEKDAY_APPR_PROCESS_START      84570 non-null float64\n",
      "HOUR_APPR_PROCESS_START         84570 non-null int64\n",
      "REG_REGION_NOT_LIVE_REGION      84570 non-null int64\n",
      "REG_REGION_NOT_WORK_REGION      84570 non-null int64\n",
      "LIVE_REGION_NOT_WORK_REGION     84570 non-null int64\n",
      "REG_CITY_NOT_LIVE_CITY          84570 non-null int64\n",
      "REG_CITY_NOT_WORK_CITY          84570 non-null int64\n",
      "LIVE_CITY_NOT_WORK_CITY         84570 non-null int64\n",
      "ORGANIZATION_TYPE               84570 non-null float64\n",
      "EXT_SOURCE_2                    84570 non-null float64\n",
      "EXT_SOURCE_3                    84570 non-null float64\n",
      "YEARS_BEGINEXPLUATATION_AVG     84570 non-null float64\n",
      "FLOORSMAX_AVG                   84570 non-null float64\n",
      "YEARS_BEGINEXPLUATATION_MODE    84570 non-null float64\n",
      "FLOORSMAX_MODE                  84570 non-null float64\n",
      "YEARS_BEGINEXPLUATATION_MEDI    84570 non-null float64\n",
      "FLOORSMAX_MEDI                  84570 non-null float64\n",
      "TOTALAREA_MODE                  84570 non-null float64\n",
      "EMERGENCYSTATE_MODE             84570 non-null float64\n",
      "OBS_30_CNT_SOCIAL_CIRCLE        84570 non-null float64\n",
      "DEF_30_CNT_SOCIAL_CIRCLE        84570 non-null float64\n",
      "OBS_60_CNT_SOCIAL_CIRCLE        84570 non-null float64\n",
      "DEF_60_CNT_SOCIAL_CIRCLE        84570 non-null float64\n",
      "DAYS_LAST_PHONE_CHANGE          84570 non-null float64\n",
      "FLAG_DOCUMENT_2                 84570 non-null int64\n",
      "FLAG_DOCUMENT_3                 84570 non-null int64\n",
      "FLAG_DOCUMENT_4                 84570 non-null int64\n",
      "FLAG_DOCUMENT_5                 84570 non-null int64\n",
      "FLAG_DOCUMENT_6                 84570 non-null int64\n",
      "FLAG_DOCUMENT_7                 84570 non-null int64\n",
      "FLAG_DOCUMENT_8                 84570 non-null int64\n",
      "FLAG_DOCUMENT_9                 84570 non-null int64\n",
      "FLAG_DOCUMENT_10                84570 non-null int64\n",
      "FLAG_DOCUMENT_11                84570 non-null int64\n",
      "FLAG_DOCUMENT_12                84570 non-null int64\n",
      "FLAG_DOCUMENT_13                84570 non-null int64\n",
      "FLAG_DOCUMENT_14                84570 non-null int64\n",
      "FLAG_DOCUMENT_15                84570 non-null int64\n",
      "FLAG_DOCUMENT_16                84570 non-null int64\n",
      "FLAG_DOCUMENT_17                84570 non-null int64\n",
      "FLAG_DOCUMENT_18                84570 non-null int64\n",
      "FLAG_DOCUMENT_19                84570 non-null int64\n",
      "FLAG_DOCUMENT_20                84570 non-null int64\n",
      "FLAG_DOCUMENT_21                84570 non-null int64\n",
      "AMT_REQ_CREDIT_BUREAU_HOUR      84570 non-null float64\n",
      "AMT_REQ_CREDIT_BUREAU_DAY       84570 non-null float64\n",
      "AMT_REQ_CREDIT_BUREAU_WEEK      84570 non-null float64\n",
      "AMT_REQ_CREDIT_BUREAU_MON       84570 non-null float64\n",
      "AMT_REQ_CREDIT_BUREAU_QRT       84570 non-null float64\n",
      "AMT_REQ_CREDIT_BUREAU_YEAR      84570 non-null float64\n",
      "dtypes: float64(41), int64(40)\n",
      "memory usage: 52.9 MB\n"
     ]
    },
    {
     "data": {
      "text/plain": [
       "63"
      ]
     },
     "execution_count": 123,
     "metadata": {},
     "output_type": "execute_result"
    }
   ],
   "source": [
    "# Read Training data\n",
    "input_df = readFile(dataFolder + '\\\\application_train.csv')\n",
    "input_df = replace_outliers(input_df)\n",
    "\n",
    "categorical_feats, floatingPoint_feats, bool_feats, integer_feats = identify_feature_types(input_df,\n",
    "                                                                                        ['TARGET', 'SK_ID_CURR', 'Unnamed :0'])\n",
    "input_df = input_df.dropna()\n",
    "\n",
    "for cat_feature in categorical_feats:\n",
    "    WoE_df = calculate_WOE(input_df, 'TARGET', cat_feature)\n",
    "    input_df[cat_feature] = input_df[cat_feature].replace(WoE_df.set_index('Value')['WoE'])\n",
    "\n",
    "input_df.info()\n",
    "input_df.to_csv(outputFolder + '\\\\DataSetVersion2_c.csv')\n",
    "del input_df, categorical_feats, floatingPoint_feats, bool_feats, integer_feats, WoE_df\n",
    "gc.collect()"
   ]
  },
  {
   "cell_type": "markdown",
   "metadata": {},
   "source": [
    "## Data set version 3: With missing values imputed\n",
    "### Data set version 3_a: Without categorical features"
   ]
  },
  {
   "cell_type": "code",
   "execution_count": 124,
   "metadata": {},
   "outputs": [
    {
     "name": "stdout",
     "output_type": "stream",
     "text": [
      "Your selected dataframe has 122 columns.\n",
      "There are 67 columns that have missing values.\n",
      "41 columns have been dropped from input data set\n",
      "<class 'pandas.core.frame.DataFrame'>\n",
      "Int64Index: 307507 entries, 0 to 307510\n",
      "Data columns (total 42 columns):\n",
      "SK_ID_CURR                      307507 non-null int64\n",
      "TARGET                          307507 non-null int64\n",
      "CNT_CHILDREN                    307507 non-null float64\n",
      "AMT_INCOME_TOTAL                307507 non-null float64\n",
      "AMT_CREDIT                      307507 non-null float64\n",
      "AMT_ANNUITY                     307507 non-null float64\n",
      "AMT_GOODS_PRICE                 307507 non-null float64\n",
      "REGION_POPULATION_RELATIVE      307507 non-null float64\n",
      "DAYS_BIRTH                      307507 non-null float64\n",
      "DAYS_EMPLOYED                   307507 non-null float64\n",
      "DAYS_REGISTRATION               307507 non-null float64\n",
      "DAYS_ID_PUBLISH                 307507 non-null float64\n",
      "CNT_FAM_MEMBERS                 307507 non-null float64\n",
      "REGION_RATING_CLIENT            307507 non-null float64\n",
      "REGION_RATING_CLIENT_W_CITY     307507 non-null float64\n",
      "HOUR_APPR_PROCESS_START         307507 non-null float64\n",
      "REG_REGION_NOT_LIVE_REGION      307507 non-null float64\n",
      "REG_REGION_NOT_WORK_REGION      307507 non-null float64\n",
      "LIVE_REGION_NOT_WORK_REGION     307507 non-null float64\n",
      "REG_CITY_NOT_LIVE_CITY          307507 non-null float64\n",
      "REG_CITY_NOT_WORK_CITY          307507 non-null float64\n",
      "LIVE_CITY_NOT_WORK_CITY         307507 non-null float64\n",
      "EXT_SOURCE_2                    307507 non-null float64\n",
      "EXT_SOURCE_3                    307507 non-null float64\n",
      "YEARS_BEGINEXPLUATATION_AVG     307507 non-null float64\n",
      "FLOORSMAX_AVG                   307507 non-null float64\n",
      "YEARS_BEGINEXPLUATATION_MODE    307507 non-null float64\n",
      "FLOORSMAX_MODE                  307507 non-null float64\n",
      "YEARS_BEGINEXPLUATATION_MEDI    307507 non-null float64\n",
      "FLOORSMAX_MEDI                  307507 non-null float64\n",
      "TOTALAREA_MODE                  307507 non-null float64\n",
      "OBS_30_CNT_SOCIAL_CIRCLE        307507 non-null float64\n",
      "DEF_30_CNT_SOCIAL_CIRCLE        307507 non-null float64\n",
      "OBS_60_CNT_SOCIAL_CIRCLE        307507 non-null float64\n",
      "DEF_60_CNT_SOCIAL_CIRCLE        307507 non-null float64\n",
      "DAYS_LAST_PHONE_CHANGE          307507 non-null float64\n",
      "AMT_REQ_CREDIT_BUREAU_HOUR      307507 non-null float64\n",
      "AMT_REQ_CREDIT_BUREAU_DAY       307507 non-null float64\n",
      "AMT_REQ_CREDIT_BUREAU_WEEK      307507 non-null float64\n",
      "AMT_REQ_CREDIT_BUREAU_MON       307507 non-null float64\n",
      "AMT_REQ_CREDIT_BUREAU_QRT       307507 non-null float64\n",
      "AMT_REQ_CREDIT_BUREAU_YEAR      307507 non-null float64\n",
      "dtypes: float64(40), int64(2)\n",
      "memory usage: 100.9 MB\n"
     ]
    },
    {
     "data": {
      "text/plain": [
       "28"
      ]
     },
     "execution_count": 124,
     "metadata": {},
     "output_type": "execute_result"
    }
   ],
   "source": [
    "# Read Training data\n",
    "input_df = readFile(dataFolder + '\\\\application_train.csv')\n",
    "input_df = replace_outliers(input_df)\n",
    "categorical_feats, floatingPoint_feats, bool_feats, integer_feats = identify_feature_types(input_df,\n",
    "                                                                                        ['TARGET', 'SK_ID_CURR', 'Unnamed :0'])\n",
    "input_df = drop_features(input_df, categorical_feats + bool_feats)\n",
    "input_df = impute_features(input_df, 'All')\n",
    "input_df.info()\n",
    "input_df.to_csv(outputFolder + '\\\\DataSetVersion3_a.csv')\n",
    "del input_df, categorical_feats, floatingPoint_feats, bool_feats, integer_feats\n",
    "gc.collect()"
   ]
  },
  {
   "cell_type": "markdown",
   "metadata": {},
   "source": [
    "### Data set version 3_b: With categorical features OHE"
   ]
  },
  {
   "cell_type": "code",
   "execution_count": 125,
   "metadata": {},
   "outputs": [
    {
     "name": "stdout",
     "output_type": "stream",
     "text": [
      "Your selected dataframe has 122 columns.\n",
      "There are 67 columns that have missing values.\n",
      "41 columns have been dropped from input data set\n",
      "Catagorical Features : 13, Floating Point Features : 28, Boolean Features : 26, Integer Features : 12, Total Count : 79\n",
      "<class 'pandas.core.frame.DataFrame'>\n",
      "Int64Index: 307507 entries, 0 to 307510\n",
      "Columns: 193 entries, SK_ID_CURR to EMERGENCYSTATE_MODE_Yes\n",
      "dtypes: float64(40), int64(153)\n",
      "memory usage: 455.1 MB\n"
     ]
    },
    {
     "data": {
      "text/plain": [
       "42"
      ]
     },
     "execution_count": 125,
     "metadata": {},
     "output_type": "execute_result"
    }
   ],
   "source": [
    "#Nominal variables imputed by mode values and Numerical variables imputed by mean\n",
    "# Read Training data\n",
    "input_df = readFile(dataFolder + '\\\\application_train.csv')\n",
    "input_df = replace_outliers(input_df)\n",
    "categorical_feats, floatingPoint_feats, bool_feats, integer_feats = identify_feature_types(input_df,\n",
    "                                                                        ['TARGET', 'SK_ID_CURR', 'Unnamed :0'], verbose = True)\n",
    "    \n",
    "input_df = impute_features(input_df, 'All')\n",
    "    \n",
    "input_df = pd.get_dummies(input_df, columns=categorical_feats, dtype=np.int64)\n",
    "    \n",
    "input_df.to_csv(outputFolder + '\\\\DataSetVersion3_b.csv')\n",
    "input_df.info()\n",
    "del input_df\n",
    "gc.collect()"
   ]
  },
  {
   "cell_type": "markdown",
   "metadata": {},
   "source": [
    "### Data set version 3_c: With categorical features WOE encoding"
   ]
  },
  {
   "cell_type": "code",
   "execution_count": 126,
   "metadata": {},
   "outputs": [
    {
     "name": "stdout",
     "output_type": "stream",
     "text": [
      "Your selected dataframe has 122 columns.\n",
      "There are 67 columns that have missing values.\n",
      "41 columns have been dropped from input data set\n",
      "<class 'pandas.core.frame.DataFrame'>\n",
      "Int64Index: 307507 entries, 0 to 307510\n",
      "Data columns (total 81 columns):\n",
      "SK_ID_CURR                      307507 non-null int64\n",
      "TARGET                          307507 non-null int64\n",
      "NAME_CONTRACT_TYPE              307507 non-null float64\n",
      "CODE_GENDER                     307507 non-null float64\n",
      "FLAG_OWN_CAR                    307507 non-null float64\n",
      "FLAG_OWN_REALTY                 307507 non-null float64\n",
      "CNT_CHILDREN                    307507 non-null float64\n",
      "AMT_INCOME_TOTAL                307507 non-null float64\n",
      "AMT_CREDIT                      307507 non-null float64\n",
      "AMT_ANNUITY                     307507 non-null float64\n",
      "AMT_GOODS_PRICE                 307507 non-null float64\n",
      "NAME_TYPE_SUITE                 307507 non-null float64\n",
      "NAME_INCOME_TYPE                307507 non-null float64\n",
      "NAME_EDUCATION_TYPE             307507 non-null float64\n",
      "NAME_FAMILY_STATUS              307507 non-null float64\n",
      "NAME_HOUSING_TYPE               307507 non-null float64\n",
      "REGION_POPULATION_RELATIVE      307507 non-null float64\n",
      "DAYS_BIRTH                      307507 non-null float64\n",
      "DAYS_EMPLOYED                   307507 non-null float64\n",
      "DAYS_REGISTRATION               307507 non-null float64\n",
      "DAYS_ID_PUBLISH                 307507 non-null float64\n",
      "FLAG_MOBIL                      307507 non-null int64\n",
      "FLAG_EMP_PHONE                  307507 non-null int64\n",
      "FLAG_WORK_PHONE                 307507 non-null int64\n",
      "FLAG_CONT_MOBILE                307507 non-null int64\n",
      "FLAG_PHONE                      307507 non-null int64\n",
      "FLAG_EMAIL                      307507 non-null int64\n",
      "OCCUPATION_TYPE                 307507 non-null float64\n",
      "CNT_FAM_MEMBERS                 307507 non-null float64\n",
      "REGION_RATING_CLIENT            307507 non-null float64\n",
      "REGION_RATING_CLIENT_W_CITY     307507 non-null float64\n",
      "WEEKDAY_APPR_PROCESS_START      307507 non-null float64\n",
      "HOUR_APPR_PROCESS_START         307507 non-null float64\n",
      "REG_REGION_NOT_LIVE_REGION      307507 non-null float64\n",
      "REG_REGION_NOT_WORK_REGION      307507 non-null float64\n",
      "LIVE_REGION_NOT_WORK_REGION     307507 non-null float64\n",
      "REG_CITY_NOT_LIVE_CITY          307507 non-null float64\n",
      "REG_CITY_NOT_WORK_CITY          307507 non-null float64\n",
      "LIVE_CITY_NOT_WORK_CITY         307507 non-null float64\n",
      "ORGANIZATION_TYPE               307507 non-null float64\n",
      "EXT_SOURCE_2                    307507 non-null float64\n",
      "EXT_SOURCE_3                    307507 non-null float64\n",
      "YEARS_BEGINEXPLUATATION_AVG     307507 non-null float64\n",
      "FLOORSMAX_AVG                   307507 non-null float64\n",
      "YEARS_BEGINEXPLUATATION_MODE    307507 non-null float64\n",
      "FLOORSMAX_MODE                  307507 non-null float64\n",
      "YEARS_BEGINEXPLUATATION_MEDI    307507 non-null float64\n",
      "FLOORSMAX_MEDI                  307507 non-null float64\n",
      "TOTALAREA_MODE                  307507 non-null float64\n",
      "EMERGENCYSTATE_MODE             307507 non-null float64\n",
      "OBS_30_CNT_SOCIAL_CIRCLE        307507 non-null float64\n",
      "DEF_30_CNT_SOCIAL_CIRCLE        307507 non-null float64\n",
      "OBS_60_CNT_SOCIAL_CIRCLE        307507 non-null float64\n",
      "DEF_60_CNT_SOCIAL_CIRCLE        307507 non-null float64\n",
      "DAYS_LAST_PHONE_CHANGE          307507 non-null float64\n",
      "FLAG_DOCUMENT_2                 307507 non-null int64\n",
      "FLAG_DOCUMENT_3                 307507 non-null int64\n",
      "FLAG_DOCUMENT_4                 307507 non-null int64\n",
      "FLAG_DOCUMENT_5                 307507 non-null int64\n",
      "FLAG_DOCUMENT_6                 307507 non-null int64\n",
      "FLAG_DOCUMENT_7                 307507 non-null int64\n",
      "FLAG_DOCUMENT_8                 307507 non-null int64\n",
      "FLAG_DOCUMENT_9                 307507 non-null int64\n",
      "FLAG_DOCUMENT_10                307507 non-null int64\n",
      "FLAG_DOCUMENT_11                307507 non-null int64\n",
      "FLAG_DOCUMENT_12                307507 non-null int64\n",
      "FLAG_DOCUMENT_13                307507 non-null int64\n",
      "FLAG_DOCUMENT_14                307507 non-null int64\n",
      "FLAG_DOCUMENT_15                307507 non-null int64\n",
      "FLAG_DOCUMENT_16                307507 non-null int64\n",
      "FLAG_DOCUMENT_17                307507 non-null int64\n",
      "FLAG_DOCUMENT_18                307507 non-null int64\n",
      "FLAG_DOCUMENT_19                307507 non-null int64\n",
      "FLAG_DOCUMENT_20                307507 non-null int64\n",
      "FLAG_DOCUMENT_21                307507 non-null int64\n",
      "AMT_REQ_CREDIT_BUREAU_HOUR      307507 non-null float64\n",
      "AMT_REQ_CREDIT_BUREAU_DAY       307507 non-null float64\n",
      "AMT_REQ_CREDIT_BUREAU_WEEK      307507 non-null float64\n",
      "AMT_REQ_CREDIT_BUREAU_MON       307507 non-null float64\n",
      "AMT_REQ_CREDIT_BUREAU_QRT       307507 non-null float64\n",
      "AMT_REQ_CREDIT_BUREAU_YEAR      307507 non-null float64\n",
      "dtypes: float64(53), int64(28)\n",
      "memory usage: 192.4 MB\n"
     ]
    },
    {
     "data": {
      "text/plain": [
       "35"
      ]
     },
     "execution_count": 126,
     "metadata": {},
     "output_type": "execute_result"
    }
   ],
   "source": [
    "#Nominal variables imputed by mode values and Numerical variables imputed by mean\n",
    "# Read Training data\n",
    "input_df = readFile(dataFolder + '\\\\application_train.csv')\n",
    "input_df = replace_outliers(input_df)\n",
    "categorical_feats, floatingPoint_feats, bool_feats, integer_feats = identify_feature_types(input_df,\n",
    "                                                                                        ['TARGET', 'SK_ID_CURR', 'Unnamed :0'])\n",
    "input_df = impute_features(input_df, 'All')\n",
    "    \n",
    "#Replace categorical columns with WOE columns\n",
    "for cat_feature in categorical_feats:\n",
    "    WoE_df = calculate_WOE(input_df, 'TARGET', cat_feature)\n",
    "    input_df[cat_feature] = input_df[cat_feature].replace(WoE_df.set_index('Value')['WoE'])\n",
    "    del WoE_df\n",
    "    \n",
    "input_df.to_csv(outputFolder + '\\\\DataSetVersion3_c.csv')\n",
    "input_df.info()\n",
    "del input_df, categorical_feats, floatingPoint_feats, bool_feats, integer_feats\n",
    "gc.collect()"
   ]
  },
  {
   "cell_type": "markdown",
   "metadata": {},
   "source": [
    "## Version 4: Imputed and Scaled Numerical Features\n",
    "### Data set version 4_a: Without categorical features"
   ]
  },
  {
   "cell_type": "code",
   "execution_count": 127,
   "metadata": {},
   "outputs": [
    {
     "name": "stdout",
     "output_type": "stream",
     "text": [
      "Your selected dataframe has 122 columns.\n",
      "There are 67 columns that have missing values.\n",
      "41 columns have been dropped from input data set\n",
      "<class 'pandas.core.frame.DataFrame'>\n",
      "Int64Index: 307507 entries, 0 to 307510\n",
      "Data columns (total 42 columns):\n",
      "SK_ID_CURR                      307507 non-null int64\n",
      "TARGET                          307507 non-null int64\n",
      "CNT_CHILDREN                    307507 non-null float64\n",
      "AMT_INCOME_TOTAL                307507 non-null float64\n",
      "AMT_CREDIT                      307507 non-null float64\n",
      "AMT_ANNUITY                     307507 non-null float64\n",
      "AMT_GOODS_PRICE                 307507 non-null float64\n",
      "REGION_POPULATION_RELATIVE      307507 non-null float64\n",
      "DAYS_BIRTH                      307507 non-null float64\n",
      "DAYS_EMPLOYED                   307507 non-null float64\n",
      "DAYS_REGISTRATION               307507 non-null float64\n",
      "DAYS_ID_PUBLISH                 307507 non-null float64\n",
      "CNT_FAM_MEMBERS                 307507 non-null float64\n",
      "REGION_RATING_CLIENT            307507 non-null float64\n",
      "REGION_RATING_CLIENT_W_CITY     307507 non-null float64\n",
      "HOUR_APPR_PROCESS_START         307507 non-null float64\n",
      "REG_REGION_NOT_LIVE_REGION      307507 non-null float64\n",
      "REG_REGION_NOT_WORK_REGION      307507 non-null float64\n",
      "LIVE_REGION_NOT_WORK_REGION     307507 non-null float64\n",
      "REG_CITY_NOT_LIVE_CITY          307507 non-null float64\n",
      "REG_CITY_NOT_WORK_CITY          307507 non-null float64\n",
      "LIVE_CITY_NOT_WORK_CITY         307507 non-null float64\n",
      "EXT_SOURCE_2                    307507 non-null float64\n",
      "EXT_SOURCE_3                    307507 non-null float64\n",
      "YEARS_BEGINEXPLUATATION_AVG     307507 non-null float64\n",
      "FLOORSMAX_AVG                   307507 non-null float64\n",
      "YEARS_BEGINEXPLUATATION_MODE    307507 non-null float64\n",
      "FLOORSMAX_MODE                  307507 non-null float64\n",
      "YEARS_BEGINEXPLUATATION_MEDI    307507 non-null float64\n",
      "FLOORSMAX_MEDI                  307507 non-null float64\n",
      "TOTALAREA_MODE                  307507 non-null float64\n",
      "OBS_30_CNT_SOCIAL_CIRCLE        307507 non-null float64\n",
      "DEF_30_CNT_SOCIAL_CIRCLE        307507 non-null float64\n",
      "OBS_60_CNT_SOCIAL_CIRCLE        307507 non-null float64\n",
      "DEF_60_CNT_SOCIAL_CIRCLE        307507 non-null float64\n",
      "DAYS_LAST_PHONE_CHANGE          307507 non-null float64\n",
      "AMT_REQ_CREDIT_BUREAU_HOUR      307507 non-null float64\n",
      "AMT_REQ_CREDIT_BUREAU_DAY       307507 non-null float64\n",
      "AMT_REQ_CREDIT_BUREAU_WEEK      307507 non-null float64\n",
      "AMT_REQ_CREDIT_BUREAU_MON       307507 non-null float64\n",
      "AMT_REQ_CREDIT_BUREAU_QRT       307507 non-null float64\n",
      "AMT_REQ_CREDIT_BUREAU_YEAR      307507 non-null float64\n",
      "dtypes: float64(40), int64(2)\n",
      "memory usage: 100.9 MB\n"
     ]
    },
    {
     "data": {
      "text/plain": [
       "28"
      ]
     },
     "execution_count": 127,
     "metadata": {},
     "output_type": "execute_result"
    }
   ],
   "source": [
    "# Read Training data\n",
    "input_df = readFile(dataFolder + '\\\\application_train.csv')\n",
    "input_df = replace_outliers(input_df)\n",
    "categorical_feats, floatingPoint_feats, bool_feats, integer_feats = identify_feature_types(input_df,\n",
    "                                                                                        ['TARGET', 'SK_ID_CURR', 'Unnamed :0'])\n",
    "input_df = drop_features(input_df, categorical_feats + bool_feats)\n",
    "input_df = impute_features(input_df, 'All')\n",
    "input_df = scale_features(input_df, integer_feats + floatingPoint_feats)\n",
    "input_df.info()\n",
    "input_df.to_csv(outputFolder + '\\\\DataSetVersion4_a.csv')\n",
    "del input_df, categorical_feats, floatingPoint_feats, bool_feats, integer_feats\n",
    "gc.collect()"
   ]
  },
  {
   "cell_type": "markdown",
   "metadata": {},
   "source": [
    "### Data set version 4_b: With categorical features OHE"
   ]
  },
  {
   "cell_type": "code",
   "execution_count": 128,
   "metadata": {},
   "outputs": [
    {
     "name": "stdout",
     "output_type": "stream",
     "text": [
      "Your selected dataframe has 122 columns.\n",
      "There are 67 columns that have missing values.\n",
      "41 columns have been dropped from input data set\n",
      "Catagorical Features : 13, Floating Point Features : 28, Boolean Features : 26, Integer Features : 12, Total Count : 79\n",
      "<class 'pandas.core.frame.DataFrame'>\n",
      "Int64Index: 307507 entries, 0 to 307510\n",
      "Columns: 193 entries, SK_ID_CURR to EMERGENCYSTATE_MODE_Yes\n",
      "dtypes: float64(40), int64(153)\n",
      "memory usage: 455.1 MB\n"
     ]
    },
    {
     "data": {
      "text/plain": [
       "42"
      ]
     },
     "execution_count": 128,
     "metadata": {},
     "output_type": "execute_result"
    }
   ],
   "source": [
    "# Read Training data\n",
    "input_df = readFile(dataFolder + '\\\\application_train.csv')\n",
    "input_df = replace_outliers(input_df)\n",
    "categorical_feats, floatingPoint_feats, bool_feats, integer_feats = identify_feature_types(input_df,\n",
    "                                                                        ['TARGET', 'SK_ID_CURR', 'Unnamed :0'], verbose = True)\n",
    "    \n",
    "input_df = impute_features(input_df, 'All')\n",
    "input_df = scale_features(input_df, integer_feats + floatingPoint_feats)\n",
    "    \n",
    "input_df = pd.get_dummies(input_df, columns=categorical_feats, dtype=np.int64)\n",
    "    \n",
    "input_df.to_csv(outputFolder + '\\\\DataSetVersion4_b.csv')\n",
    "input_df.info()\n",
    "del input_df\n",
    "gc.collect()"
   ]
  },
  {
   "cell_type": "markdown",
   "metadata": {},
   "source": [
    "### Data set version 4_c: With categorical features WoE Encoded"
   ]
  },
  {
   "cell_type": "code",
   "execution_count": 129,
   "metadata": {},
   "outputs": [
    {
     "name": "stdout",
     "output_type": "stream",
     "text": [
      "Your selected dataframe has 122 columns.\n",
      "There are 67 columns that have missing values.\n",
      "41 columns have been dropped from input data set\n",
      "<class 'pandas.core.frame.DataFrame'>\n",
      "Int64Index: 307507 entries, 0 to 307510\n",
      "Data columns (total 81 columns):\n",
      "SK_ID_CURR                      307507 non-null int64\n",
      "TARGET                          307507 non-null int64\n",
      "NAME_CONTRACT_TYPE              307507 non-null float64\n",
      "CODE_GENDER                     307507 non-null float64\n",
      "FLAG_OWN_CAR                    307507 non-null float64\n",
      "FLAG_OWN_REALTY                 307507 non-null float64\n",
      "CNT_CHILDREN                    307507 non-null float64\n",
      "AMT_INCOME_TOTAL                307507 non-null float64\n",
      "AMT_CREDIT                      307507 non-null float64\n",
      "AMT_ANNUITY                     307507 non-null float64\n",
      "AMT_GOODS_PRICE                 307507 non-null float64\n",
      "NAME_TYPE_SUITE                 307507 non-null float64\n",
      "NAME_INCOME_TYPE                307507 non-null float64\n",
      "NAME_EDUCATION_TYPE             307507 non-null float64\n",
      "NAME_FAMILY_STATUS              307507 non-null float64\n",
      "NAME_HOUSING_TYPE               307507 non-null float64\n",
      "REGION_POPULATION_RELATIVE      307507 non-null float64\n",
      "DAYS_BIRTH                      307507 non-null float64\n",
      "DAYS_EMPLOYED                   307507 non-null float64\n",
      "DAYS_REGISTRATION               307507 non-null float64\n",
      "DAYS_ID_PUBLISH                 307507 non-null float64\n",
      "FLAG_MOBIL                      307507 non-null int64\n",
      "FLAG_EMP_PHONE                  307507 non-null int64\n",
      "FLAG_WORK_PHONE                 307507 non-null int64\n",
      "FLAG_CONT_MOBILE                307507 non-null int64\n",
      "FLAG_PHONE                      307507 non-null int64\n",
      "FLAG_EMAIL                      307507 non-null int64\n",
      "OCCUPATION_TYPE                 307507 non-null float64\n",
      "CNT_FAM_MEMBERS                 307507 non-null float64\n",
      "REGION_RATING_CLIENT            307507 non-null float64\n",
      "REGION_RATING_CLIENT_W_CITY     307507 non-null float64\n",
      "WEEKDAY_APPR_PROCESS_START      307507 non-null float64\n",
      "HOUR_APPR_PROCESS_START         307507 non-null float64\n",
      "REG_REGION_NOT_LIVE_REGION      307507 non-null float64\n",
      "REG_REGION_NOT_WORK_REGION      307507 non-null float64\n",
      "LIVE_REGION_NOT_WORK_REGION     307507 non-null float64\n",
      "REG_CITY_NOT_LIVE_CITY          307507 non-null float64\n",
      "REG_CITY_NOT_WORK_CITY          307507 non-null float64\n",
      "LIVE_CITY_NOT_WORK_CITY         307507 non-null float64\n",
      "ORGANIZATION_TYPE               307507 non-null float64\n",
      "EXT_SOURCE_2                    307507 non-null float64\n",
      "EXT_SOURCE_3                    307507 non-null float64\n",
      "YEARS_BEGINEXPLUATATION_AVG     307507 non-null float64\n",
      "FLOORSMAX_AVG                   307507 non-null float64\n",
      "YEARS_BEGINEXPLUATATION_MODE    307507 non-null float64\n",
      "FLOORSMAX_MODE                  307507 non-null float64\n",
      "YEARS_BEGINEXPLUATATION_MEDI    307507 non-null float64\n",
      "FLOORSMAX_MEDI                  307507 non-null float64\n",
      "TOTALAREA_MODE                  307507 non-null float64\n",
      "EMERGENCYSTATE_MODE             307507 non-null float64\n",
      "OBS_30_CNT_SOCIAL_CIRCLE        307507 non-null float64\n",
      "DEF_30_CNT_SOCIAL_CIRCLE        307507 non-null float64\n",
      "OBS_60_CNT_SOCIAL_CIRCLE        307507 non-null float64\n",
      "DEF_60_CNT_SOCIAL_CIRCLE        307507 non-null float64\n",
      "DAYS_LAST_PHONE_CHANGE          307507 non-null float64\n",
      "FLAG_DOCUMENT_2                 307507 non-null int64\n",
      "FLAG_DOCUMENT_3                 307507 non-null int64\n",
      "FLAG_DOCUMENT_4                 307507 non-null int64\n",
      "FLAG_DOCUMENT_5                 307507 non-null int64\n",
      "FLAG_DOCUMENT_6                 307507 non-null int64\n",
      "FLAG_DOCUMENT_7                 307507 non-null int64\n",
      "FLAG_DOCUMENT_8                 307507 non-null int64\n",
      "FLAG_DOCUMENT_9                 307507 non-null int64\n",
      "FLAG_DOCUMENT_10                307507 non-null int64\n",
      "FLAG_DOCUMENT_11                307507 non-null int64\n",
      "FLAG_DOCUMENT_12                307507 non-null int64\n",
      "FLAG_DOCUMENT_13                307507 non-null int64\n",
      "FLAG_DOCUMENT_14                307507 non-null int64\n",
      "FLAG_DOCUMENT_15                307507 non-null int64\n",
      "FLAG_DOCUMENT_16                307507 non-null int64\n",
      "FLAG_DOCUMENT_17                307507 non-null int64\n",
      "FLAG_DOCUMENT_18                307507 non-null int64\n",
      "FLAG_DOCUMENT_19                307507 non-null int64\n",
      "FLAG_DOCUMENT_20                307507 non-null int64\n",
      "FLAG_DOCUMENT_21                307507 non-null int64\n",
      "AMT_REQ_CREDIT_BUREAU_HOUR      307507 non-null float64\n",
      "AMT_REQ_CREDIT_BUREAU_DAY       307507 non-null float64\n",
      "AMT_REQ_CREDIT_BUREAU_WEEK      307507 non-null float64\n",
      "AMT_REQ_CREDIT_BUREAU_MON       307507 non-null float64\n",
      "AMT_REQ_CREDIT_BUREAU_QRT       307507 non-null float64\n",
      "AMT_REQ_CREDIT_BUREAU_YEAR      307507 non-null float64\n",
      "dtypes: float64(53), int64(28)\n",
      "memory usage: 192.4 MB\n"
     ]
    },
    {
     "data": {
      "text/plain": [
       "28"
      ]
     },
     "execution_count": 129,
     "metadata": {},
     "output_type": "execute_result"
    }
   ],
   "source": [
    "# Read Training data\n",
    "input_df = readFile(dataFolder + '\\\\application_train.csv')\n",
    "input_df = replace_outliers(input_df)\n",
    "categorical_feats, floatingPoint_feats, bool_feats, integer_feats = identify_feature_types(input_df,\n",
    "                                                                                        ['TARGET', 'SK_ID_CURR', 'Unnamed :0'])\n",
    "input_df = impute_features(input_df, 'All')\n",
    "input_df = scale_features(input_df, integer_feats + floatingPoint_feats)\n",
    "    \n",
    "#Replace categorical columns with WOE columns\n",
    "for cat_feature in categorical_feats:\n",
    "    WoE_df = calculate_WOE(input_df, 'TARGET', cat_feature)\n",
    "    input_df[cat_feature] = input_df[cat_feature].replace(WoE_df.set_index('Value')['WoE'])\n",
    "    del WoE_df\n",
    "    \n",
    "input_df.to_csv(outputFolder + '\\\\DataSetVersion4_c.csv')\n",
    "input_df.info()\n",
    "del input_df\n",
    "gc.collect()"
   ]
  },
  {
   "cell_type": "markdown",
   "metadata": {},
   "source": [
    "## Version 5: Impute and Scaled Numerical Features with Feature Selection\n",
    "### Data set version 5_a: Without categorical features"
   ]
  },
  {
   "cell_type": "code",
   "execution_count": 130,
   "metadata": {},
   "outputs": [
    {
     "name": "stdout",
     "output_type": "stream",
     "text": [
      "Your selected dataframe has 122 columns.\n",
      "There are 67 columns that have missing values.\n",
      "41 columns have been dropped from input data set\n",
      "Catagorical Features : 13, Floating Point Features : 28, Boolean Features : 26, Integer Features : 12, Total Count : 79\n",
      "Variance :  42 selected features out of 66\n",
      "Pearson :  33 selected features out of 66\n",
      "CHI2 :  33 selected features out of 66\n",
      "Fitting estimator with 66 features.\n",
      "Fitting estimator with 56 features.\n",
      "Fitting estimator with 46 features.\n",
      "Fitting estimator with 36 features.\n",
      "RFE :  33 selected features out of 33\n",
      "RF :  66 selected features out of 30\n",
      "<class 'pandas.core.frame.DataFrame'>\n",
      "Int64Index: 307507 entries, 0 to 307510\n",
      "Data columns (total 36 columns):\n",
      "EXT_SOURCE_3                   307507 non-null float64\n",
      "EXT_SOURCE_2                   307507 non-null float64\n",
      "DEF_30_CNT_SOCIAL_CIRCLE       307507 non-null float64\n",
      "DAYS_LAST_PHONE_CHANGE         307507 non-null float64\n",
      "DAYS_EMPLOYED                  307507 non-null float64\n",
      "AMT_GOODS_PRICE                307507 non-null float64\n",
      "AMT_CREDIT                     307507 non-null float64\n",
      "REGION_RATING_CLIENT_W_CITY    307507 non-null float64\n",
      "FLOORSMAX_MODE                 307507 non-null float64\n",
      "FLOORSMAX_MEDI                 307507 non-null float64\n",
      "FLOORSMAX_AVG                  307507 non-null float64\n",
      "FLAG_WORK_PHONE                307507 non-null float64\n",
      "FLAG_PHONE                     307507 non-null float64\n",
      "FLAG_EMP_PHONE                 307507 non-null float64\n",
      "FLAG_DOCUMENT_6                307507 non-null float64\n",
      "FLAG_DOCUMENT_3                307507 non-null float64\n",
      "DEF_60_CNT_SOCIAL_CIRCLE       307507 non-null float64\n",
      "DAYS_REGISTRATION              307507 non-null float64\n",
      "DAYS_ID_PUBLISH                307507 non-null float64\n",
      "DAYS_BIRTH                     307507 non-null float64\n",
      "CNT_CHILDREN                   307507 non-null float64\n",
      "AMT_REQ_CREDIT_BUREAU_MON      307507 non-null float64\n",
      "AMT_INCOME_TOTAL               307507 non-null float64\n",
      "AMT_ANNUITY                    307507 non-null float64\n",
      "TOTALAREA_MODE                 307507 non-null float64\n",
      "REG_CITY_NOT_WORK_CITY         307507 non-null float64\n",
      "REG_CITY_NOT_LIVE_CITY         307507 non-null float64\n",
      "REGION_RATING_CLIENT           307507 non-null float64\n",
      "REGION_POPULATION_RELATIVE     307507 non-null float64\n",
      "LIVE_CITY_NOT_WORK_CITY        307507 non-null float64\n",
      "HOUR_APPR_PROCESS_START        307507 non-null float64\n",
      "FLAG_DOCUMENT_16               307507 non-null float64\n",
      "CNT_FAM_MEMBERS                307507 non-null float64\n",
      "AMT_REQ_CREDIT_BUREAU_YEAR     307507 non-null float64\n",
      "AMT_REQ_CREDIT_BUREAU_QRT      307507 non-null float64\n",
      "TARGET                         307507 non-null int64\n",
      "dtypes: float64(35), int64(1)\n",
      "memory usage: 86.8 MB\n"
     ]
    },
    {
     "data": {
      "text/plain": [
       "21"
      ]
     },
     "execution_count": 130,
     "metadata": {},
     "output_type": "execute_result"
    }
   ],
   "source": [
    "# Read Training data\n",
    "input_df = readFile(dataFolder + '\\\\application_train.csv')\n",
    "input_df = replace_outliers(input_df)\n",
    "input_df = input_df.drop(columns = 'SK_ID_CURR')\n",
    "categorical_feats, floatingPoint_feats, bool_feats, integer_feats = identify_feature_types(input_df,\n",
    "                                                                        ['TARGET', 'SK_ID_CURR', 'Unnamed :0'], verbose=True)\n",
    "labels = input_df.pop('TARGET')\n",
    "\n",
    "input_df = drop_features(input_df, categorical_feats)\n",
    "\n",
    "feature_df = select_features(input_df, labels, min_votes = 4, drop_ratio = 0.5)\n",
    "\n",
    "selected_features = feature_df[feature_df.Total >= 3].Feature.values\n",
    "\n",
    "input_df = input_df[selected_features]\n",
    "input_df = impute_features(input_df, features ='All')    \n",
    "input_df = scale_features(input_df)\n",
    "\n",
    "input_df['TARGET'] = labels \n",
    "input_df.to_csv(outputFolder + '\\\\DataSetVersion5_a.csv')\n",
    "input_df.info()\n",
    "del input_df\n",
    "gc.collect()"
   ]
  },
  {
   "cell_type": "markdown",
   "metadata": {},
   "source": [
    "### Data set version 5_b: With categorical features OHE"
   ]
  },
  {
   "cell_type": "code",
   "execution_count": 131,
   "metadata": {},
   "outputs": [
    {
     "name": "stdout",
     "output_type": "stream",
     "text": [
      "Your selected dataframe has 122 columns.\n",
      "There are 67 columns that have missing values.\n",
      "41 columns have been dropped from input data set\n",
      "Catagorical Features : 13, Floating Point Features : 28, Boolean Features : 26, Integer Features : 12, Total Count : 79\n",
      "Variance :  107 selected features out of 191\n",
      "Pearson :  95 selected features out of 191\n",
      "CHI2 :  95 selected features out of 191\n",
      "Fitting estimator with 191 features.\n",
      "Fitting estimator with 181 features.\n",
      "Fitting estimator with 171 features.\n",
      "Fitting estimator with 161 features.\n",
      "Fitting estimator with 151 features.\n",
      "Fitting estimator with 141 features.\n",
      "Fitting estimator with 131 features.\n",
      "Fitting estimator with 121 features.\n",
      "Fitting estimator with 111 features.\n",
      "Fitting estimator with 101 features.\n",
      "RFE :  95 selected features out of 95\n",
      "RF :  191 selected features out of 81\n",
      "<class 'pandas.core.frame.DataFrame'>\n",
      "Int64Index: 307507 entries, 0 to 307510\n",
      "Data columns (total 97 columns):\n",
      "REG_CITY_NOT_LIVE_CITY                               307507 non-null float64\n",
      "REGION_RATING_CLIENT_W_CITY                          307507 non-null float64\n",
      "ORGANIZATION_TYPE_Construction                       307507 non-null float64\n",
      "NAME_TYPE_SUITE_Family                               307507 non-null float64\n",
      "NAME_EDUCATION_TYPE_Secondary / secondary special    307507 non-null float64\n",
      "FLOORSMAX_MODE                                       307507 non-null float64\n",
      "FLAG_OWN_CAR_Y                                       307507 non-null float64\n",
      "FLAG_DOCUMENT_8                                      307507 non-null float64\n",
      "FLAG_DOCUMENT_3                                      307507 non-null float64\n",
      "EXT_SOURCE_3                                         307507 non-null float64\n",
      "EXT_SOURCE_2                                         307507 non-null float64\n",
      "DEF_60_CNT_SOCIAL_CIRCLE                             307507 non-null float64\n",
      "DEF_30_CNT_SOCIAL_CIRCLE                             307507 non-null float64\n",
      "DAYS_REGISTRATION                                    307507 non-null float64\n",
      "DAYS_LAST_PHONE_CHANGE                               307507 non-null float64\n",
      "DAYS_ID_PUBLISH                                      307507 non-null float64\n",
      "DAYS_EMPLOYED                                        307507 non-null float64\n",
      "DAYS_BIRTH                                           307507 non-null float64\n",
      "CODE_GENDER_M                                        307507 non-null float64\n",
      "CODE_GENDER_F                                        307507 non-null float64\n",
      "AMT_GOODS_PRICE                                      307507 non-null float64\n",
      "AMT_CREDIT                                           307507 non-null float64\n",
      "TOTALAREA_MODE                                       307507 non-null float64\n",
      "REG_CITY_NOT_WORK_CITY                               307507 non-null float64\n",
      "REGION_RATING_CLIENT                                 307507 non-null float64\n",
      "ORGANIZATION_TYPE_XNA                                307507 non-null float64\n",
      "ORGANIZATION_TYPE_Trade: type 7                      307507 non-null float64\n",
      "ORGANIZATION_TYPE_Self-employed                      307507 non-null float64\n",
      "ORGANIZATION_TYPE_School                             307507 non-null float64\n",
      "ORGANIZATION_TYPE_Government                         307507 non-null float64\n",
      "ORGANIZATION_TYPE_Business Entity Type 3             307507 non-null float64\n",
      "OCCUPATION_TYPE_Sales staff                          307507 non-null float64\n",
      "OCCUPATION_TYPE_Managers                             307507 non-null float64\n",
      "OCCUPATION_TYPE_Laborers                             307507 non-null float64\n",
      "OCCUPATION_TYPE_High skill tech staff                307507 non-null float64\n",
      "OCCUPATION_TYPE_Drivers                              307507 non-null float64\n",
      "OCCUPATION_TYPE_Core staff                           307507 non-null float64\n",
      "OCCUPATION_TYPE_Accountants                          307507 non-null float64\n",
      "OBS_60_CNT_SOCIAL_CIRCLE                             307507 non-null float64\n",
      "OBS_30_CNT_SOCIAL_CIRCLE                             307507 non-null float64\n",
      "NAME_TYPE_SUITE_Unaccompanied                        307507 non-null float64\n",
      "NAME_INCOME_TYPE_Working                             307507 non-null float64\n",
      "NAME_INCOME_TYPE_State servant                       307507 non-null float64\n",
      "NAME_INCOME_TYPE_Pensioner                           307507 non-null float64\n",
      "NAME_INCOME_TYPE_Commercial associate                307507 non-null float64\n",
      "NAME_HOUSING_TYPE_With parents                       307507 non-null float64\n",
      "NAME_HOUSING_TYPE_House / apartment                  307507 non-null float64\n",
      "NAME_FAMILY_STATUS_Single / not married              307507 non-null float64\n",
      "NAME_FAMILY_STATUS_Married                           307507 non-null float64\n",
      "NAME_FAMILY_STATUS_Civil marriage                    307507 non-null float64\n",
      "NAME_EDUCATION_TYPE_Lower secondary                  307507 non-null float64\n",
      "NAME_EDUCATION_TYPE_Higher education                 307507 non-null float64\n",
      "LIVE_CITY_NOT_WORK_CITY                              307507 non-null float64\n",
      "FLOORSMAX_MEDI                                       307507 non-null float64\n",
      "FLOORSMAX_AVG                                        307507 non-null float64\n",
      "FLAG_WORK_PHONE                                      307507 non-null float64\n",
      "FLAG_PHONE                                           307507 non-null float64\n",
      "FLAG_OWN_CAR_N                                       307507 non-null float64\n",
      "FLAG_EMP_PHONE                                       307507 non-null float64\n",
      "FLAG_DOCUMENT_6                                      307507 non-null float64\n",
      "EMERGENCYSTATE_MODE_No                               307507 non-null float64\n",
      "CNT_FAM_MEMBERS                                      307507 non-null float64\n",
      "AMT_REQ_CREDIT_BUREAU_QRT                            307507 non-null float64\n",
      "AMT_REQ_CREDIT_BUREAU_MON                            307507 non-null float64\n",
      "AMT_INCOME_TOTAL                                     307507 non-null float64\n",
      "AMT_ANNUITY                                          307507 non-null float64\n",
      "REG_REGION_NOT_WORK_REGION                           307507 non-null float64\n",
      "REG_REGION_NOT_LIVE_REGION                           307507 non-null float64\n",
      "REGION_POPULATION_RELATIVE                           307507 non-null float64\n",
      "ORGANIZATION_TYPE_University                         307507 non-null float64\n",
      "ORGANIZATION_TYPE_Transport: type 3                  307507 non-null float64\n",
      "ORGANIZATION_TYPE_Trade: type 3                      307507 non-null float64\n",
      "ORGANIZATION_TYPE_Security Ministries                307507 non-null float64\n",
      "ORGANIZATION_TYPE_Police                             307507 non-null float64\n",
      "ORGANIZATION_TYPE_Military                           307507 non-null float64\n",
      "ORGANIZATION_TYPE_Medicine                           307507 non-null float64\n",
      "ORGANIZATION_TYPE_Industry: type 3                   307507 non-null float64\n",
      "ORGANIZATION_TYPE_Bank                               307507 non-null float64\n",
      "OCCUPATION_TYPE_Security staff                       307507 non-null float64\n",
      "OCCUPATION_TYPE_Medicine staff                       307507 non-null float64\n",
      "OCCUPATION_TYPE_Low-skill Laborers                   307507 non-null float64\n",
      "OCCUPATION_TYPE_Cooking staff                        307507 non-null float64\n",
      "NAME_TYPE_SUITE_Spouse, partner                      307507 non-null float64\n",
      "NAME_INCOME_TYPE_Unemployed                          307507 non-null float64\n",
      "NAME_HOUSING_TYPE_Rented apartment                   307507 non-null float64\n",
      "NAME_FAMILY_STATUS_Widow                             307507 non-null float64\n",
      "NAME_CONTRACT_TYPE_Revolving loans                   307507 non-null float64\n",
      "NAME_CONTRACT_TYPE_Cash loans                        307507 non-null float64\n",
      "HOUR_APPR_PROCESS_START                              307507 non-null float64\n",
      "FLAG_DOCUMENT_18                                     307507 non-null float64\n",
      "FLAG_DOCUMENT_16                                     307507 non-null float64\n",
      "FLAG_DOCUMENT_14                                     307507 non-null float64\n",
      "FLAG_DOCUMENT_13                                     307507 non-null float64\n",
      "CNT_CHILDREN                                         307507 non-null float64\n",
      "AMT_REQ_CREDIT_BUREAU_YEAR                           307507 non-null float64\n",
      "AMT_REQ_CREDIT_BUREAU_WEEK                           307507 non-null float64\n",
      "TARGET                                               307507 non-null int64\n",
      "dtypes: float64(96), int64(1)\n",
      "memory usage: 229.9 MB\n"
     ]
    },
    {
     "data": {
      "text/plain": [
       "21"
      ]
     },
     "execution_count": 131,
     "metadata": {},
     "output_type": "execute_result"
    }
   ],
   "source": [
    "# Read Training data\n",
    "input_df = readFile(dataFolder + '\\\\application_train.csv')\n",
    "input_df = replace_outliers(input_df)\n",
    "input_df = input_df.drop(columns = 'SK_ID_CURR')\n",
    "categorical_feats, floatingPoint_feats, bool_feats, integer_feats = identify_feature_types(input_df,\n",
    "                                                                        ['TARGET', 'SK_ID_CURR', 'Unnamed :0'], verbose=True)\n",
    "labels = input_df.pop('TARGET')\n",
    "\n",
    "input_df = pd.get_dummies(input_df, columns=categorical_feats, dtype=np.int64)\n",
    "\n",
    "feature_df = select_features(input_df, labels, min_votes = 4, drop_ratio = 0.5)\n",
    "\n",
    "selected_features = feature_df[feature_df.Total >= 3].Feature.values\n",
    "input_df = input_df[selected_features]\n",
    "\n",
    "input_df = impute_features(input_df, features ='All')    \n",
    "input_df = scale_features(input_df)\n",
    "\n",
    "input_df['TARGET'] = labels \n",
    "input_df.to_csv(outputFolder + '\\\\DataSetVersion5_b.csv')\n",
    "input_df.info()\n",
    "del input_df\n",
    "gc.collect()"
   ]
  },
  {
   "cell_type": "markdown",
   "metadata": {},
   "source": [
    "### Data set version 5_c: With categorical features WoE Encoded"
   ]
  },
  {
   "cell_type": "code",
   "execution_count": 132,
   "metadata": {},
   "outputs": [
    {
     "name": "stdout",
     "output_type": "stream",
     "text": [
      "Your selected dataframe has 122 columns.\n",
      "There are 67 columns that have missing values.\n",
      "41 columns have been dropped from input data set\n",
      "Catagorical Features : 13, Floating Point Features : 28, Boolean Features : 26, Integer Features : 12, Total Count : 79\n",
      "Variance :  50 selected features out of 79\n",
      "Pearson :  39 selected features out of 79\n",
      "CHI2 :  39 selected features out of 79\n",
      "Fitting estimator with 79 features.\n",
      "Fitting estimator with 69 features.\n",
      "Fitting estimator with 59 features.\n",
      "Fitting estimator with 49 features.\n",
      "RFE :  39 selected features out of 39\n",
      "RF :  79 selected features out of 33\n",
      "<class 'pandas.core.frame.DataFrame'>\n",
      "Int64Index: 307507 entries, 0 to 307510\n",
      "Data columns (total 43 columns):\n",
      "ORGANIZATION_TYPE              307507 non-null float64\n",
      "OCCUPATION_TYPE                307507 non-null float64\n",
      "NAME_INCOME_TYPE               307507 non-null float64\n",
      "NAME_EDUCATION_TYPE            307507 non-null float64\n",
      "EXT_SOURCE_3                   307507 non-null float64\n",
      "EXT_SOURCE_2                   307507 non-null float64\n",
      "DAYS_LAST_PHONE_CHANGE         307507 non-null float64\n",
      "DAYS_ID_PUBLISH                307507 non-null float64\n",
      "DAYS_EMPLOYED                  307507 non-null float64\n",
      "AMT_GOODS_PRICE                307507 non-null float64\n",
      "AMT_CREDIT                     307507 non-null float64\n",
      "REGION_RATING_CLIENT_W_CITY    307507 non-null float64\n",
      "NAME_HOUSING_TYPE              307507 non-null float64\n",
      "NAME_FAMILY_STATUS             307507 non-null float64\n",
      "FLOORSMAX_MODE                 307507 non-null float64\n",
      "FLOORSMAX_MEDI                 307507 non-null float64\n",
      "FLOORSMAX_AVG                  307507 non-null float64\n",
      "FLAG_DOCUMENT_6                307507 non-null float64\n",
      "FLAG_DOCUMENT_3                307507 non-null float64\n",
      "DEF_60_CNT_SOCIAL_CIRCLE       307507 non-null float64\n",
      "DAYS_BIRTH                     307507 non-null float64\n",
      "CODE_GENDER                    307507 non-null float64\n",
      "CNT_CHILDREN                   307507 non-null float64\n",
      "AMT_INCOME_TOTAL               307507 non-null float64\n",
      "TOTALAREA_MODE                 307507 non-null float64\n",
      "REG_CITY_NOT_WORK_CITY         307507 non-null float64\n",
      "REG_CITY_NOT_LIVE_CITY         307507 non-null float64\n",
      "REGION_RATING_CLIENT           307507 non-null float64\n",
      "REGION_POPULATION_RELATIVE     307507 non-null float64\n",
      "OBS_60_CNT_SOCIAL_CIRCLE       307507 non-null float64\n",
      "NAME_CONTRACT_TYPE             307507 non-null float64\n",
      "LIVE_CITY_NOT_WORK_CITY        307507 non-null float64\n",
      "HOUR_APPR_PROCESS_START        307507 non-null float64\n",
      "FLAG_WORK_PHONE                307507 non-null float64\n",
      "FLAG_PHONE                     307507 non-null float64\n",
      "FLAG_EMP_PHONE                 307507 non-null float64\n",
      "DEF_30_CNT_SOCIAL_CIRCLE       307507 non-null float64\n",
      "DAYS_REGISTRATION              307507 non-null float64\n",
      "CNT_FAM_MEMBERS                307507 non-null float64\n",
      "AMT_REQ_CREDIT_BUREAU_QRT      307507 non-null float64\n",
      "AMT_REQ_CREDIT_BUREAU_MON      307507 non-null float64\n",
      "AMT_ANNUITY                    307507 non-null float64\n",
      "TARGET                         307507 non-null int64\n",
      "dtypes: float64(42), int64(1)\n",
      "memory usage: 103.2 MB\n"
     ]
    },
    {
     "data": {
      "text/plain": [
       "21"
      ]
     },
     "execution_count": 132,
     "metadata": {},
     "output_type": "execute_result"
    }
   ],
   "source": [
    "# Read Training data\n",
    "input_df = readFile(dataFolder + '\\\\application_train.csv')\n",
    "input_df = replace_outliers(input_df)\n",
    "input_df = input_df.drop(columns = 'SK_ID_CURR')\n",
    "categorical_feats, floatingPoint_feats, bool_feats, integer_feats = identify_feature_types(input_df,\n",
    "                                                                        ['TARGET', 'SK_ID_CURR', 'Unnamed :0'], verbose=True)\n",
    "\n",
    "#Replace categorical columns with WOE columns\n",
    "for cat_feature in categorical_feats:\n",
    "    WoE_df = calculate_WOE(input_df, 'TARGET', cat_feature)\n",
    "    input_df[cat_feature] = input_df[cat_feature].replace(WoE_df.set_index('Value')['WoE'])\n",
    "    del WoE_df\n",
    "    \n",
    "labels = input_df.pop('TARGET')\n",
    "feature_df = select_features(input_df, labels, min_votes = 4, drop_ratio = 0.5)\n",
    "\n",
    "selected_features = feature_df[feature_df.Total >= 3].Feature.values\n",
    "input_df = input_df[selected_features]\n",
    "\n",
    "input_df = impute_features(input_df, features ='All')    \n",
    "input_df = scale_features(input_df)\n",
    "\n",
    "input_df['TARGET'] = labels \n",
    "input_df.to_csv(outputFolder + '\\\\DataSetVersion5_c.csv')\n",
    "input_df.info()\n",
    "del input_df\n",
    "gc.collect()"
   ]
  },
  {
   "cell_type": "markdown",
   "metadata": {},
   "source": [
    "## Version 6: Balanced and Imbalanced Sampling\n",
    "### Data set version 6_a: Balanced Samples with categorical features OHE"
   ]
  },
  {
   "cell_type": "code",
   "execution_count": 36,
   "metadata": {},
   "outputs": [
    {
     "name": "stdout",
     "output_type": "stream",
     "text": [
      "Catagorical Features : 16, Floating Point Features : 66, Boolean Features : 26, Integer Features : 12, Total Count : 120\n",
      "label 1 sample size: 24825\n",
      "label 0 sample size: 24825\n",
      "<class 'pandas.core.frame.DataFrame'>\n",
      "Int64Index: 49650 entries, 74554 to 187706\n",
      "Columns: 244 entries, CNT_CHILDREN to TARGET\n",
      "dtypes: float64(243), int64(1)\n",
      "memory usage: 92.8 MB\n"
     ]
    },
    {
     "data": {
      "text/plain": [
       "49"
      ]
     },
     "execution_count": 36,
     "metadata": {},
     "output_type": "execute_result"
    }
   ],
   "source": [
    "# Read Training data\n",
    "input_df = readFile(dataFolder + '\\\\application_train.csv')\n",
    "input_df = replace_outliers(input_df)\n",
    "input_df = input_df.drop(columns = 'SK_ID_CURR')\n",
    "categorical_feats, floatingPoint_feats, bool_feats, integer_feats = identify_feature_types(input_df,\n",
    "                                                                        ['TARGET', 'SK_ID_CURR', 'Unnamed :0'], verbose=True)\n",
    "labels = input_df.pop('TARGET')\n",
    "\n",
    "input_df = pd.get_dummies(input_df, columns=categorical_feats, dtype=np.int64)\n",
    "\n",
    "input_df = impute_features(input_df, features ='All')    \n",
    "input_df = scale_features(input_df)\n",
    "\n",
    "sampled_df , sampled_labels = take_sample(input_df, labels, stratified = False)\n",
    "sampled_df['TARGET'] = sampled_labels\n",
    "sampled_df.to_csv(outputFolder + '\\\\DataSetVersion6_a.csv')\n",
    "sampled_df.info()\n",
    "del input_df, sampled_df, labels\n",
    "gc.collect()"
   ]
  },
  {
   "cell_type": "markdown",
   "metadata": {},
   "source": [
    "### Data set version 6_b: Unbalanced sample with categorical features OHE"
   ]
  },
  {
   "cell_type": "code",
   "execution_count": 37,
   "metadata": {},
   "outputs": [
    {
     "name": "stdout",
     "output_type": "stream",
     "text": [
      "Catagorical Features : 16, Floating Point Features : 66, Boolean Features : 26, Integer Features : 12, Total Count : 120\n",
      "label 1 sample size: 2004\n",
      "label 0 sample size: 22821\n",
      "<class 'pandas.core.frame.DataFrame'>\n",
      "Int64Index: 24825 entries, 46834 to 231622\n",
      "Columns: 244 entries, CNT_CHILDREN to TARGET\n",
      "dtypes: float64(243), int64(1)\n",
      "memory usage: 46.4 MB\n"
     ]
    },
    {
     "data": {
      "text/plain": [
       "56"
      ]
     },
     "execution_count": 37,
     "metadata": {},
     "output_type": "execute_result"
    }
   ],
   "source": [
    "# Read Training data\n",
    "input_df = readFile(dataFolder + '\\\\application_train.csv')\n",
    "input_df = replace_outliers(input_df)\n",
    "input_df = input_df.drop(columns = 'SK_ID_CURR')\n",
    "categorical_feats, floatingPoint_feats, bool_feats, integer_feats = identify_feature_types(input_df,\n",
    "                                                                        ['TARGET', 'SK_ID_CURR', 'Unnamed :0'], verbose=True)\n",
    "labels = input_df.pop('TARGET')\n",
    "\n",
    "input_df = pd.get_dummies(input_df, columns=categorical_feats, dtype=np.int64)\n",
    "\n",
    "input_df = impute_features(input_df, features ='All')    \n",
    "input_df = scale_features(input_df)\n",
    "\n",
    "sampled_df , sampled_labels = take_sample(input_df, labels)\n",
    "sampled_df['TARGET'] = sampled_labels\n",
    "sampled_df.to_csv(outputFolder + '\\\\DataSetVersion6_b.csv')\n",
    "sampled_df.info()\n",
    "del input_df, sampled_df, labels\n",
    "gc.collect()"
   ]
  }
 ],
 "metadata": {
  "kernelspec": {
   "display_name": "Python 3",
   "language": "python",
   "name": "python3"
  },
  "language_info": {
   "codemirror_mode": {
    "name": "ipython",
    "version": 3
   },
   "file_extension": ".py",
   "mimetype": "text/x-python",
   "name": "python",
   "nbconvert_exporter": "python",
   "pygments_lexer": "ipython3",
   "version": "3.6.6"
  }
 },
 "nbformat": 4,
 "nbformat_minor": 2
}
