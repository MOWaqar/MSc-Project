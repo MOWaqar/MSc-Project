{
 "cells": [
  {
   "cell_type": "markdown",
   "metadata": {},
   "source": [
    "# Logistic Regression\n",
    "### Logistic Regression implementation \n",
    "#### Import Requirements "
   ]
  },
  {
   "cell_type": "code",
   "execution_count": 2,
   "metadata": {},
   "outputs": [],
   "source": [
    "# numpy and pandas for data manipulation\n",
    "import numpy as np\n",
    "import pandas as pd \n",
    "\n",
    "#memory management\n",
    "import gc\n",
    "\n",
    "# File system manangement\n",
    "import os\n",
    "\n",
    "# Suppress warnings \n",
    "import warnings\n",
    "warnings.filterwarnings('ignore')\n",
    "\n",
    "#Logistic regression\n",
    "from sklearn.linear_model import LogisticRegression as LR\n",
    "\n",
    "#to measure ROC AUC performance\n",
    "from sklearn.metrics import roc_auc_score\n",
    "\n",
    "from sklearn.model_selection import StratifiedKFold"
   ]
  },
  {
   "cell_type": "markdown",
   "metadata": {},
   "source": [
    "### Set folder paths for getting input and saving outputs"
   ]
  },
  {
   "cell_type": "code",
   "execution_count": 3,
   "metadata": {},
   "outputs": [],
   "source": [
    "#Set input data folder \n",
    "dataFolder = os.getcwd() + os.sep + os.pardir + os.sep + 'CodeOutputs'\n",
    "if(not os.path.exists(dataFolder)):\n",
    "    print(\"Input Data folder not found. Please specify data folder path as dataFolder variable to proceed\")\n",
    "    raise NotADirectoryError\n",
    "    \n",
    "#Create output folder is it does not exist\n",
    "outputFolder = os.getcwd() + os.sep + os.pardir + os.sep + 'CodeOutputs'\n",
    "\n",
    "if not os.path.exists(outputFolder):\n",
    "    os.makedirs(outputFolder)\n",
    "    print('Output Folder created')"
   ]
  },
  {
   "cell_type": "markdown",
   "metadata": {},
   "source": [
    "### Read input"
   ]
  },
  {
   "cell_type": "code",
   "execution_count": 4,
   "metadata": {},
   "outputs": [],
   "source": [
    "def setup_input(filename, dataFolder):\n",
    "    # Read Training data\n",
    "    df = pd.read_csv(dataFolder + os.sep + filename)\n",
    "    labels = df.pop('TARGET')\n",
    "    if('Unnamed: 0' in df):\n",
    "        df = df.drop(columns='Unnamed: 0')\n",
    "    if('SK_ID_CURR' in df):\n",
    "        df = df.drop(columns='SK_ID_CURR')\n",
    "        \n",
    "    return df, labels"
   ]
  },
  {
   "cell_type": "code",
   "execution_count": 5,
   "metadata": {},
   "outputs": [],
   "source": [
    "def logistic_regression(df, labels):\n",
    "    # Run classifier with cross-validation\n",
    "    cv = StratifiedKFold(n_splits=10)\n",
    "    foldScores = []\n",
    "\n",
    "    for trainSet, testSet in cv.split(df, labels):\n",
    "        clf = LR(C = 0.001)\n",
    "        model = clf.fit(df.iloc[trainSet], labels.iloc[trainSet])\n",
    "        probabilities = model.predict_proba(df.iloc[testSet])[:,1]\n",
    "        foldScores.append(roc_auc_score(labels[testSet], probabilities))\n",
    "        del clf\n",
    "        \n",
    "    return np.mean(foldScores)"
   ]
  },
  {
   "cell_type": "code",
   "execution_count": 7,
   "metadata": {},
   "outputs": [
    {
     "name": "stdout",
     "output_type": "stream",
     "text": [
      "File: DataSetVersion6_a.csv,  AUC score : 0.724\n",
      "File: DataSetVersion6_b.csv,  AUC score : 0.678\n"
     ]
    }
   ],
   "source": [
    "file_names = ['DataSetVersion6_a.csv', 'DataSetVersion6_b.csv']#, 'DataSetVersion1_c.csv', 'DataSetVersion2_a.csv',\n",
    "              #'DataSetVersion2_b.csv', 'DataSetVersion2_c.csv', 'DataSetVersion3_a.csv', 'DataSetVersion3_b.csv',\n",
    "             #'DataSetVersion3_c.csv', 'DataSetVersion4_a.csv', 'DataSetVersion4_b.csv', 'DataSetVersion4_c.csv',\n",
    "             #'DataSetVersion5_a.csv', 'DataSetVersion5_b.csv', 'DataSetVersion5_c.csv', 'DataSetVersion6_a.csv', 'DataSetVersion6_b.csv']\n",
    "\n",
    "for filename in file_names:\n",
    "    input_df, labels = setup_input(filename)\n",
    "    try:\n",
    "        print('File: {},  AUC score : {:0.3f}'.format(filename,logistic_regression(input_df, labels)))\n",
    "        del input_df,labels\n",
    "        gc.collect()\n",
    "    except:\n",
    "        print('Classifier could not run on the data set. Put X instead of score.')\n",
    "        del input_df,labels\n",
    "        gc.collect()\n",
    "        continue"
   ]
  },
  {
   "cell_type": "code",
   "execution_count": 12,
   "metadata": {},
   "outputs": [
    {
     "name": "stdout",
     "output_type": "stream",
     "text": [
      "Test Score :  0.7238668086700223\n",
      "Test Score :  0.6848398763895931\n"
     ]
    }
   ],
   "source": [
    "file_names = ['DataSetVersion6_a.csv', 'DataSetVersion6_b.csv']#, 'DataSetVersion1_c.csv', 'DataSetVersion2_a.csv',\n",
    "              #'DataSetVersion2_b.csv', 'DataSetVersion2_c.csv', 'DataSetVersion3_a.csv', 'DataSetVersion3_b.csv',\n",
    "             #'DataSetVersion3_c.csv', 'DataSetVersion4_a.csv', 'DataSetVersion4_b.csv', 'DataSetVersion4_c.csv',\n",
    "             #'DataSetVersion5_a.csv', 'DataSetVersion5_b.csv', 'DataSetVersion5_c.csv', 'DataSetVersion6_a.csv', 'DataSetVersion6_b.csv']\n",
    "\n",
    "for filename in file_names:\n",
    "    input_df, labels = setup_input(filename)\n",
    "    test_df, test_labels = setup_input('DataSetVersion4_b.csv')\n",
    "    \n",
    "    cv = StratifiedKFold(n_splits=10)\n",
    "    foldScores = []\n",
    "    clf = LR(C = 0.001)\n",
    "    for trainSet, testSet in cv.split(input_df, labels):\n",
    "        model = clf.fit(input_df.iloc[trainSet], labels.iloc[trainSet])\n",
    "        probabilities = model.predict_proba(test_df)[:,1]\n",
    "        foldScores.append(roc_auc_score(test_labels, probabilities))\n",
    "        \n",
    "    print('Test Score : ', str(np.mean(foldScores))) \n",
    "    del input_df,labels\n",
    "    gc.collect()"
   ]
  }
 ],
 "metadata": {
  "kernelspec": {
   "display_name": "Python 3",
   "language": "python",
   "name": "python3"
  },
  "language_info": {
   "codemirror_mode": {
    "name": "ipython",
    "version": 3
   },
   "file_extension": ".py",
   "mimetype": "text/x-python",
   "name": "python",
   "nbconvert_exporter": "python",
   "pygments_lexer": "ipython3",
   "version": "3.6.6"
  }
 },
 "nbformat": 4,
 "nbformat_minor": 2
}
