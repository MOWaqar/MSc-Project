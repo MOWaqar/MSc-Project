{
 "cells": [
  {
   "cell_type": "markdown",
   "metadata": {},
   "source": [
    "### Import Requirements"
   ]
  },
  {
   "cell_type": "code",
   "execution_count": 1,
   "metadata": {},
   "outputs": [],
   "source": [
    "# numpy and pandas for data manipulation\n",
    "import numpy as np\n",
    "import pandas as pd \n",
    "\n",
    "#memory management\n",
    "import gc\n",
    "\n",
    "# File system manangement\n",
    "import os\n",
    "\n",
    "# Suppress warnings \n",
    "import warnings\n",
    "warnings.filterwarnings('ignore')\n",
    "\n",
    "# matplotlib for plotting\n",
    "import matplotlib.pyplot as plt\n",
    "import seaborn as sns\n",
    "\n",
    "#to impute missing values\n",
    "from sklearn.preprocessing import Imputer, MinMaxScaler\n",
    "\n",
    "from sklearn.feature_selection import VarianceThreshold, RFE, SelectFromModel, chi2, SelectKBest\n",
    "from sklearn.linear_model import LogisticRegression\n",
    "from sklearn.ensemble import RandomForestClassifier"
   ]
  },
  {
   "cell_type": "markdown",
   "metadata": {},
   "source": [
    "## Utility Functions\n",
    "### Set folder paths for getting input and saving outputs"
   ]
  },
  {
   "cell_type": "code",
   "execution_count": 2,
   "metadata": {},
   "outputs": [],
   "source": [
    "def setupFolderPaths():    \n",
    "    #Set input data folder \n",
    "    dataFolder = os.getcwd() + os.sep + os.pardir + os.sep + 'ProjectDataFiles'\n",
    "    if(not os.path.exists(dataFolder)):\n",
    "        print(\"Input Data folder not found. Please specify data folder path as dataFolder variable to proceed\")\n",
    "        raise NotADirectoryError\n",
    "\n",
    "    #Create output folder is it does not exist\n",
    "    outputFolder = os.getcwd() + os.sep + os.pardir + os.sep + 'CodeOutputs'\n",
    "\n",
    "    if not os.path.exists(outputFolder):\n",
    "        os.makedirs(outputFolder)\n",
    "        print('Output Folder created')\n",
    "        \n",
    "    return dataFolder, outputFolder"
   ]
  },
  {
   "cell_type": "code",
   "execution_count": 3,
   "metadata": {},
   "outputs": [],
   "source": [
    "def readFile(fileName):\n",
    "    if(not os.path.exists(fileName)):\n",
    "        raise FileNotFoundError\n",
    "        \n",
    "    return pd.read_csv(fileName)"
   ]
  },
  {
   "cell_type": "markdown",
   "metadata": {},
   "source": [
    "## Replace all the outliers in the input data set with nan"
   ]
  },
  {
   "cell_type": "code",
   "execution_count": 4,
   "metadata": {},
   "outputs": [],
   "source": [
    "#Function to replace outliers in input data\n",
    "def replace_outliers(df):\n",
    "    #Optional: Remove 4 applications with XNA CODE_GENDER (train set)\n",
    "    if 'CODE_GENDER' in df:\n",
    "        df = df[df['CODE_GENDER'] != 'XNA']\n",
    "\n",
    "    #Replace outlier values with nan\n",
    "    df['DAYS_EMPLOYED'] = df['DAYS_EMPLOYED'].map(lambda x: x if x <= 0 else np.nan)\n",
    "    df['REGION_RATING_CLIENT_W_CITY'] = df['REGION_RATING_CLIENT_W_CITY'].map(lambda x: x if x >= 0 else np.nan)\n",
    "    df['AMT_INCOME_TOTAL'] = df['AMT_INCOME_TOTAL'].map(lambda x: x if x <= 5e6 else np.nan)\n",
    "    df['AMT_REQ_CREDIT_BUREAU_QRT'] = df['AMT_REQ_CREDIT_BUREAU_QRT'].map(lambda x: x if x <= 10 else np.nan)\n",
    "    df['OBS_30_CNT_SOCIAL_CIRCLE'] = df['OBS_30_CNT_SOCIAL_CIRCLE'].map(lambda x: x if x <= 40 else np.nan)\n",
    "    df['OBS_60_CNT_SOCIAL_CIRCLE'] = df['OBS_60_CNT_SOCIAL_CIRCLE'].map(lambda x: x if x <= 50 else np.nan)\n",
    "    df['DEF_30_CNT_SOCIAL_CIRCLE'] = df['DEF_30_CNT_SOCIAL_CIRCLE'].map(lambda x: x if x <= 100 else np.nan)\n",
    "    \n",
    "    return df"
   ]
  },
  {
   "cell_type": "markdown",
   "metadata": {},
   "source": [
    "### Identify Feature types : Catagorical, Numerical, Integer and Boolean (Flags)"
   ]
  },
  {
   "cell_type": "code",
   "execution_count": 5,
   "metadata": {},
   "outputs": [],
   "source": [
    "#Function to identify feature types in a given data frame\n",
    "def identify_feature_types(df, features_to_ignore, verbose = False):\n",
    "    categorical_features = list(f for f in df.select_dtypes(include='object') if f not in features_to_ignore)\n",
    "    floatingPoint_features = list(f for f in df.select_dtypes(include='float64') if f not in features_to_ignore)\n",
    "    temp = list(f for f in df.select_dtypes(include='int64') if f not in features_to_ignore)\n",
    "    bool_features = [x for x in temp if 'FLAG' in x]\n",
    "    integer_features = [x for x in temp if x not in bool_features]\n",
    "    totalCount = len(categorical_features) + len(floatingPoint_features) + len(bool_features) + len(integer_features)\n",
    "    if (verbose == True):\n",
    "        print ('Catagorical Features : {}, Floating Point Features : {}, Boolean Features : {}, Integer Features : {}, Total Count : {}'\n",
    "           .format(len(categorical_features), len(floatingPoint_features), len(bool_features), len(integer_features), totalCount))\n",
    "    \n",
    "    return categorical_features, floatingPoint_features, bool_features, integer_features"
   ]
  },
  {
   "cell_type": "markdown",
   "metadata": {},
   "source": [
    "### Drop list of features from data frame"
   ]
  },
  {
   "cell_type": "code",
   "execution_count": 6,
   "metadata": {},
   "outputs": [],
   "source": [
    "def drop_features(df, features):\n",
    "    df = df.drop(columns=[f for f in df.columns if f in features])\n",
    "    return df"
   ]
  },
  {
   "cell_type": "code",
   "execution_count": 7,
   "metadata": {},
   "outputs": [],
   "source": [
    "def scale_features(df, feature_list = None, scale_range = (0,1)):\n",
    "    if(feature_list == None):\n",
    "        feature_list = [f for f in df.columns if f not in ['TARGET', 'SK_ID_CURR', 'Unnamed :0']]\n",
    "        \n",
    "    #Scale each feature to 0-1\n",
    "    scaler = MinMaxScaler(feature_range = scale_range)\n",
    "    \n",
    "    for feature in feature_list:\n",
    "        if (df[feature].dtype == 'object'):\n",
    "            continue\n",
    "\n",
    "        scaler.fit(df[feature].values.reshape(-1,1))\n",
    "        df[feature] = scaler.transform(df[feature].values.reshape(-1,1))\n",
    "    \n",
    "    return df"
   ]
  },
  {
   "cell_type": "code",
   "execution_count": 8,
   "metadata": {},
   "outputs": [],
   "source": [
    "def impute_features(df, features = 'All'):\n",
    "    categorical_feats, floatingPoint_feats, bool_feats, integer_feats = identify_feature_types(df,\n",
    "                                                                                        ['TARGET', 'SK_ID_CURR', 'Unnamed :0'])\n",
    "    if(features == 'All'):\n",
    "        feature_list = [f for f in df.columns if f not in ['TARGET', 'SK_ID_CURR', 'Unnamed :0']]\n",
    "    elif(features == 'Numerical'):\n",
    "        feature_list = floatingPoint_feats + integer_feats\n",
    "    elif(features == 'Categorical'):\n",
    "        feature_list = categorical_feats + bool_feats\n",
    "    else:\n",
    "        raise ValueError('features can either be All, Numerical, Categorical')\n",
    "        \n",
    "    #Imputer for numerical features\n",
    "    imputer = Imputer(strategy = 'median')\n",
    "    \n",
    "    for feature in feature_list:\n",
    "        if (feature in categorical_feats + bool_feats):\n",
    "            df[feature] = df[feature].fillna(df[feature].value_counts().index[0])\n",
    "        else:\n",
    "            imputer.fit(df[feature].values.reshape(-1,1))\n",
    "            df[feature] = imputer.transform(df[feature].values.reshape(-1,1))\n",
    "\n",
    "    return df"
   ]
  },
  {
   "cell_type": "code",
   "execution_count": 9,
   "metadata": {},
   "outputs": [],
   "source": [
    "#Function to caluculate WOE\n",
    "def calculate_WOE(df, target,feature):\n",
    "    lst = []\n",
    "    for i in range(df[feature].nunique(dropna=False)):\n",
    "        val = list(df[feature].unique())[i]\n",
    "        lst.append([feature,                                                        # Variable\n",
    "                    val,                                                            # Value\n",
    "                    df[df[feature] == val].count()[feature],                        # All\n",
    "                    df[(df[feature] == val) & (df[target] == 0)].count()[feature],  # Good (target == 0)\n",
    "                    df[(df[feature] == val) & (df[target] == 1)].count()[feature]]) # Bad (target == 1)\n",
    "\n",
    "    data = pd.DataFrame(lst, columns=['Variable', 'Value', 'All', 'Good', 'Bad'])\n",
    "    data['Distribution Good'] = (data['All'] - data['Bad']) / (data['All'].sum() - data['Bad'].sum())\n",
    "    data['Distribution Bad'] = data['Bad'] / data['Bad'].sum()\n",
    "    data['WoE'] = np.log(data['Distribution Good'] / data['Distribution Bad'])\n",
    "\n",
    "    data = data.replace({'WoE': {np.inf: 0, -np.inf: 0}})\n",
    "    return data"
   ]
  },
  {
   "cell_type": "code",
   "execution_count": 21,
   "metadata": {},
   "outputs": [],
   "source": [
    "def remove_missing_value_columns(df, threshold):\n",
    "    missing_values = compute_missing_values(df)\n",
    "    missing_greater = missing_values[missing_values.iloc[:,1] >= threshold]\n",
    "    df = df.drop(columns=missing_greater.index)\n",
    "    print('{} columns have been dropped from input data set'.format(len(missing_greater)))\n",
    "    del missing_values\n",
    "    gc.collect()\n",
    "    return df\n",
    "\n",
    "# Function to calculate missing values by columns \n",
    "def compute_missing_values(df, sortAscending = False):\n",
    "        # Total missing values\n",
    "        mis_val = df.isnull().sum()\n",
    "        \n",
    "        # Percentage of missing values\n",
    "        mis_val_percent = 100 * df.isnull().sum() / len(df)\n",
    "        \n",
    "        # Make a table with the results\n",
    "        mis_val_table = pd.concat([mis_val, mis_val_percent], axis=1)\n",
    "        \n",
    "        # Rename the columns\n",
    "        mis_val_table_ren_columns = mis_val_table.rename(\n",
    "        columns = {0 : 'Missing Values', 1 : '% of Total Values'})\n",
    "        \n",
    "        # Sort the table by percentage of missing descending\n",
    "        mis_val_table_ren_columns = mis_val_table_ren_columns[\n",
    "            mis_val_table_ren_columns.iloc[:,1] != 0].sort_values(\n",
    "        '% of Total Values', ascending=sortAscending).round(1)\n",
    "        \n",
    "        # Print some summary information\n",
    "        print (\"Your selected dataframe has \" + str(df.shape[1]) + \" columns.\\n\"      \n",
    "            \"There are \" + str(mis_val_table_ren_columns.shape[0]) +\n",
    "              \" columns that have missing values.\")\n",
    "        \n",
    "        # Return the dataframe with missing value information\n",
    "        return mis_val_table_ren_columns"
   ]
  },
  {
   "cell_type": "markdown",
   "metadata": {},
   "source": [
    "### Feature Selection Utils"
   ]
  },
  {
   "cell_type": "markdown",
   "metadata": {},
   "source": [
    "#### 1. Variance Selector\n",
    "\n",
    "Check variance of variable according to a threshold.\n",
    "\n",
    "**Note**\n",
    "- Scaling: no\n",
    "- Impute missing values: yes"
   ]
  },
  {
   "cell_type": "code",
   "execution_count": 11,
   "metadata": {},
   "outputs": [],
   "source": [
    "def var_selector(input_df, threshold = 0.01):\n",
    "    df = input_df.copy()\n",
    "    df = impute_features(df)\n",
    "    selector = VarianceThreshold(threshold)\n",
    "    selector.fit_transform(df)\n",
    "    var_support = selector.get_support()\n",
    "    var_feature = df.loc[:,var_support].columns.tolist()\n",
    "    print('Variance : ', str(len(var_feature)), 'selected features out of', str(len(var_support)))\n",
    "    del df, selector, var_feature\n",
    "    return var_support"
   ]
  },
  {
   "cell_type": "markdown",
   "metadata": {},
   "source": [
    "#### 2. Pearson Correlation Selector\n",
    "Pearson Correlation Coefficient to show linear dependence of variables.\n",
    "\n",
    "**Note**\n",
    "- Scaling: no\n",
    "- Impute missing values: yes"
   ]
  },
  {
   "cell_type": "code",
   "execution_count": 12,
   "metadata": {},
   "outputs": [],
   "source": [
    "def cor_selector(input_df, labels, drop_ratio = 0.5):\n",
    "    drop_ratio = max(0,min(drop_ratio, 1))\n",
    "    df = input_df.copy()\n",
    "    cor_list = []\n",
    "    df = impute_features(df, 'All')\n",
    "    # calculate the correlation with y for each feature\n",
    "    for i in df.columns.tolist():\n",
    "        cor = np.corrcoef(df[i], labels)[0, 1]\n",
    "        cor_list.append(cor)\n",
    "    # replace NaN with 0\n",
    "    cor_list = [0 if np.isnan(i) else i for i in cor_list]\n",
    "    # feature name\n",
    "    cor_feature = df.iloc[:,np.argsort(np.abs(cor_list))[-int(len(cor_list) * drop_ratio):]].columns.tolist()\n",
    "    # feature selection? 0 for not select, 1 for select\n",
    "    cor_support = [True if i in cor_feature else False for i in df.columns]\n",
    "    print('Pearson : ', str(len(cor_feature)), 'selected features out of', str(len(cor_support)))\n",
    "    del df, cor_feature\n",
    "    return cor_support"
   ]
  },
  {
   "cell_type": "markdown",
   "metadata": {},
   "source": [
    "#### 3. Chi2 Selector\n",
    "Chi-square statistic test to check independance of variable and the class\n",
    "\n",
    "**Note**\n",
    "- Scaling: yes\n",
    "- Impute missing values: yes"
   ]
  },
  {
   "cell_type": "code",
   "execution_count": 13,
   "metadata": {},
   "outputs": [],
   "source": [
    "def chi_selector(input_df, labels, drop_ratio = 0.5):\n",
    "    drop_ratio = max(0,min(drop_ratio, 1))\n",
    "    df = input_df.copy()\n",
    "    num_feats = int(len(df.columns) * drop_ratio)\n",
    "    df = impute_features(df, features ='All')    \n",
    "    df = scale_features(df)\n",
    "    selector = SelectKBest(chi2, k=num_feats)\n",
    "    selector.fit(df, labels)\n",
    "    chi_support = selector.get_support()\n",
    "    chi_feature = df.loc[:,chi_support].columns.tolist()\n",
    "    print('CHI2 : ', str(len(chi_feature)), 'selected features out of', str(len(chi_support)))\n",
    "    del df, selector, chi_feature\n",
    "    return chi_support"
   ]
  },
  {
   "cell_type": "markdown",
   "metadata": {},
   "source": [
    "#### 4. RFE Selector (Recursive Feature Selection)\n",
    "**Note**\n",
    "- Scaling: yes\n",
    "- Impute missing values: yes "
   ]
  },
  {
   "cell_type": "code",
   "execution_count": 14,
   "metadata": {},
   "outputs": [],
   "source": [
    "def rfe_selector(input_df, labels, drop_ratio = 0.5):\n",
    "    drop_ratio = max(0,min(drop_ratio, 1))\n",
    "    df = input_df.copy()\n",
    "    num_feats = int(len(df.columns) * drop_ratio)\n",
    "    df = impute_features(df, features ='All')    \n",
    "    df = scale_features(df)\n",
    "    selector = RFE(estimator=LogisticRegression(solver='saga', n_jobs=-1), n_features_to_select=num_feats, step=10, verbose=20)\n",
    "    selector.fit(df, labels)\n",
    "    rfe_support = selector.get_support()\n",
    "    rfe_feature = df.loc[:,rfe_support].columns.tolist()\n",
    "    print('RFE : ', str(len(rfe_feature)), 'selected features out of', str(len(rfe_feature)))\n",
    "    del df, selector, rfe_feature\n",
    "    return rfe_support"
   ]
  },
  {
   "cell_type": "markdown",
   "metadata": {},
   "source": [
    "#### 5. Random Forest Selector\n",
    "**Note**\n",
    "- Scaling: no\n",
    "- Impute missing values: yes"
   ]
  },
  {
   "cell_type": "code",
   "execution_count": 15,
   "metadata": {},
   "outputs": [],
   "source": [
    "def rf_selector(input_df, labels, drop_ratio = 0.5):\n",
    "    drop_ratio = max(0,min(drop_ratio, 1))\n",
    "    df = input_df.copy()\n",
    "    num_feats = int(len(df.columns) * drop_ratio)\n",
    "    df = impute_features(df, features ='All')\n",
    "    selector = SelectFromModel(RandomForestClassifier(n_estimators=150), threshold='1.25*median')\n",
    "    selector.fit(df, labels)\n",
    "    rf_support = selector.get_support()\n",
    "    rf_feature = df.loc[:,rf_support].columns.tolist()\n",
    "    print('RF : ', str(len(rf_support)), 'selected features out of', str(len(rf_feature)))\n",
    "    del df, selector, rf_feature\n",
    "    return rf_support"
   ]
  },
  {
   "cell_type": "code",
   "execution_count": 16,
   "metadata": {},
   "outputs": [],
   "source": [
    "def select_features(input_df, labels, min_votes = 3, drop_ratio = 0.5):\n",
    "    \n",
    "    df = input_df.copy()\n",
    "    \n",
    "    var_support = var_selector(df)\n",
    "    cor_support = cor_selector(df, labels, drop_ratio)\n",
    "    chi_support = chi_selector(df, labels, drop_ratio)\n",
    "    rfe_support = rfe_selector(df, labels, drop_ratio)\n",
    "    rf_support = rf_selector(df, labels, drop_ratio)\n",
    "    \n",
    "    pd.set_option('display.max_rows', None)\n",
    "    \n",
    "    # put all selection together\n",
    "    feature_selection_df = pd.DataFrame({'Feature':df.columns, 'Variance': var_support, 'Pearson':cor_support,\n",
    "                                         'Chi-2':chi_support, 'RFE':rfe_support, 'Random Forest':rf_support})\n",
    "    ## count the selected times for each feature\n",
    "    feature_selection_df['Total'] = np.sum(feature_selection_df, axis=1)\n",
    "    # display the top 100\n",
    "    feature_selection_df = feature_selection_df.sort_values(['Total','Feature'] , ascending=False)\n",
    "    \n",
    "    feature_selection_df.index = range(1, len(feature_selection_df)+1)\n",
    "    \n",
    "    del df, var_support, cor_support, chi_support, rfe_support, rf_support\n",
    "    \n",
    "    return feature_selection_df"
   ]
  },
  {
   "cell_type": "markdown",
   "metadata": {},
   "source": [
    "### Sampling "
   ]
  },
  {
   "cell_type": "code",
   "execution_count": 17,
   "metadata": {},
   "outputs": [],
   "source": [
    "def take_sample(df, labels, stratified = True):\n",
    "    df['TARGET'] = labels\n",
    "    num_samples = df.loc[df.TARGET==1].shape[0]\n",
    "    if (stratified):\n",
    "        sampling_ratio = num_samples / df.shape[0]\n",
    "        sample1 = df.loc[df.TARGET==1].sample(frac=sampling_ratio, replace=False)\n",
    "        print('label 1 sample size:', str(sample1.shape[0]))\n",
    "        sample0 = df.loc[df.TARGET==0].sample(frac=sampling_ratio, replace=False)\n",
    "        print('label 0 sample size:', str(sample0.shape[0]))\n",
    "    else:\n",
    "        sample1 = df.loc[df.TARGET==1].sample(n=num_samples, replace=False)\n",
    "        print('label 1 sample size:', str(sample1.shape[0]))\n",
    "        sample0 = df.loc[df.TARGET==0].sample(n=num_samples, replace=False)\n",
    "        print('label 0 sample size:', str(sample0.shape[0]))\n",
    "    \n",
    "    sampled_df = pd.concat([sample1, sample0], axis=0)\n",
    "    sampled_labels = sampled_df.pop('TARGET')\n",
    "    return sampled_df, sampled_labels"
   ]
  },
  {
   "cell_type": "code",
   "execution_count": 18,
   "metadata": {},
   "outputs": [],
   "source": [
    "dataFolder, outputFolder = setupFolderPaths()"
   ]
  },
  {
   "cell_type": "code",
   "execution_count": 19,
   "metadata": {},
   "outputs": [],
   "source": [
    "input_df = readFile(dataFolder + '\\\\application_train.csv')\n",
    "input_df = replace_outliers(input_df)"
   ]
  },
  {
   "cell_type": "markdown",
   "metadata": {},
   "source": [
    "## Data set version 1: with missing values as NaN\n",
    "### Data set version 1_a: Null values without categorical features"
   ]
  },
  {
   "cell_type": "code",
   "execution_count": 22,
   "metadata": {},
   "outputs": [
    {
     "name": "stdout",
     "output_type": "stream",
     "text": [
      "Your selected dataframe has 122 columns.\n",
      "There are 69 columns that have missing values.\n",
      "49 columns have been dropped from input data set\n",
      "<class 'pandas.core.frame.DataFrame'>\n",
      "Int64Index: 307507 entries, 0 to 307510\n",
      "Data columns (total 35 columns):\n",
      "SK_ID_CURR                     307507 non-null int64\n",
      "TARGET                         307507 non-null int64\n",
      "CNT_CHILDREN                   307507 non-null int64\n",
      "AMT_INCOME_TOTAL               307502 non-null float64\n",
      "AMT_CREDIT                     307507 non-null float64\n",
      "AMT_ANNUITY                    307495 non-null float64\n",
      "AMT_GOODS_PRICE                307229 non-null float64\n",
      "REGION_POPULATION_RELATIVE     307507 non-null float64\n",
      "DAYS_BIRTH                     307507 non-null int64\n",
      "DAYS_EMPLOYED                  252133 non-null float64\n",
      "DAYS_REGISTRATION              307507 non-null float64\n",
      "DAYS_ID_PUBLISH                307507 non-null int64\n",
      "CNT_FAM_MEMBERS                307505 non-null float64\n",
      "REGION_RATING_CLIENT           307507 non-null int64\n",
      "REGION_RATING_CLIENT_W_CITY    307507 non-null int64\n",
      "HOUR_APPR_PROCESS_START        307507 non-null int64\n",
      "REG_REGION_NOT_LIVE_REGION     307507 non-null int64\n",
      "REG_REGION_NOT_WORK_REGION     307507 non-null int64\n",
      "LIVE_REGION_NOT_WORK_REGION    307507 non-null int64\n",
      "REG_CITY_NOT_LIVE_CITY         307507 non-null int64\n",
      "REG_CITY_NOT_WORK_CITY         307507 non-null int64\n",
      "LIVE_CITY_NOT_WORK_CITY        307507 non-null int64\n",
      "EXT_SOURCE_2                   306847 non-null float64\n",
      "EXT_SOURCE_3                   246542 non-null float64\n",
      "OBS_30_CNT_SOCIAL_CIRCLE       306484 non-null float64\n",
      "DEF_30_CNT_SOCIAL_CIRCLE       306486 non-null float64\n",
      "OBS_60_CNT_SOCIAL_CIRCLE       306485 non-null float64\n",
      "DEF_60_CNT_SOCIAL_CIRCLE       306486 non-null float64\n",
      "DAYS_LAST_PHONE_CHANGE         307506 non-null float64\n",
      "AMT_REQ_CREDIT_BUREAU_HOUR     265988 non-null float64\n",
      "AMT_REQ_CREDIT_BUREAU_DAY      265988 non-null float64\n",
      "AMT_REQ_CREDIT_BUREAU_WEEK     265988 non-null float64\n",
      "AMT_REQ_CREDIT_BUREAU_MON      265988 non-null float64\n",
      "AMT_REQ_CREDIT_BUREAU_QRT      265986 non-null float64\n",
      "AMT_REQ_CREDIT_BUREAU_YEAR     265988 non-null float64\n",
      "dtypes: float64(21), int64(14)\n",
      "memory usage: 84.5 MB\n"
     ]
    },
    {
     "data": {
      "text/plain": [
       "42"
      ]
     },
     "execution_count": 22,
     "metadata": {},
     "output_type": "execute_result"
    }
   ],
   "source": [
    "#Version one with null values included and no categorical features.\n",
    "# Read Training data\n",
    "input_df = readFile(dataFolder + '\\\\application_train.csv')\n",
    "input_df = replace_outliers(input_df)\n",
    "input_df = remove_missing_value_columns(input_df, 40)\n",
    "categorical_feats, floatingPoint_feats, bool_feats, integer_feats = identify_feature_types(input_df,\n",
    "                                                                                        ['TARGET', 'SK_ID_CURR', 'Unnamed :0'])\n",
    "input_df = drop_features(input_df, categorical_feats + bool_feats)\n",
    "\n",
    "input_df.info()\n",
    "del input_df, categorical_feats, floatingPoint_feats, bool_feats, integer_feats\n",
    "gc.collect()"
   ]
  },
  {
   "cell_type": "markdown",
   "metadata": {},
   "source": [
    "### Data set version 1_b: Null values with categorical features OHE"
   ]
  },
  {
   "cell_type": "code",
   "execution_count": 23,
   "metadata": {},
   "outputs": [
    {
     "name": "stdout",
     "output_type": "stream",
     "text": [
      "Your selected dataframe has 122 columns.\n",
      "There are 69 columns that have missing values.\n",
      "49 columns have been dropped from input data set\n",
      "<class 'pandas.core.frame.DataFrame'>\n",
      "Int64Index: 307507 entries, 0 to 307510\n",
      "Columns: 196 entries, SK_ID_CURR to ORGANIZATION_TYPE_nan\n",
      "dtypes: float64(21), int64(175)\n",
      "memory usage: 462.2 MB\n"
     ]
    },
    {
     "data": {
      "text/plain": [
       "49"
      ]
     },
     "execution_count": 23,
     "metadata": {},
     "output_type": "execute_result"
    }
   ],
   "source": [
    "# Read Training data\n",
    "input_df = readFile(dataFolder + '\\\\application_train.csv')\n",
    "input_df = replace_outliers(input_df)\n",
    "input_df = remove_missing_value_columns(input_df, 40)\n",
    "categorical_feats, floatingPoint_feats, bool_feats, integer_feats = identify_feature_types(input_df,\n",
    "                                                                                        ['TARGET', 'SK_ID_CURR', 'Unnamed :0'])\n",
    "\n",
    "input_df = pd.get_dummies(input_df, columns=categorical_feats, dtype=np.int64, dummy_na= True)\n",
    "\n",
    "input_df.info()\n",
    "del input_df, categorical_feats, floatingPoint_feats, bool_feats, integer_feats\n",
    "gc.collect()"
   ]
  },
  {
   "cell_type": "markdown",
   "metadata": {},
   "source": [
    "### Data set version 1_c: Null values with categorical feature WOE encoded"
   ]
  },
  {
   "cell_type": "code",
   "execution_count": 24,
   "metadata": {},
   "outputs": [
    {
     "name": "stdout",
     "output_type": "stream",
     "text": [
      "Your selected dataframe has 122 columns.\n",
      "There are 69 columns that have missing values.\n",
      "49 columns have been dropped from input data set\n",
      "<class 'pandas.core.frame.DataFrame'>\n",
      "Int64Index: 307507 entries, 0 to 307510\n",
      "Data columns (total 73 columns):\n",
      "SK_ID_CURR                     307507 non-null int64\n",
      "TARGET                         307507 non-null int64\n",
      "NAME_CONTRACT_TYPE             307507 non-null float64\n",
      "CODE_GENDER                    307507 non-null float64\n",
      "FLAG_OWN_CAR                   307507 non-null float64\n",
      "FLAG_OWN_REALTY                307507 non-null float64\n",
      "CNT_CHILDREN                   307507 non-null int64\n",
      "AMT_INCOME_TOTAL               307502 non-null float64\n",
      "AMT_CREDIT                     307507 non-null float64\n",
      "AMT_ANNUITY                    307495 non-null float64\n",
      "AMT_GOODS_PRICE                307229 non-null float64\n",
      "NAME_TYPE_SUITE                306215 non-null float64\n",
      "NAME_INCOME_TYPE               307507 non-null float64\n",
      "NAME_EDUCATION_TYPE            307507 non-null float64\n",
      "NAME_FAMILY_STATUS             307507 non-null float64\n",
      "NAME_HOUSING_TYPE              307507 non-null float64\n",
      "REGION_POPULATION_RELATIVE     307507 non-null float64\n",
      "DAYS_BIRTH                     307507 non-null int64\n",
      "DAYS_EMPLOYED                  252133 non-null float64\n",
      "DAYS_REGISTRATION              307507 non-null float64\n",
      "DAYS_ID_PUBLISH                307507 non-null int64\n",
      "FLAG_MOBIL                     307507 non-null int64\n",
      "FLAG_EMP_PHONE                 307507 non-null int64\n",
      "FLAG_WORK_PHONE                307507 non-null int64\n",
      "FLAG_CONT_MOBILE               307507 non-null int64\n",
      "FLAG_PHONE                     307507 non-null int64\n",
      "FLAG_EMAIL                     307507 non-null int64\n",
      "OCCUPATION_TYPE                211118 non-null float64\n",
      "CNT_FAM_MEMBERS                307505 non-null float64\n",
      "REGION_RATING_CLIENT           307507 non-null int64\n",
      "REGION_RATING_CLIENT_W_CITY    307507 non-null int64\n",
      "WEEKDAY_APPR_PROCESS_START     307507 non-null float64\n",
      "HOUR_APPR_PROCESS_START        307507 non-null int64\n",
      "REG_REGION_NOT_LIVE_REGION     307507 non-null int64\n",
      "REG_REGION_NOT_WORK_REGION     307507 non-null int64\n",
      "LIVE_REGION_NOT_WORK_REGION    307507 non-null int64\n",
      "REG_CITY_NOT_LIVE_CITY         307507 non-null int64\n",
      "REG_CITY_NOT_WORK_CITY         307507 non-null int64\n",
      "LIVE_CITY_NOT_WORK_CITY        307507 non-null int64\n",
      "ORGANIZATION_TYPE              307507 non-null float64\n",
      "EXT_SOURCE_2                   306847 non-null float64\n",
      "EXT_SOURCE_3                   246542 non-null float64\n",
      "OBS_30_CNT_SOCIAL_CIRCLE       306484 non-null float64\n",
      "DEF_30_CNT_SOCIAL_CIRCLE       306486 non-null float64\n",
      "OBS_60_CNT_SOCIAL_CIRCLE       306485 non-null float64\n",
      "DEF_60_CNT_SOCIAL_CIRCLE       306486 non-null float64\n",
      "DAYS_LAST_PHONE_CHANGE         307506 non-null float64\n",
      "FLAG_DOCUMENT_2                307507 non-null int64\n",
      "FLAG_DOCUMENT_3                307507 non-null int64\n",
      "FLAG_DOCUMENT_4                307507 non-null int64\n",
      "FLAG_DOCUMENT_5                307507 non-null int64\n",
      "FLAG_DOCUMENT_6                307507 non-null int64\n",
      "FLAG_DOCUMENT_7                307507 non-null int64\n",
      "FLAG_DOCUMENT_8                307507 non-null int64\n",
      "FLAG_DOCUMENT_9                307507 non-null int64\n",
      "FLAG_DOCUMENT_10               307507 non-null int64\n",
      "FLAG_DOCUMENT_11               307507 non-null int64\n",
      "FLAG_DOCUMENT_12               307507 non-null int64\n",
      "FLAG_DOCUMENT_13               307507 non-null int64\n",
      "FLAG_DOCUMENT_14               307507 non-null int64\n",
      "FLAG_DOCUMENT_15               307507 non-null int64\n",
      "FLAG_DOCUMENT_16               307507 non-null int64\n",
      "FLAG_DOCUMENT_17               307507 non-null int64\n",
      "FLAG_DOCUMENT_18               307507 non-null int64\n",
      "FLAG_DOCUMENT_19               307507 non-null int64\n",
      "FLAG_DOCUMENT_20               307507 non-null int64\n",
      "FLAG_DOCUMENT_21               307507 non-null int64\n",
      "AMT_REQ_CREDIT_BUREAU_HOUR     265988 non-null float64\n",
      "AMT_REQ_CREDIT_BUREAU_DAY      265988 non-null float64\n",
      "AMT_REQ_CREDIT_BUREAU_WEEK     265988 non-null float64\n",
      "AMT_REQ_CREDIT_BUREAU_MON      265988 non-null float64\n",
      "AMT_REQ_CREDIT_BUREAU_QRT      265986 non-null float64\n",
      "AMT_REQ_CREDIT_BUREAU_YEAR     265988 non-null float64\n",
      "dtypes: float64(33), int64(40)\n",
      "memory usage: 173.6 MB\n"
     ]
    },
    {
     "data": {
      "text/plain": [
       "70"
      ]
     },
     "execution_count": 24,
     "metadata": {},
     "output_type": "execute_result"
    }
   ],
   "source": [
    "# Read Training data\n",
    "input_df = readFile(dataFolder + '\\\\application_train.csv')\n",
    "input_df = replace_outliers(input_df)\n",
    "input_df = remove_missing_value_columns(input_df, 40)\n",
    "categorical_feats, floatingPoint_feats, bool_feats, integer_feats = identify_feature_types(input_df,\n",
    "                                                                                        ['TARGET', 'SK_ID_CURR', 'Unnamed :0'])\n",
    "for cat_feature in categorical_feats:\n",
    "    WoE_df = calculate_WOE(input_df, 'TARGET', cat_feature)\n",
    "    input_df[cat_feature] = input_df[cat_feature].replace(WoE_df.set_index('Value')['WoE'])\n",
    "\n",
    "input_df.info()\n",
    "del input_df, categorical_feats, floatingPoint_feats, bool_feats, integer_feats, WoE_df\n",
    "gc.collect()"
   ]
  },
  {
   "cell_type": "markdown",
   "metadata": {},
   "source": [
    "## Data set version 2: With missing value entries omitted\n",
    "### Data set version 2_a: Without categorical features "
   ]
  },
  {
   "cell_type": "code",
   "execution_count": 25,
   "metadata": {},
   "outputs": [
    {
     "name": "stdout",
     "output_type": "stream",
     "text": [
      "Your selected dataframe has 122 columns.\n",
      "There are 69 columns that have missing values.\n",
      "49 columns have been dropped from input data set\n",
      "<class 'pandas.core.frame.DataFrame'>\n",
      "Int64Index: 201083 entries, 0 to 307510\n",
      "Data columns (total 35 columns):\n",
      "SK_ID_CURR                     201083 non-null int64\n",
      "TARGET                         201083 non-null int64\n",
      "CNT_CHILDREN                   201083 non-null int64\n",
      "AMT_INCOME_TOTAL               201083 non-null float64\n",
      "AMT_CREDIT                     201083 non-null float64\n",
      "AMT_ANNUITY                    201083 non-null float64\n",
      "AMT_GOODS_PRICE                201083 non-null float64\n",
      "REGION_POPULATION_RELATIVE     201083 non-null float64\n",
      "DAYS_BIRTH                     201083 non-null int64\n",
      "DAYS_EMPLOYED                  201083 non-null float64\n",
      "DAYS_REGISTRATION              201083 non-null float64\n",
      "DAYS_ID_PUBLISH                201083 non-null int64\n",
      "CNT_FAM_MEMBERS                201083 non-null float64\n",
      "REGION_RATING_CLIENT           201083 non-null int64\n",
      "REGION_RATING_CLIENT_W_CITY    201083 non-null int64\n",
      "HOUR_APPR_PROCESS_START        201083 non-null int64\n",
      "REG_REGION_NOT_LIVE_REGION     201083 non-null int64\n",
      "REG_REGION_NOT_WORK_REGION     201083 non-null int64\n",
      "LIVE_REGION_NOT_WORK_REGION    201083 non-null int64\n",
      "REG_CITY_NOT_LIVE_CITY         201083 non-null int64\n",
      "REG_CITY_NOT_WORK_CITY         201083 non-null int64\n",
      "LIVE_CITY_NOT_WORK_CITY        201083 non-null int64\n",
      "EXT_SOURCE_2                   201083 non-null float64\n",
      "EXT_SOURCE_3                   201083 non-null float64\n",
      "OBS_30_CNT_SOCIAL_CIRCLE       201083 non-null float64\n",
      "DEF_30_CNT_SOCIAL_CIRCLE       201083 non-null float64\n",
      "OBS_60_CNT_SOCIAL_CIRCLE       201083 non-null float64\n",
      "DEF_60_CNT_SOCIAL_CIRCLE       201083 non-null float64\n",
      "DAYS_LAST_PHONE_CHANGE         201083 non-null float64\n",
      "AMT_REQ_CREDIT_BUREAU_HOUR     201083 non-null float64\n",
      "AMT_REQ_CREDIT_BUREAU_DAY      201083 non-null float64\n",
      "AMT_REQ_CREDIT_BUREAU_WEEK     201083 non-null float64\n",
      "AMT_REQ_CREDIT_BUREAU_MON      201083 non-null float64\n",
      "AMT_REQ_CREDIT_BUREAU_QRT      201083 non-null float64\n",
      "AMT_REQ_CREDIT_BUREAU_YEAR     201083 non-null float64\n",
      "dtypes: float64(21), int64(14)\n",
      "memory usage: 55.2 MB\n"
     ]
    },
    {
     "data": {
      "text/plain": [
       "42"
      ]
     },
     "execution_count": 25,
     "metadata": {},
     "output_type": "execute_result"
    }
   ],
   "source": [
    "#Version with no null values and categorical features.\n",
    "# Read Training data\n",
    "input_df = readFile(dataFolder + '\\\\application_train.csv')\n",
    "input_df = replace_outliers(input_df)\n",
    "input_df = remove_missing_value_columns(input_df, 40)\n",
    "categorical_feats, floatingPoint_feats, bool_feats, integer_feats = identify_feature_types(input_df,\n",
    "                                                                                        ['TARGET', 'SK_ID_CURR', 'Unnamed :0'])\n",
    "input_df = drop_features(input_df, categorical_feats + bool_feats)\n",
    "input_df = input_df.dropna()\n",
    "\n",
    "input_df.info()\n",
    "del input_df, categorical_feats, floatingPoint_feats, bool_feats, integer_feats\n",
    "gc.collect()"
   ]
  },
  {
   "cell_type": "markdown",
   "metadata": {},
   "source": [
    "### Data set version 2_b: With categorical features OHE"
   ]
  },
  {
   "cell_type": "code",
   "execution_count": 26,
   "metadata": {},
   "outputs": [
    {
     "name": "stdout",
     "output_type": "stream",
     "text": [
      "Your selected dataframe has 122 columns.\n",
      "There are 69 columns that have missing values.\n",
      "49 columns have been dropped from input data set\n",
      "<class 'pandas.core.frame.DataFrame'>\n",
      "Int64Index: 167725 entries, 0 to 307510\n",
      "Columns: 192 entries, SK_ID_CURR to ORGANIZATION_TYPE_nan\n",
      "dtypes: float64(21), int64(171)\n",
      "memory usage: 247.0 MB\n"
     ]
    },
    {
     "data": {
      "text/plain": [
       "49"
      ]
     },
     "execution_count": 26,
     "metadata": {},
     "output_type": "execute_result"
    }
   ],
   "source": [
    "# Read Training data\n",
    "input_df = readFile(dataFolder + '\\\\application_train.csv')\n",
    "input_df = replace_outliers(input_df)\n",
    "input_df = remove_missing_value_columns(input_df, 40)\n",
    "categorical_feats, floatingPoint_feats, bool_feats, integer_feats = identify_feature_types(input_df,\n",
    "                                                                                        ['TARGET', 'SK_ID_CURR', 'Unnamed :0'])\n",
    "input_df = input_df.dropna()\n",
    "\n",
    "input_df = pd.get_dummies(input_df, columns=categorical_feats, dtype=np.int64, dummy_na= True)\n",
    "\n",
    "input_df.info()\n",
    "del input_df, categorical_feats, floatingPoint_feats, bool_feats, integer_feats\n",
    "gc.collect()"
   ]
  },
  {
   "cell_type": "markdown",
   "metadata": {},
   "source": [
    "### Data set version 2_c: With categorical features WOE Encoded"
   ]
  },
  {
   "cell_type": "code",
   "execution_count": 27,
   "metadata": {},
   "outputs": [
    {
     "name": "stdout",
     "output_type": "stream",
     "text": [
      "Your selected dataframe has 122 columns.\n",
      "There are 69 columns that have missing values.\n",
      "49 columns have been dropped from input data set\n",
      "<class 'pandas.core.frame.DataFrame'>\n",
      "Int64Index: 167725 entries, 0 to 307510\n",
      "Data columns (total 73 columns):\n",
      "SK_ID_CURR                     167725 non-null int64\n",
      "TARGET                         167725 non-null int64\n",
      "NAME_CONTRACT_TYPE             167725 non-null float64\n",
      "CODE_GENDER                    167725 non-null float64\n",
      "FLAG_OWN_CAR                   167725 non-null float64\n",
      "FLAG_OWN_REALTY                167725 non-null float64\n",
      "CNT_CHILDREN                   167725 non-null int64\n",
      "AMT_INCOME_TOTAL               167725 non-null float64\n",
      "AMT_CREDIT                     167725 non-null float64\n",
      "AMT_ANNUITY                    167725 non-null float64\n",
      "AMT_GOODS_PRICE                167725 non-null float64\n",
      "NAME_TYPE_SUITE                167725 non-null float64\n",
      "NAME_INCOME_TYPE               167725 non-null float64\n",
      "NAME_EDUCATION_TYPE            167725 non-null float64\n",
      "NAME_FAMILY_STATUS             167725 non-null float64\n",
      "NAME_HOUSING_TYPE              167725 non-null float64\n",
      "REGION_POPULATION_RELATIVE     167725 non-null float64\n",
      "DAYS_BIRTH                     167725 non-null int64\n",
      "DAYS_EMPLOYED                  167725 non-null float64\n",
      "DAYS_REGISTRATION              167725 non-null float64\n",
      "DAYS_ID_PUBLISH                167725 non-null int64\n",
      "FLAG_MOBIL                     167725 non-null int64\n",
      "FLAG_EMP_PHONE                 167725 non-null int64\n",
      "FLAG_WORK_PHONE                167725 non-null int64\n",
      "FLAG_CONT_MOBILE               167725 non-null int64\n",
      "FLAG_PHONE                     167725 non-null int64\n",
      "FLAG_EMAIL                     167725 non-null int64\n",
      "OCCUPATION_TYPE                167725 non-null float64\n",
      "CNT_FAM_MEMBERS                167725 non-null float64\n",
      "REGION_RATING_CLIENT           167725 non-null int64\n",
      "REGION_RATING_CLIENT_W_CITY    167725 non-null int64\n",
      "WEEKDAY_APPR_PROCESS_START     167725 non-null float64\n",
      "HOUR_APPR_PROCESS_START        167725 non-null int64\n",
      "REG_REGION_NOT_LIVE_REGION     167725 non-null int64\n",
      "REG_REGION_NOT_WORK_REGION     167725 non-null int64\n",
      "LIVE_REGION_NOT_WORK_REGION    167725 non-null int64\n",
      "REG_CITY_NOT_LIVE_CITY         167725 non-null int64\n",
      "REG_CITY_NOT_WORK_CITY         167725 non-null int64\n",
      "LIVE_CITY_NOT_WORK_CITY        167725 non-null int64\n",
      "ORGANIZATION_TYPE              167725 non-null float64\n",
      "EXT_SOURCE_2                   167725 non-null float64\n",
      "EXT_SOURCE_3                   167725 non-null float64\n",
      "OBS_30_CNT_SOCIAL_CIRCLE       167725 non-null float64\n",
      "DEF_30_CNT_SOCIAL_CIRCLE       167725 non-null float64\n",
      "OBS_60_CNT_SOCIAL_CIRCLE       167725 non-null float64\n",
      "DEF_60_CNT_SOCIAL_CIRCLE       167725 non-null float64\n",
      "DAYS_LAST_PHONE_CHANGE         167725 non-null float64\n",
      "FLAG_DOCUMENT_2                167725 non-null int64\n",
      "FLAG_DOCUMENT_3                167725 non-null int64\n",
      "FLAG_DOCUMENT_4                167725 non-null int64\n",
      "FLAG_DOCUMENT_5                167725 non-null int64\n",
      "FLAG_DOCUMENT_6                167725 non-null int64\n",
      "FLAG_DOCUMENT_7                167725 non-null int64\n",
      "FLAG_DOCUMENT_8                167725 non-null int64\n",
      "FLAG_DOCUMENT_9                167725 non-null int64\n",
      "FLAG_DOCUMENT_10               167725 non-null int64\n",
      "FLAG_DOCUMENT_11               167725 non-null int64\n",
      "FLAG_DOCUMENT_12               167725 non-null int64\n",
      "FLAG_DOCUMENT_13               167725 non-null int64\n",
      "FLAG_DOCUMENT_14               167725 non-null int64\n",
      "FLAG_DOCUMENT_15               167725 non-null int64\n",
      "FLAG_DOCUMENT_16               167725 non-null int64\n",
      "FLAG_DOCUMENT_17               167725 non-null int64\n",
      "FLAG_DOCUMENT_18               167725 non-null int64\n",
      "FLAG_DOCUMENT_19               167725 non-null int64\n",
      "FLAG_DOCUMENT_20               167725 non-null int64\n",
      "FLAG_DOCUMENT_21               167725 non-null int64\n",
      "AMT_REQ_CREDIT_BUREAU_HOUR     167725 non-null float64\n",
      "AMT_REQ_CREDIT_BUREAU_DAY      167725 non-null float64\n",
      "AMT_REQ_CREDIT_BUREAU_WEEK     167725 non-null float64\n",
      "AMT_REQ_CREDIT_BUREAU_MON      167725 non-null float64\n",
      "AMT_REQ_CREDIT_BUREAU_QRT      167725 non-null float64\n",
      "AMT_REQ_CREDIT_BUREAU_YEAR     167725 non-null float64\n",
      "dtypes: float64(33), int64(40)\n",
      "memory usage: 94.7 MB\n"
     ]
    },
    {
     "data": {
      "text/plain": [
       "168"
      ]
     },
     "execution_count": 27,
     "metadata": {},
     "output_type": "execute_result"
    }
   ],
   "source": [
    "# Read Training data\n",
    "input_df = readFile(dataFolder + '\\\\application_train.csv')\n",
    "input_df = replace_outliers(input_df)\n",
    "input_df = remove_missing_value_columns(input_df, 40)\n",
    "categorical_feats, floatingPoint_feats, bool_feats, integer_feats = identify_feature_types(input_df,\n",
    "                                                                                        ['TARGET', 'SK_ID_CURR', 'Unnamed :0'])\n",
    "input_df = input_df.dropna()\n",
    "\n",
    "for cat_feature in categorical_feats:\n",
    "    WoE_df = calculate_WOE(input_df, 'TARGET', cat_feature)\n",
    "    input_df[cat_feature] = input_df[cat_feature].replace(WoE_df.set_index('Value')['WoE'])\n",
    "\n",
    "input_df.info()\n",
    "del input_df, categorical_feats, floatingPoint_feats, bool_feats, integer_feats, WoE_df\n",
    "gc.collect()"
   ]
  },
  {
   "cell_type": "markdown",
   "metadata": {},
   "source": [
    "## Data set version 3: With missing values imputed\n",
    "### Data set version 3_a: Without categorical features"
   ]
  },
  {
   "cell_type": "code",
   "execution_count": 25,
   "metadata": {},
   "outputs": [
    {
     "name": "stdout",
     "output_type": "stream",
     "text": [
      "<class 'pandas.core.frame.DataFrame'>\n",
      "Int64Index: 307507 entries, 0 to 307510\n",
      "Data columns (total 80 columns):\n",
      "SK_ID_CURR                      307507 non-null int64\n",
      "TARGET                          307507 non-null int64\n",
      "CNT_CHILDREN                    307507 non-null float64\n",
      "AMT_INCOME_TOTAL                307507 non-null float64\n",
      "AMT_CREDIT                      307507 non-null float64\n",
      "AMT_ANNUITY                     307507 non-null float64\n",
      "AMT_GOODS_PRICE                 307507 non-null float64\n",
      "REGION_POPULATION_RELATIVE      307507 non-null float64\n",
      "DAYS_BIRTH                      307507 non-null float64\n",
      "DAYS_EMPLOYED                   307507 non-null float64\n",
      "DAYS_REGISTRATION               307507 non-null float64\n",
      "DAYS_ID_PUBLISH                 307507 non-null float64\n",
      "OWN_CAR_AGE                     307507 non-null float64\n",
      "CNT_FAM_MEMBERS                 307507 non-null float64\n",
      "REGION_RATING_CLIENT            307507 non-null float64\n",
      "REGION_RATING_CLIENT_W_CITY     307507 non-null float64\n",
      "HOUR_APPR_PROCESS_START         307507 non-null float64\n",
      "REG_REGION_NOT_LIVE_REGION      307507 non-null float64\n",
      "REG_REGION_NOT_WORK_REGION      307507 non-null float64\n",
      "LIVE_REGION_NOT_WORK_REGION     307507 non-null float64\n",
      "REG_CITY_NOT_LIVE_CITY          307507 non-null float64\n",
      "REG_CITY_NOT_WORK_CITY          307507 non-null float64\n",
      "LIVE_CITY_NOT_WORK_CITY         307507 non-null float64\n",
      "EXT_SOURCE_1                    307507 non-null float64\n",
      "EXT_SOURCE_2                    307507 non-null float64\n",
      "EXT_SOURCE_3                    307507 non-null float64\n",
      "APARTMENTS_AVG                  307507 non-null float64\n",
      "BASEMENTAREA_AVG                307507 non-null float64\n",
      "YEARS_BEGINEXPLUATATION_AVG     307507 non-null float64\n",
      "YEARS_BUILD_AVG                 307507 non-null float64\n",
      "COMMONAREA_AVG                  307507 non-null float64\n",
      "ELEVATORS_AVG                   307507 non-null float64\n",
      "ENTRANCES_AVG                   307507 non-null float64\n",
      "FLOORSMAX_AVG                   307507 non-null float64\n",
      "FLOORSMIN_AVG                   307507 non-null float64\n",
      "LANDAREA_AVG                    307507 non-null float64\n",
      "LIVINGAPARTMENTS_AVG            307507 non-null float64\n",
      "LIVINGAREA_AVG                  307507 non-null float64\n",
      "NONLIVINGAPARTMENTS_AVG         307507 non-null float64\n",
      "NONLIVINGAREA_AVG               307507 non-null float64\n",
      "APARTMENTS_MODE                 307507 non-null float64\n",
      "BASEMENTAREA_MODE               307507 non-null float64\n",
      "YEARS_BEGINEXPLUATATION_MODE    307507 non-null float64\n",
      "YEARS_BUILD_MODE                307507 non-null float64\n",
      "COMMONAREA_MODE                 307507 non-null float64\n",
      "ELEVATORS_MODE                  307507 non-null float64\n",
      "ENTRANCES_MODE                  307507 non-null float64\n",
      "FLOORSMAX_MODE                  307507 non-null float64\n",
      "FLOORSMIN_MODE                  307507 non-null float64\n",
      "LANDAREA_MODE                   307507 non-null float64\n",
      "LIVINGAPARTMENTS_MODE           307507 non-null float64\n",
      "LIVINGAREA_MODE                 307507 non-null float64\n",
      "NONLIVINGAPARTMENTS_MODE        307507 non-null float64\n",
      "NONLIVINGAREA_MODE              307507 non-null float64\n",
      "APARTMENTS_MEDI                 307507 non-null float64\n",
      "BASEMENTAREA_MEDI               307507 non-null float64\n",
      "YEARS_BEGINEXPLUATATION_MEDI    307507 non-null float64\n",
      "YEARS_BUILD_MEDI                307507 non-null float64\n",
      "COMMONAREA_MEDI                 307507 non-null float64\n",
      "ELEVATORS_MEDI                  307507 non-null float64\n",
      "ENTRANCES_MEDI                  307507 non-null float64\n",
      "FLOORSMAX_MEDI                  307507 non-null float64\n",
      "FLOORSMIN_MEDI                  307507 non-null float64\n",
      "LANDAREA_MEDI                   307507 non-null float64\n",
      "LIVINGAPARTMENTS_MEDI           307507 non-null float64\n",
      "LIVINGAREA_MEDI                 307507 non-null float64\n",
      "NONLIVINGAPARTMENTS_MEDI        307507 non-null float64\n",
      "NONLIVINGAREA_MEDI              307507 non-null float64\n",
      "TOTALAREA_MODE                  307507 non-null float64\n",
      "OBS_30_CNT_SOCIAL_CIRCLE        307507 non-null float64\n",
      "DEF_30_CNT_SOCIAL_CIRCLE        307507 non-null float64\n",
      "OBS_60_CNT_SOCIAL_CIRCLE        307507 non-null float64\n",
      "DEF_60_CNT_SOCIAL_CIRCLE        307507 non-null float64\n",
      "DAYS_LAST_PHONE_CHANGE          307507 non-null float64\n",
      "AMT_REQ_CREDIT_BUREAU_HOUR      307507 non-null float64\n",
      "AMT_REQ_CREDIT_BUREAU_DAY       307507 non-null float64\n",
      "AMT_REQ_CREDIT_BUREAU_WEEK      307507 non-null float64\n",
      "AMT_REQ_CREDIT_BUREAU_MON       307507 non-null float64\n",
      "AMT_REQ_CREDIT_BUREAU_QRT       307507 non-null float64\n",
      "AMT_REQ_CREDIT_BUREAU_YEAR      307507 non-null float64\n",
      "dtypes: float64(78), int64(2)\n",
      "memory usage: 190.0 MB\n"
     ]
    },
    {
     "data": {
      "text/plain": [
       "28"
      ]
     },
     "execution_count": 25,
     "metadata": {},
     "output_type": "execute_result"
    }
   ],
   "source": [
    "# Read Training data\n",
    "input_df = readFile(dataFolder + '\\\\application_train.csv')\n",
    "input_df = replace_outliers(input_df)\n",
    "categorical_feats, floatingPoint_feats, bool_feats, integer_feats = identify_feature_types(input_df,\n",
    "                                                                                        ['TARGET', 'SK_ID_CURR', 'Unnamed :0'])\n",
    "input_df = drop_features(input_df, categorical_feats + bool_feats)\n",
    "input_df = impute_features(input_df, 'All')\n",
    "input_df.info()\n",
    "del input_df, categorical_feats, floatingPoint_feats, bool_feats, integer_feats\n",
    "gc.collect()"
   ]
  },
  {
   "cell_type": "markdown",
   "metadata": {},
   "source": [
    "### Data set version 3_b: With categorical features OHE"
   ]
  },
  {
   "cell_type": "code",
   "execution_count": 26,
   "metadata": {},
   "outputs": [
    {
     "name": "stdout",
     "output_type": "stream",
     "text": [
      "Catagorical Features : 16, Floating Point Features : 66, Boolean Features : 26, Integer Features : 12, Total Count : 120\n",
      "<class 'pandas.core.frame.DataFrame'>\n",
      "Int64Index: 307507 entries, 0 to 307510\n",
      "Columns: 245 entries, SK_ID_CURR to EMERGENCYSTATE_MODE_Yes\n",
      "dtypes: float64(78), int64(167)\n",
      "memory usage: 577.1 MB\n"
     ]
    },
    {
     "data": {
      "text/plain": [
       "28"
      ]
     },
     "execution_count": 26,
     "metadata": {},
     "output_type": "execute_result"
    }
   ],
   "source": [
    "#Nominal variables imputed by mode values and Numerical variables imputed by mean\n",
    "# Read Training data\n",
    "input_df = readFile(dataFolder + '\\\\application_train.csv')\n",
    "input_df = replace_outliers(input_df)\n",
    "categorical_feats, floatingPoint_feats, bool_feats, integer_feats = identify_feature_types(input_df,\n",
    "                                                                        ['TARGET', 'SK_ID_CURR', 'Unnamed :0'], verbose = True)\n",
    "    \n",
    "input_df = impute_features(input_df, 'All')\n",
    "    \n",
    "input_df = pd.get_dummies(input_df, columns=categorical_feats, dtype=np.int64)\n",
    "    \n",
    "input_df.info()\n",
    "del input_df\n",
    "gc.collect()"
   ]
  },
  {
   "cell_type": "markdown",
   "metadata": {},
   "source": [
    "### Data set version 3_c: With categorical features WOE encoding"
   ]
  },
  {
   "cell_type": "code",
   "execution_count": 27,
   "metadata": {},
   "outputs": [
    {
     "name": "stdout",
     "output_type": "stream",
     "text": [
      "<class 'pandas.core.frame.DataFrame'>\n",
      "Int64Index: 307507 entries, 0 to 307510\n",
      "Columns: 122 entries, SK_ID_CURR to AMT_REQ_CREDIT_BUREAU_YEAR\n",
      "dtypes: float64(94), int64(28)\n",
      "memory usage: 288.6 MB\n"
     ]
    },
    {
     "data": {
      "text/plain": [
       "35"
      ]
     },
     "execution_count": 27,
     "metadata": {},
     "output_type": "execute_result"
    }
   ],
   "source": [
    "#Nominal variables imputed by mode values and Numerical variables imputed by mean\n",
    "# Read Training data\n",
    "input_df = readFile(dataFolder + '\\\\application_train.csv')\n",
    "input_df = replace_outliers(input_df)\n",
    "categorical_feats, floatingPoint_feats, bool_feats, integer_feats = identify_feature_types(input_df,\n",
    "                                                                                        ['TARGET', 'SK_ID_CURR', 'Unnamed :0'])\n",
    "input_df = impute_features(input_df, 'All')\n",
    "    \n",
    "#Replace categorical columns with WOE columns\n",
    "for cat_feature in categorical_feats:\n",
    "    WoE_df = calculate_WOE(input_df, 'TARGET', cat_feature)\n",
    "    input_df[cat_feature] = input_df[cat_feature].replace(WoE_df.set_index('Value')['WoE'])\n",
    "    del WoE_df\n",
    "    \n",
    "input_df.info()\n",
    "del input_df, categorical_feats, floatingPoint_feats, bool_feats, integer_feats\n",
    "gc.collect()"
   ]
  },
  {
   "cell_type": "markdown",
   "metadata": {},
   "source": [
    "## Version 4: Imputed and Scaled Numerical Features\n",
    "### Data set version 4_a: Without categorical features"
   ]
  },
  {
   "cell_type": "code",
   "execution_count": 28,
   "metadata": {},
   "outputs": [
    {
     "name": "stdout",
     "output_type": "stream",
     "text": [
      "<class 'pandas.core.frame.DataFrame'>\n",
      "Int64Index: 307507 entries, 0 to 307510\n",
      "Data columns (total 80 columns):\n",
      "SK_ID_CURR                      307507 non-null int64\n",
      "TARGET                          307507 non-null int64\n",
      "CNT_CHILDREN                    307507 non-null float64\n",
      "AMT_INCOME_TOTAL                307507 non-null float64\n",
      "AMT_CREDIT                      307507 non-null float64\n",
      "AMT_ANNUITY                     307507 non-null float64\n",
      "AMT_GOODS_PRICE                 307507 non-null float64\n",
      "REGION_POPULATION_RELATIVE      307507 non-null float64\n",
      "DAYS_BIRTH                      307507 non-null float64\n",
      "DAYS_EMPLOYED                   307507 non-null float64\n",
      "DAYS_REGISTRATION               307507 non-null float64\n",
      "DAYS_ID_PUBLISH                 307507 non-null float64\n",
      "OWN_CAR_AGE                     307507 non-null float64\n",
      "CNT_FAM_MEMBERS                 307507 non-null float64\n",
      "REGION_RATING_CLIENT            307507 non-null float64\n",
      "REGION_RATING_CLIENT_W_CITY     307507 non-null float64\n",
      "HOUR_APPR_PROCESS_START         307507 non-null float64\n",
      "REG_REGION_NOT_LIVE_REGION      307507 non-null float64\n",
      "REG_REGION_NOT_WORK_REGION      307507 non-null float64\n",
      "LIVE_REGION_NOT_WORK_REGION     307507 non-null float64\n",
      "REG_CITY_NOT_LIVE_CITY          307507 non-null float64\n",
      "REG_CITY_NOT_WORK_CITY          307507 non-null float64\n",
      "LIVE_CITY_NOT_WORK_CITY         307507 non-null float64\n",
      "EXT_SOURCE_1                    307507 non-null float64\n",
      "EXT_SOURCE_2                    307507 non-null float64\n",
      "EXT_SOURCE_3                    307507 non-null float64\n",
      "APARTMENTS_AVG                  307507 non-null float64\n",
      "BASEMENTAREA_AVG                307507 non-null float64\n",
      "YEARS_BEGINEXPLUATATION_AVG     307507 non-null float64\n",
      "YEARS_BUILD_AVG                 307507 non-null float64\n",
      "COMMONAREA_AVG                  307507 non-null float64\n",
      "ELEVATORS_AVG                   307507 non-null float64\n",
      "ENTRANCES_AVG                   307507 non-null float64\n",
      "FLOORSMAX_AVG                   307507 non-null float64\n",
      "FLOORSMIN_AVG                   307507 non-null float64\n",
      "LANDAREA_AVG                    307507 non-null float64\n",
      "LIVINGAPARTMENTS_AVG            307507 non-null float64\n",
      "LIVINGAREA_AVG                  307507 non-null float64\n",
      "NONLIVINGAPARTMENTS_AVG         307507 non-null float64\n",
      "NONLIVINGAREA_AVG               307507 non-null float64\n",
      "APARTMENTS_MODE                 307507 non-null float64\n",
      "BASEMENTAREA_MODE               307507 non-null float64\n",
      "YEARS_BEGINEXPLUATATION_MODE    307507 non-null float64\n",
      "YEARS_BUILD_MODE                307507 non-null float64\n",
      "COMMONAREA_MODE                 307507 non-null float64\n",
      "ELEVATORS_MODE                  307507 non-null float64\n",
      "ENTRANCES_MODE                  307507 non-null float64\n",
      "FLOORSMAX_MODE                  307507 non-null float64\n",
      "FLOORSMIN_MODE                  307507 non-null float64\n",
      "LANDAREA_MODE                   307507 non-null float64\n",
      "LIVINGAPARTMENTS_MODE           307507 non-null float64\n",
      "LIVINGAREA_MODE                 307507 non-null float64\n",
      "NONLIVINGAPARTMENTS_MODE        307507 non-null float64\n",
      "NONLIVINGAREA_MODE              307507 non-null float64\n",
      "APARTMENTS_MEDI                 307507 non-null float64\n",
      "BASEMENTAREA_MEDI               307507 non-null float64\n",
      "YEARS_BEGINEXPLUATATION_MEDI    307507 non-null float64\n",
      "YEARS_BUILD_MEDI                307507 non-null float64\n",
      "COMMONAREA_MEDI                 307507 non-null float64\n",
      "ELEVATORS_MEDI                  307507 non-null float64\n",
      "ENTRANCES_MEDI                  307507 non-null float64\n",
      "FLOORSMAX_MEDI                  307507 non-null float64\n",
      "FLOORSMIN_MEDI                  307507 non-null float64\n",
      "LANDAREA_MEDI                   307507 non-null float64\n",
      "LIVINGAPARTMENTS_MEDI           307507 non-null float64\n",
      "LIVINGAREA_MEDI                 307507 non-null float64\n",
      "NONLIVINGAPARTMENTS_MEDI        307507 non-null float64\n",
      "NONLIVINGAREA_MEDI              307507 non-null float64\n",
      "TOTALAREA_MODE                  307507 non-null float64\n",
      "OBS_30_CNT_SOCIAL_CIRCLE        307507 non-null float64\n",
      "DEF_30_CNT_SOCIAL_CIRCLE        307507 non-null float64\n",
      "OBS_60_CNT_SOCIAL_CIRCLE        307507 non-null float64\n",
      "DEF_60_CNT_SOCIAL_CIRCLE        307507 non-null float64\n",
      "DAYS_LAST_PHONE_CHANGE          307507 non-null float64\n",
      "AMT_REQ_CREDIT_BUREAU_HOUR      307507 non-null float64\n",
      "AMT_REQ_CREDIT_BUREAU_DAY       307507 non-null float64\n",
      "AMT_REQ_CREDIT_BUREAU_WEEK      307507 non-null float64\n",
      "AMT_REQ_CREDIT_BUREAU_MON       307507 non-null float64\n",
      "AMT_REQ_CREDIT_BUREAU_QRT       307507 non-null float64\n",
      "AMT_REQ_CREDIT_BUREAU_YEAR      307507 non-null float64\n",
      "dtypes: float64(78), int64(2)\n",
      "memory usage: 190.0 MB\n"
     ]
    },
    {
     "data": {
      "text/plain": [
       "28"
      ]
     },
     "execution_count": 28,
     "metadata": {},
     "output_type": "execute_result"
    }
   ],
   "source": [
    "# Read Training data\n",
    "input_df = readFile(dataFolder + '\\\\application_train.csv')\n",
    "input_df = replace_outliers(input_df)\n",
    "categorical_feats, floatingPoint_feats, bool_feats, integer_feats = identify_feature_types(input_df,\n",
    "                                                                                        ['TARGET', 'SK_ID_CURR', 'Unnamed :0'])\n",
    "input_df = drop_features(input_df, categorical_feats + bool_feats)\n",
    "input_df = impute_features(input_df, 'All')\n",
    "input_df = scale_features(input_df, integer_feats + floatingPoint_feats)\n",
    "input_df.info()\n",
    "\n",
    "del input_df, categorical_feats, floatingPoint_feats, bool_feats, integer_feats\n",
    "gc.collect()"
   ]
  },
  {
   "cell_type": "markdown",
   "metadata": {},
   "source": [
    "### Data set version 4_b: With categorical features OHE"
   ]
  },
  {
   "cell_type": "code",
   "execution_count": 29,
   "metadata": {},
   "outputs": [
    {
     "name": "stdout",
     "output_type": "stream",
     "text": [
      "Catagorical Features : 16, Floating Point Features : 66, Boolean Features : 26, Integer Features : 12, Total Count : 120\n",
      "<class 'pandas.core.frame.DataFrame'>\n",
      "Int64Index: 307507 entries, 0 to 307510\n",
      "Columns: 245 entries, SK_ID_CURR to EMERGENCYSTATE_MODE_Yes\n",
      "dtypes: float64(78), int64(167)\n",
      "memory usage: 577.1 MB\n"
     ]
    },
    {
     "data": {
      "text/plain": [
       "28"
      ]
     },
     "execution_count": 29,
     "metadata": {},
     "output_type": "execute_result"
    }
   ],
   "source": [
    "# Read Training data\n",
    "input_df = readFile(dataFolder + '\\\\application_train.csv')\n",
    "input_df = replace_outliers(input_df)\n",
    "categorical_feats, floatingPoint_feats, bool_feats, integer_feats = identify_feature_types(input_df,\n",
    "                                                                        ['TARGET', 'SK_ID_CURR', 'Unnamed :0'], verbose = True)\n",
    "    \n",
    "input_df = impute_features(input_df, 'All')\n",
    "input_df = scale_features(input_df, integer_feats + floatingPoint_feats)\n",
    "    \n",
    "input_df = pd.get_dummies(input_df, columns=categorical_feats, dtype=np.int64)\n",
    "    \n",
    "input_df.info()\n",
    "del input_df\n",
    "gc.collect()"
   ]
  },
  {
   "cell_type": "markdown",
   "metadata": {},
   "source": [
    "### Data set version 4_c: With categorical features WoE Encoded"
   ]
  },
  {
   "cell_type": "code",
   "execution_count": 30,
   "metadata": {},
   "outputs": [
    {
     "name": "stdout",
     "output_type": "stream",
     "text": [
      "<class 'pandas.core.frame.DataFrame'>\n",
      "Int64Index: 307507 entries, 0 to 307510\n",
      "Columns: 122 entries, SK_ID_CURR to AMT_REQ_CREDIT_BUREAU_YEAR\n",
      "dtypes: float64(94), int64(28)\n",
      "memory usage: 288.6 MB\n"
     ]
    },
    {
     "data": {
      "text/plain": [
       "28"
      ]
     },
     "execution_count": 30,
     "metadata": {},
     "output_type": "execute_result"
    }
   ],
   "source": [
    "# Read Training data\n",
    "input_df = readFile(dataFolder + '\\\\application_train.csv')\n",
    "input_df = replace_outliers(input_df)\n",
    "categorical_feats, floatingPoint_feats, bool_feats, integer_feats = identify_feature_types(input_df,\n",
    "                                                                                        ['TARGET', 'SK_ID_CURR', 'Unnamed :0'])\n",
    "input_df = impute_features(input_df, 'All')\n",
    "input_df = scale_features(input_df, integer_feats + floatingPoint_feats)\n",
    "    \n",
    "#Replace categorical columns with WOE columns\n",
    "for cat_feature in categorical_feats:\n",
    "    WoE_df = calculate_WOE(input_df, 'TARGET', cat_feature)\n",
    "    input_df[cat_feature] = input_df[cat_feature].replace(WoE_df.set_index('Value')['WoE'])\n",
    "    del WoE_df\n",
    "    \n",
    "input_df.info()\n",
    "del input_df\n",
    "gc.collect()"
   ]
  },
  {
   "cell_type": "markdown",
   "metadata": {},
   "source": [
    "## Version 5: Impute and Scaled Numerical Features with Feature Selection\n",
    "### Data set version 5_a: Without categorical features"
   ]
  },
  {
   "cell_type": "code",
   "execution_count": 31,
   "metadata": {},
   "outputs": [
    {
     "name": "stdout",
     "output_type": "stream",
     "text": [
      "Catagorical Features : 16, Floating Point Features : 66, Boolean Features : 26, Integer Features : 12, Total Count : 120\n",
      "Variance :  45 selected features out of 104\n",
      "Pearson :  52 selected features out of 104\n"
     ]
    },
    {
     "name": "stderr",
     "output_type": "stream",
     "text": [
      "C:\\Program Files (x86)\\Microsoft Visual Studio\\Shared\\Anaconda3_64\\envs\\MScProject\\lib\\site-packages\\sklearn\\utils\\validation.py:475: DataConversionWarning: Data with input dtype int64 was converted to float64 by MinMaxScaler.\n",
      "  warnings.warn(msg, DataConversionWarning)\n",
      "C:\\Program Files (x86)\\Microsoft Visual Studio\\Shared\\Anaconda3_64\\envs\\MScProject\\lib\\site-packages\\sklearn\\utils\\validation.py:475: DataConversionWarning: Data with input dtype int64 was converted to float64 by MinMaxScaler.\n",
      "  warnings.warn(msg, DataConversionWarning)\n",
      "C:\\Program Files (x86)\\Microsoft Visual Studio\\Shared\\Anaconda3_64\\envs\\MScProject\\lib\\site-packages\\sklearn\\utils\\validation.py:475: DataConversionWarning: Data with input dtype int64 was converted to float64 by MinMaxScaler.\n",
      "  warnings.warn(msg, DataConversionWarning)\n",
      "C:\\Program Files (x86)\\Microsoft Visual Studio\\Shared\\Anaconda3_64\\envs\\MScProject\\lib\\site-packages\\sklearn\\utils\\validation.py:475: DataConversionWarning: Data with input dtype int64 was converted to float64 by MinMaxScaler.\n",
      "  warnings.warn(msg, DataConversionWarning)\n",
      "C:\\Program Files (x86)\\Microsoft Visual Studio\\Shared\\Anaconda3_64\\envs\\MScProject\\lib\\site-packages\\sklearn\\utils\\validation.py:475: DataConversionWarning: Data with input dtype int64 was converted to float64 by MinMaxScaler.\n",
      "  warnings.warn(msg, DataConversionWarning)\n",
      "C:\\Program Files (x86)\\Microsoft Visual Studio\\Shared\\Anaconda3_64\\envs\\MScProject\\lib\\site-packages\\sklearn\\utils\\validation.py:475: DataConversionWarning: Data with input dtype int64 was converted to float64 by MinMaxScaler.\n",
      "  warnings.warn(msg, DataConversionWarning)\n",
      "C:\\Program Files (x86)\\Microsoft Visual Studio\\Shared\\Anaconda3_64\\envs\\MScProject\\lib\\site-packages\\sklearn\\utils\\validation.py:475: DataConversionWarning: Data with input dtype int64 was converted to float64 by MinMaxScaler.\n",
      "  warnings.warn(msg, DataConversionWarning)\n",
      "C:\\Program Files (x86)\\Microsoft Visual Studio\\Shared\\Anaconda3_64\\envs\\MScProject\\lib\\site-packages\\sklearn\\utils\\validation.py:475: DataConversionWarning: Data with input dtype int64 was converted to float64 by MinMaxScaler.\n",
      "  warnings.warn(msg, DataConversionWarning)\n",
      "C:\\Program Files (x86)\\Microsoft Visual Studio\\Shared\\Anaconda3_64\\envs\\MScProject\\lib\\site-packages\\sklearn\\utils\\validation.py:475: DataConversionWarning: Data with input dtype int64 was converted to float64 by MinMaxScaler.\n",
      "  warnings.warn(msg, DataConversionWarning)\n",
      "C:\\Program Files (x86)\\Microsoft Visual Studio\\Shared\\Anaconda3_64\\envs\\MScProject\\lib\\site-packages\\sklearn\\utils\\validation.py:475: DataConversionWarning: Data with input dtype int64 was converted to float64 by MinMaxScaler.\n",
      "  warnings.warn(msg, DataConversionWarning)\n",
      "C:\\Program Files (x86)\\Microsoft Visual Studio\\Shared\\Anaconda3_64\\envs\\MScProject\\lib\\site-packages\\sklearn\\utils\\validation.py:475: DataConversionWarning: Data with input dtype int64 was converted to float64 by MinMaxScaler.\n",
      "  warnings.warn(msg, DataConversionWarning)\n",
      "C:\\Program Files (x86)\\Microsoft Visual Studio\\Shared\\Anaconda3_64\\envs\\MScProject\\lib\\site-packages\\sklearn\\utils\\validation.py:475: DataConversionWarning: Data with input dtype int64 was converted to float64 by MinMaxScaler.\n",
      "  warnings.warn(msg, DataConversionWarning)\n",
      "C:\\Program Files (x86)\\Microsoft Visual Studio\\Shared\\Anaconda3_64\\envs\\MScProject\\lib\\site-packages\\sklearn\\utils\\validation.py:475: DataConversionWarning: Data with input dtype int64 was converted to float64 by MinMaxScaler.\n",
      "  warnings.warn(msg, DataConversionWarning)\n",
      "C:\\Program Files (x86)\\Microsoft Visual Studio\\Shared\\Anaconda3_64\\envs\\MScProject\\lib\\site-packages\\sklearn\\utils\\validation.py:475: DataConversionWarning: Data with input dtype int64 was converted to float64 by MinMaxScaler.\n",
      "  warnings.warn(msg, DataConversionWarning)\n",
      "C:\\Program Files (x86)\\Microsoft Visual Studio\\Shared\\Anaconda3_64\\envs\\MScProject\\lib\\site-packages\\sklearn\\utils\\validation.py:475: DataConversionWarning: Data with input dtype int64 was converted to float64 by MinMaxScaler.\n",
      "  warnings.warn(msg, DataConversionWarning)\n",
      "C:\\Program Files (x86)\\Microsoft Visual Studio\\Shared\\Anaconda3_64\\envs\\MScProject\\lib\\site-packages\\sklearn\\utils\\validation.py:475: DataConversionWarning: Data with input dtype int64 was converted to float64 by MinMaxScaler.\n",
      "  warnings.warn(msg, DataConversionWarning)\n",
      "C:\\Program Files (x86)\\Microsoft Visual Studio\\Shared\\Anaconda3_64\\envs\\MScProject\\lib\\site-packages\\sklearn\\utils\\validation.py:475: DataConversionWarning: Data with input dtype int64 was converted to float64 by MinMaxScaler.\n",
      "  warnings.warn(msg, DataConversionWarning)\n",
      "C:\\Program Files (x86)\\Microsoft Visual Studio\\Shared\\Anaconda3_64\\envs\\MScProject\\lib\\site-packages\\sklearn\\utils\\validation.py:475: DataConversionWarning: Data with input dtype int64 was converted to float64 by MinMaxScaler.\n",
      "  warnings.warn(msg, DataConversionWarning)\n",
      "C:\\Program Files (x86)\\Microsoft Visual Studio\\Shared\\Anaconda3_64\\envs\\MScProject\\lib\\site-packages\\sklearn\\utils\\validation.py:475: DataConversionWarning: Data with input dtype int64 was converted to float64 by MinMaxScaler.\n",
      "  warnings.warn(msg, DataConversionWarning)\n",
      "C:\\Program Files (x86)\\Microsoft Visual Studio\\Shared\\Anaconda3_64\\envs\\MScProject\\lib\\site-packages\\sklearn\\utils\\validation.py:475: DataConversionWarning: Data with input dtype int64 was converted to float64 by MinMaxScaler.\n",
      "  warnings.warn(msg, DataConversionWarning)\n",
      "C:\\Program Files (x86)\\Microsoft Visual Studio\\Shared\\Anaconda3_64\\envs\\MScProject\\lib\\site-packages\\sklearn\\utils\\validation.py:475: DataConversionWarning: Data with input dtype int64 was converted to float64 by MinMaxScaler.\n",
      "  warnings.warn(msg, DataConversionWarning)\n",
      "C:\\Program Files (x86)\\Microsoft Visual Studio\\Shared\\Anaconda3_64\\envs\\MScProject\\lib\\site-packages\\sklearn\\utils\\validation.py:475: DataConversionWarning: Data with input dtype int64 was converted to float64 by MinMaxScaler.\n",
      "  warnings.warn(msg, DataConversionWarning)\n",
      "C:\\Program Files (x86)\\Microsoft Visual Studio\\Shared\\Anaconda3_64\\envs\\MScProject\\lib\\site-packages\\sklearn\\utils\\validation.py:475: DataConversionWarning: Data with input dtype int64 was converted to float64 by MinMaxScaler.\n",
      "  warnings.warn(msg, DataConversionWarning)\n",
      "C:\\Program Files (x86)\\Microsoft Visual Studio\\Shared\\Anaconda3_64\\envs\\MScProject\\lib\\site-packages\\sklearn\\utils\\validation.py:475: DataConversionWarning: Data with input dtype int64 was converted to float64 by MinMaxScaler.\n",
      "  warnings.warn(msg, DataConversionWarning)\n",
      "C:\\Program Files (x86)\\Microsoft Visual Studio\\Shared\\Anaconda3_64\\envs\\MScProject\\lib\\site-packages\\sklearn\\utils\\validation.py:475: DataConversionWarning: Data with input dtype int64 was converted to float64 by MinMaxScaler.\n",
      "  warnings.warn(msg, DataConversionWarning)\n",
      "C:\\Program Files (x86)\\Microsoft Visual Studio\\Shared\\Anaconda3_64\\envs\\MScProject\\lib\\site-packages\\sklearn\\utils\\validation.py:475: DataConversionWarning: Data with input dtype int64 was converted to float64 by MinMaxScaler.\n",
      "  warnings.warn(msg, DataConversionWarning)\n"
     ]
    },
    {
     "name": "stdout",
     "output_type": "stream",
     "text": [
      "CHI2 :  52 selected features out of 104\n"
     ]
    },
    {
     "name": "stderr",
     "output_type": "stream",
     "text": [
      "C:\\Program Files (x86)\\Microsoft Visual Studio\\Shared\\Anaconda3_64\\envs\\MScProject\\lib\\site-packages\\sklearn\\utils\\validation.py:475: DataConversionWarning: Data with input dtype int64 was converted to float64 by MinMaxScaler.\n",
      "  warnings.warn(msg, DataConversionWarning)\n",
      "C:\\Program Files (x86)\\Microsoft Visual Studio\\Shared\\Anaconda3_64\\envs\\MScProject\\lib\\site-packages\\sklearn\\utils\\validation.py:475: DataConversionWarning: Data with input dtype int64 was converted to float64 by MinMaxScaler.\n",
      "  warnings.warn(msg, DataConversionWarning)\n",
      "C:\\Program Files (x86)\\Microsoft Visual Studio\\Shared\\Anaconda3_64\\envs\\MScProject\\lib\\site-packages\\sklearn\\utils\\validation.py:475: DataConversionWarning: Data with input dtype int64 was converted to float64 by MinMaxScaler.\n",
      "  warnings.warn(msg, DataConversionWarning)\n",
      "C:\\Program Files (x86)\\Microsoft Visual Studio\\Shared\\Anaconda3_64\\envs\\MScProject\\lib\\site-packages\\sklearn\\utils\\validation.py:475: DataConversionWarning: Data with input dtype int64 was converted to float64 by MinMaxScaler.\n",
      "  warnings.warn(msg, DataConversionWarning)\n",
      "C:\\Program Files (x86)\\Microsoft Visual Studio\\Shared\\Anaconda3_64\\envs\\MScProject\\lib\\site-packages\\sklearn\\utils\\validation.py:475: DataConversionWarning: Data with input dtype int64 was converted to float64 by MinMaxScaler.\n",
      "  warnings.warn(msg, DataConversionWarning)\n",
      "C:\\Program Files (x86)\\Microsoft Visual Studio\\Shared\\Anaconda3_64\\envs\\MScProject\\lib\\site-packages\\sklearn\\utils\\validation.py:475: DataConversionWarning: Data with input dtype int64 was converted to float64 by MinMaxScaler.\n",
      "  warnings.warn(msg, DataConversionWarning)\n",
      "C:\\Program Files (x86)\\Microsoft Visual Studio\\Shared\\Anaconda3_64\\envs\\MScProject\\lib\\site-packages\\sklearn\\utils\\validation.py:475: DataConversionWarning: Data with input dtype int64 was converted to float64 by MinMaxScaler.\n",
      "  warnings.warn(msg, DataConversionWarning)\n",
      "C:\\Program Files (x86)\\Microsoft Visual Studio\\Shared\\Anaconda3_64\\envs\\MScProject\\lib\\site-packages\\sklearn\\utils\\validation.py:475: DataConversionWarning: Data with input dtype int64 was converted to float64 by MinMaxScaler.\n",
      "  warnings.warn(msg, DataConversionWarning)\n",
      "C:\\Program Files (x86)\\Microsoft Visual Studio\\Shared\\Anaconda3_64\\envs\\MScProject\\lib\\site-packages\\sklearn\\utils\\validation.py:475: DataConversionWarning: Data with input dtype int64 was converted to float64 by MinMaxScaler.\n",
      "  warnings.warn(msg, DataConversionWarning)\n",
      "C:\\Program Files (x86)\\Microsoft Visual Studio\\Shared\\Anaconda3_64\\envs\\MScProject\\lib\\site-packages\\sklearn\\utils\\validation.py:475: DataConversionWarning: Data with input dtype int64 was converted to float64 by MinMaxScaler.\n",
      "  warnings.warn(msg, DataConversionWarning)\n",
      "C:\\Program Files (x86)\\Microsoft Visual Studio\\Shared\\Anaconda3_64\\envs\\MScProject\\lib\\site-packages\\sklearn\\utils\\validation.py:475: DataConversionWarning: Data with input dtype int64 was converted to float64 by MinMaxScaler.\n",
      "  warnings.warn(msg, DataConversionWarning)\n",
      "C:\\Program Files (x86)\\Microsoft Visual Studio\\Shared\\Anaconda3_64\\envs\\MScProject\\lib\\site-packages\\sklearn\\utils\\validation.py:475: DataConversionWarning: Data with input dtype int64 was converted to float64 by MinMaxScaler.\n",
      "  warnings.warn(msg, DataConversionWarning)\n",
      "C:\\Program Files (x86)\\Microsoft Visual Studio\\Shared\\Anaconda3_64\\envs\\MScProject\\lib\\site-packages\\sklearn\\utils\\validation.py:475: DataConversionWarning: Data with input dtype int64 was converted to float64 by MinMaxScaler.\n",
      "  warnings.warn(msg, DataConversionWarning)\n",
      "C:\\Program Files (x86)\\Microsoft Visual Studio\\Shared\\Anaconda3_64\\envs\\MScProject\\lib\\site-packages\\sklearn\\utils\\validation.py:475: DataConversionWarning: Data with input dtype int64 was converted to float64 by MinMaxScaler.\n",
      "  warnings.warn(msg, DataConversionWarning)\n",
      "C:\\Program Files (x86)\\Microsoft Visual Studio\\Shared\\Anaconda3_64\\envs\\MScProject\\lib\\site-packages\\sklearn\\utils\\validation.py:475: DataConversionWarning: Data with input dtype int64 was converted to float64 by MinMaxScaler.\n",
      "  warnings.warn(msg, DataConversionWarning)\n",
      "C:\\Program Files (x86)\\Microsoft Visual Studio\\Shared\\Anaconda3_64\\envs\\MScProject\\lib\\site-packages\\sklearn\\utils\\validation.py:475: DataConversionWarning: Data with input dtype int64 was converted to float64 by MinMaxScaler.\n",
      "  warnings.warn(msg, DataConversionWarning)\n",
      "C:\\Program Files (x86)\\Microsoft Visual Studio\\Shared\\Anaconda3_64\\envs\\MScProject\\lib\\site-packages\\sklearn\\utils\\validation.py:475: DataConversionWarning: Data with input dtype int64 was converted to float64 by MinMaxScaler.\n",
      "  warnings.warn(msg, DataConversionWarning)\n",
      "C:\\Program Files (x86)\\Microsoft Visual Studio\\Shared\\Anaconda3_64\\envs\\MScProject\\lib\\site-packages\\sklearn\\utils\\validation.py:475: DataConversionWarning: Data with input dtype int64 was converted to float64 by MinMaxScaler.\n",
      "  warnings.warn(msg, DataConversionWarning)\n",
      "C:\\Program Files (x86)\\Microsoft Visual Studio\\Shared\\Anaconda3_64\\envs\\MScProject\\lib\\site-packages\\sklearn\\utils\\validation.py:475: DataConversionWarning: Data with input dtype int64 was converted to float64 by MinMaxScaler.\n",
      "  warnings.warn(msg, DataConversionWarning)\n",
      "C:\\Program Files (x86)\\Microsoft Visual Studio\\Shared\\Anaconda3_64\\envs\\MScProject\\lib\\site-packages\\sklearn\\utils\\validation.py:475: DataConversionWarning: Data with input dtype int64 was converted to float64 by MinMaxScaler.\n",
      "  warnings.warn(msg, DataConversionWarning)\n",
      "C:\\Program Files (x86)\\Microsoft Visual Studio\\Shared\\Anaconda3_64\\envs\\MScProject\\lib\\site-packages\\sklearn\\utils\\validation.py:475: DataConversionWarning: Data with input dtype int64 was converted to float64 by MinMaxScaler.\n",
      "  warnings.warn(msg, DataConversionWarning)\n",
      "C:\\Program Files (x86)\\Microsoft Visual Studio\\Shared\\Anaconda3_64\\envs\\MScProject\\lib\\site-packages\\sklearn\\utils\\validation.py:475: DataConversionWarning: Data with input dtype int64 was converted to float64 by MinMaxScaler.\n",
      "  warnings.warn(msg, DataConversionWarning)\n",
      "C:\\Program Files (x86)\\Microsoft Visual Studio\\Shared\\Anaconda3_64\\envs\\MScProject\\lib\\site-packages\\sklearn\\utils\\validation.py:475: DataConversionWarning: Data with input dtype int64 was converted to float64 by MinMaxScaler.\n",
      "  warnings.warn(msg, DataConversionWarning)\n",
      "C:\\Program Files (x86)\\Microsoft Visual Studio\\Shared\\Anaconda3_64\\envs\\MScProject\\lib\\site-packages\\sklearn\\utils\\validation.py:475: DataConversionWarning: Data with input dtype int64 was converted to float64 by MinMaxScaler.\n",
      "  warnings.warn(msg, DataConversionWarning)\n",
      "C:\\Program Files (x86)\\Microsoft Visual Studio\\Shared\\Anaconda3_64\\envs\\MScProject\\lib\\site-packages\\sklearn\\utils\\validation.py:475: DataConversionWarning: Data with input dtype int64 was converted to float64 by MinMaxScaler.\n",
      "  warnings.warn(msg, DataConversionWarning)\n",
      "C:\\Program Files (x86)\\Microsoft Visual Studio\\Shared\\Anaconda3_64\\envs\\MScProject\\lib\\site-packages\\sklearn\\utils\\validation.py:475: DataConversionWarning: Data with input dtype int64 was converted to float64 by MinMaxScaler.\n",
      "  warnings.warn(msg, DataConversionWarning)\n"
     ]
    },
    {
     "name": "stdout",
     "output_type": "stream",
     "text": [
      "Fitting estimator with 104 features.\n"
     ]
    },
    {
     "name": "stderr",
     "output_type": "stream",
     "text": [
      "C:\\Program Files (x86)\\Microsoft Visual Studio\\Shared\\Anaconda3_64\\envs\\MScProject\\lib\\site-packages\\sklearn\\linear_model\\sag.py:326: ConvergenceWarning: The max_iter was reached which means the coef_ did not converge\n",
      "  \"the coef_ did not converge\", ConvergenceWarning)\n"
     ]
    },
    {
     "name": "stdout",
     "output_type": "stream",
     "text": [
      "Fitting estimator with 94 features.\n"
     ]
    },
    {
     "name": "stderr",
     "output_type": "stream",
     "text": [
      "C:\\Program Files (x86)\\Microsoft Visual Studio\\Shared\\Anaconda3_64\\envs\\MScProject\\lib\\site-packages\\sklearn\\linear_model\\sag.py:326: ConvergenceWarning: The max_iter was reached which means the coef_ did not converge\n",
      "  \"the coef_ did not converge\", ConvergenceWarning)\n"
     ]
    },
    {
     "name": "stdout",
     "output_type": "stream",
     "text": [
      "Fitting estimator with 84 features.\n",
      "Fitting estimator with 74 features.\n",
      "Fitting estimator with 64 features.\n",
      "Fitting estimator with 54 features.\n",
      "RFE :  52 selected features out of 52\n",
      "RF :  104 selected features out of 37\n"
     ]
    },
    {
     "name": "stderr",
     "output_type": "stream",
     "text": [
      "C:\\Program Files (x86)\\Microsoft Visual Studio\\Shared\\Anaconda3_64\\envs\\MScProject\\lib\\site-packages\\sklearn\\utils\\validation.py:475: DataConversionWarning: Data with input dtype int64 was converted to float64 by MinMaxScaler.\n",
      "  warnings.warn(msg, DataConversionWarning)\n",
      "C:\\Program Files (x86)\\Microsoft Visual Studio\\Shared\\Anaconda3_64\\envs\\MScProject\\lib\\site-packages\\sklearn\\utils\\validation.py:475: DataConversionWarning: Data with input dtype int64 was converted to float64 by MinMaxScaler.\n",
      "  warnings.warn(msg, DataConversionWarning)\n",
      "C:\\Program Files (x86)\\Microsoft Visual Studio\\Shared\\Anaconda3_64\\envs\\MScProject\\lib\\site-packages\\sklearn\\utils\\validation.py:475: DataConversionWarning: Data with input dtype int64 was converted to float64 by MinMaxScaler.\n",
      "  warnings.warn(msg, DataConversionWarning)\n",
      "C:\\Program Files (x86)\\Microsoft Visual Studio\\Shared\\Anaconda3_64\\envs\\MScProject\\lib\\site-packages\\sklearn\\utils\\validation.py:475: DataConversionWarning: Data with input dtype int64 was converted to float64 by MinMaxScaler.\n",
      "  warnings.warn(msg, DataConversionWarning)\n",
      "C:\\Program Files (x86)\\Microsoft Visual Studio\\Shared\\Anaconda3_64\\envs\\MScProject\\lib\\site-packages\\sklearn\\utils\\validation.py:475: DataConversionWarning: Data with input dtype int64 was converted to float64 by MinMaxScaler.\n",
      "  warnings.warn(msg, DataConversionWarning)\n"
     ]
    },
    {
     "name": "stdout",
     "output_type": "stream",
     "text": [
      "<class 'pandas.core.frame.DataFrame'>\n",
      "Int64Index: 307507 entries, 0 to 307510\n",
      "Data columns (total 48 columns):\n",
      "EXT_SOURCE_3                   307507 non-null float64\n",
      "EXT_SOURCE_2                   307507 non-null float64\n",
      "EXT_SOURCE_1                   307507 non-null float64\n",
      "DAYS_LAST_PHONE_CHANGE         307507 non-null float64\n",
      "DAYS_EMPLOYED                  307507 non-null float64\n",
      "CNT_CHILDREN                   307507 non-null float64\n",
      "AMT_GOODS_PRICE                307507 non-null float64\n",
      "AMT_CREDIT                     307507 non-null float64\n",
      "LIVINGAREA_AVG                 307507 non-null float64\n",
      "HOUR_APPR_PROCESS_START        307507 non-null float64\n",
      "FLOORSMAX_MODE                 307507 non-null float64\n",
      "FLOORSMAX_AVG                  307507 non-null float64\n",
      "FLAG_EMP_PHONE                 307507 non-null float64\n",
      "FLAG_DOCUMENT_3                307507 non-null float64\n",
      "ELEVATORS_AVG                  307507 non-null float64\n",
      "DEF_60_CNT_SOCIAL_CIRCLE       307507 non-null float64\n",
      "DEF_30_CNT_SOCIAL_CIRCLE       307507 non-null float64\n",
      "DAYS_REGISTRATION              307507 non-null float64\n",
      "DAYS_ID_PUBLISH                307507 non-null float64\n",
      "DAYS_BIRTH                     307507 non-null float64\n",
      "APARTMENTS_AVG                 307507 non-null float64\n",
      "AMT_INCOME_TOTAL               307507 non-null float64\n",
      "TOTALAREA_MODE                 307507 non-null float64\n",
      "REG_CITY_NOT_WORK_CITY         307507 non-null float64\n",
      "REG_CITY_NOT_LIVE_CITY         307507 non-null float64\n",
      "REGION_RATING_CLIENT_W_CITY    307507 non-null float64\n",
      "REGION_RATING_CLIENT           307507 non-null float64\n",
      "REGION_POPULATION_RELATIVE     307507 non-null float64\n",
      "NONLIVINGAREA_MODE             307507 non-null float64\n",
      "NONLIVINGAREA_AVG              307507 non-null float64\n",
      "LIVINGAREA_MODE                307507 non-null float64\n",
      "LIVINGAREA_MEDI                307507 non-null float64\n",
      "LIVE_CITY_NOT_WORK_CITY        307507 non-null float64\n",
      "FLOORSMAX_MEDI                 307507 non-null float64\n",
      "FLAG_WORK_PHONE                307507 non-null float64\n",
      "FLAG_PHONE                     307507 non-null float64\n",
      "FLAG_DOCUMENT_6                307507 non-null float64\n",
      "ELEVATORS_MODE                 307507 non-null float64\n",
      "ELEVATORS_MEDI                 307507 non-null float64\n",
      "CNT_FAM_MEMBERS                307507 non-null float64\n",
      "BASEMENTAREA_MEDI              307507 non-null float64\n",
      "BASEMENTAREA_AVG               307507 non-null float64\n",
      "APARTMENTS_MODE                307507 non-null float64\n",
      "APARTMENTS_MEDI                307507 non-null float64\n",
      "AMT_REQ_CREDIT_BUREAU_QRT      307507 non-null float64\n",
      "AMT_REQ_CREDIT_BUREAU_MON      307507 non-null float64\n",
      "AMT_ANNUITY                    307507 non-null float64\n",
      "TARGET                         307507 non-null int64\n",
      "dtypes: float64(47), int64(1)\n",
      "memory usage: 115.0 MB\n"
     ]
    },
    {
     "data": {
      "text/plain": [
       "21"
      ]
     },
     "execution_count": 31,
     "metadata": {},
     "output_type": "execute_result"
    }
   ],
   "source": [
    "# Read Training data\n",
    "input_df = readFile(dataFolder + '\\\\application_train.csv')\n",
    "input_df = replace_outliers(input_df)\n",
    "input_df = input_df.drop(columns = 'SK_ID_CURR')\n",
    "categorical_feats, floatingPoint_feats, bool_feats, integer_feats = identify_feature_types(input_df,\n",
    "                                                                        ['TARGET', 'SK_ID_CURR', 'Unnamed :0'], verbose=True)\n",
    "labels = input_df.pop('TARGET')\n",
    "\n",
    "input_df = drop_features(input_df, categorical_feats)\n",
    "\n",
    "feature_df = select_features(input_df, labels, min_votes = 4, drop_ratio = 0.5)\n",
    "\n",
    "selected_features = feature_df[feature_df.Total >= 3].Feature.values\n",
    "\n",
    "input_df = input_df[selected_features]\n",
    "input_df = impute_features(input_df, features ='All')    \n",
    "input_df = scale_features(input_df)\n",
    "\n",
    "input_df['TARGET'] = labels \n",
    "input_df.info()\n",
    "del input_df\n",
    "gc.collect()"
   ]
  },
  {
   "cell_type": "markdown",
   "metadata": {},
   "source": [
    "### Data set version 5_b: With categorical features OHE"
   ]
  },
  {
   "cell_type": "code",
   "execution_count": 32,
   "metadata": {},
   "outputs": [
    {
     "name": "stdout",
     "output_type": "stream",
     "text": [
      "Catagorical Features : 16, Floating Point Features : 66, Boolean Features : 26, Integer Features : 12, Total Count : 120\n",
      "Variance :  119 selected features out of 243\n",
      "Pearson :  121 selected features out of 243\n"
     ]
    },
    {
     "name": "stderr",
     "output_type": "stream",
     "text": [
      "C:\\Program Files (x86)\\Microsoft Visual Studio\\Shared\\Anaconda3_64\\envs\\MScProject\\lib\\site-packages\\sklearn\\utils\\validation.py:475: DataConversionWarning: Data with input dtype int64 was converted to float64 by MinMaxScaler.\n",
      "  warnings.warn(msg, DataConversionWarning)\n",
      "C:\\Program Files (x86)\\Microsoft Visual Studio\\Shared\\Anaconda3_64\\envs\\MScProject\\lib\\site-packages\\sklearn\\utils\\validation.py:475: DataConversionWarning: Data with input dtype int64 was converted to float64 by MinMaxScaler.\n",
      "  warnings.warn(msg, DataConversionWarning)\n",
      "C:\\Program Files (x86)\\Microsoft Visual Studio\\Shared\\Anaconda3_64\\envs\\MScProject\\lib\\site-packages\\sklearn\\utils\\validation.py:475: DataConversionWarning: Data with input dtype int64 was converted to float64 by MinMaxScaler.\n",
      "  warnings.warn(msg, DataConversionWarning)\n",
      "C:\\Program Files (x86)\\Microsoft Visual Studio\\Shared\\Anaconda3_64\\envs\\MScProject\\lib\\site-packages\\sklearn\\utils\\validation.py:475: DataConversionWarning: Data with input dtype int64 was converted to float64 by MinMaxScaler.\n",
      "  warnings.warn(msg, DataConversionWarning)\n",
      "C:\\Program Files (x86)\\Microsoft Visual Studio\\Shared\\Anaconda3_64\\envs\\MScProject\\lib\\site-packages\\sklearn\\utils\\validation.py:475: DataConversionWarning: Data with input dtype int64 was converted to float64 by MinMaxScaler.\n",
      "  warnings.warn(msg, DataConversionWarning)\n",
      "C:\\Program Files (x86)\\Microsoft Visual Studio\\Shared\\Anaconda3_64\\envs\\MScProject\\lib\\site-packages\\sklearn\\utils\\validation.py:475: DataConversionWarning: Data with input dtype int64 was converted to float64 by MinMaxScaler.\n",
      "  warnings.warn(msg, DataConversionWarning)\n",
      "C:\\Program Files (x86)\\Microsoft Visual Studio\\Shared\\Anaconda3_64\\envs\\MScProject\\lib\\site-packages\\sklearn\\utils\\validation.py:475: DataConversionWarning: Data with input dtype int64 was converted to float64 by MinMaxScaler.\n",
      "  warnings.warn(msg, DataConversionWarning)\n",
      "C:\\Program Files (x86)\\Microsoft Visual Studio\\Shared\\Anaconda3_64\\envs\\MScProject\\lib\\site-packages\\sklearn\\utils\\validation.py:475: DataConversionWarning: Data with input dtype int64 was converted to float64 by MinMaxScaler.\n",
      "  warnings.warn(msg, DataConversionWarning)\n",
      "C:\\Program Files (x86)\\Microsoft Visual Studio\\Shared\\Anaconda3_64\\envs\\MScProject\\lib\\site-packages\\sklearn\\utils\\validation.py:475: DataConversionWarning: Data with input dtype int64 was converted to float64 by MinMaxScaler.\n",
      "  warnings.warn(msg, DataConversionWarning)\n",
      "C:\\Program Files (x86)\\Microsoft Visual Studio\\Shared\\Anaconda3_64\\envs\\MScProject\\lib\\site-packages\\sklearn\\utils\\validation.py:475: DataConversionWarning: Data with input dtype int64 was converted to float64 by MinMaxScaler.\n",
      "  warnings.warn(msg, DataConversionWarning)\n",
      "C:\\Program Files (x86)\\Microsoft Visual Studio\\Shared\\Anaconda3_64\\envs\\MScProject\\lib\\site-packages\\sklearn\\utils\\validation.py:475: DataConversionWarning: Data with input dtype int64 was converted to float64 by MinMaxScaler.\n",
      "  warnings.warn(msg, DataConversionWarning)\n",
      "C:\\Program Files (x86)\\Microsoft Visual Studio\\Shared\\Anaconda3_64\\envs\\MScProject\\lib\\site-packages\\sklearn\\utils\\validation.py:475: DataConversionWarning: Data with input dtype int64 was converted to float64 by MinMaxScaler.\n",
      "  warnings.warn(msg, DataConversionWarning)\n",
      "C:\\Program Files (x86)\\Microsoft Visual Studio\\Shared\\Anaconda3_64\\envs\\MScProject\\lib\\site-packages\\sklearn\\utils\\validation.py:475: DataConversionWarning: Data with input dtype int64 was converted to float64 by MinMaxScaler.\n",
      "  warnings.warn(msg, DataConversionWarning)\n",
      "C:\\Program Files (x86)\\Microsoft Visual Studio\\Shared\\Anaconda3_64\\envs\\MScProject\\lib\\site-packages\\sklearn\\utils\\validation.py:475: DataConversionWarning: Data with input dtype int64 was converted to float64 by MinMaxScaler.\n",
      "  warnings.warn(msg, DataConversionWarning)\n",
      "C:\\Program Files (x86)\\Microsoft Visual Studio\\Shared\\Anaconda3_64\\envs\\MScProject\\lib\\site-packages\\sklearn\\utils\\validation.py:475: DataConversionWarning: Data with input dtype int64 was converted to float64 by MinMaxScaler.\n",
      "  warnings.warn(msg, DataConversionWarning)\n",
      "C:\\Program Files (x86)\\Microsoft Visual Studio\\Shared\\Anaconda3_64\\envs\\MScProject\\lib\\site-packages\\sklearn\\utils\\validation.py:475: DataConversionWarning: Data with input dtype int64 was converted to float64 by MinMaxScaler.\n",
      "  warnings.warn(msg, DataConversionWarning)\n",
      "C:\\Program Files (x86)\\Microsoft Visual Studio\\Shared\\Anaconda3_64\\envs\\MScProject\\lib\\site-packages\\sklearn\\utils\\validation.py:475: DataConversionWarning: Data with input dtype int64 was converted to float64 by MinMaxScaler.\n",
      "  warnings.warn(msg, DataConversionWarning)\n",
      "C:\\Program Files (x86)\\Microsoft Visual Studio\\Shared\\Anaconda3_64\\envs\\MScProject\\lib\\site-packages\\sklearn\\utils\\validation.py:475: DataConversionWarning: Data with input dtype int64 was converted to float64 by MinMaxScaler.\n",
      "  warnings.warn(msg, DataConversionWarning)\n",
      "C:\\Program Files (x86)\\Microsoft Visual Studio\\Shared\\Anaconda3_64\\envs\\MScProject\\lib\\site-packages\\sklearn\\utils\\validation.py:475: DataConversionWarning: Data with input dtype int64 was converted to float64 by MinMaxScaler.\n",
      "  warnings.warn(msg, DataConversionWarning)\n",
      "C:\\Program Files (x86)\\Microsoft Visual Studio\\Shared\\Anaconda3_64\\envs\\MScProject\\lib\\site-packages\\sklearn\\utils\\validation.py:475: DataConversionWarning: Data with input dtype int64 was converted to float64 by MinMaxScaler.\n",
      "  warnings.warn(msg, DataConversionWarning)\n",
      "C:\\Program Files (x86)\\Microsoft Visual Studio\\Shared\\Anaconda3_64\\envs\\MScProject\\lib\\site-packages\\sklearn\\utils\\validation.py:475: DataConversionWarning: Data with input dtype int64 was converted to float64 by MinMaxScaler.\n",
      "  warnings.warn(msg, DataConversionWarning)\n",
      "C:\\Program Files (x86)\\Microsoft Visual Studio\\Shared\\Anaconda3_64\\envs\\MScProject\\lib\\site-packages\\sklearn\\utils\\validation.py:475: DataConversionWarning: Data with input dtype int64 was converted to float64 by MinMaxScaler.\n",
      "  warnings.warn(msg, DataConversionWarning)\n",
      "C:\\Program Files (x86)\\Microsoft Visual Studio\\Shared\\Anaconda3_64\\envs\\MScProject\\lib\\site-packages\\sklearn\\utils\\validation.py:475: DataConversionWarning: Data with input dtype int64 was converted to float64 by MinMaxScaler.\n",
      "  warnings.warn(msg, DataConversionWarning)\n",
      "C:\\Program Files (x86)\\Microsoft Visual Studio\\Shared\\Anaconda3_64\\envs\\MScProject\\lib\\site-packages\\sklearn\\utils\\validation.py:475: DataConversionWarning: Data with input dtype int64 was converted to float64 by MinMaxScaler.\n",
      "  warnings.warn(msg, DataConversionWarning)\n",
      "C:\\Program Files (x86)\\Microsoft Visual Studio\\Shared\\Anaconda3_64\\envs\\MScProject\\lib\\site-packages\\sklearn\\utils\\validation.py:475: DataConversionWarning: Data with input dtype int64 was converted to float64 by MinMaxScaler.\n",
      "  warnings.warn(msg, DataConversionWarning)\n",
      "C:\\Program Files (x86)\\Microsoft Visual Studio\\Shared\\Anaconda3_64\\envs\\MScProject\\lib\\site-packages\\sklearn\\utils\\validation.py:475: DataConversionWarning: Data with input dtype int64 was converted to float64 by MinMaxScaler.\n",
      "  warnings.warn(msg, DataConversionWarning)\n",
      "C:\\Program Files (x86)\\Microsoft Visual Studio\\Shared\\Anaconda3_64\\envs\\MScProject\\lib\\site-packages\\sklearn\\utils\\validation.py:475: DataConversionWarning: Data with input dtype int64 was converted to float64 by MinMaxScaler.\n",
      "  warnings.warn(msg, DataConversionWarning)\n",
      "C:\\Program Files (x86)\\Microsoft Visual Studio\\Shared\\Anaconda3_64\\envs\\MScProject\\lib\\site-packages\\sklearn\\utils\\validation.py:475: DataConversionWarning: Data with input dtype int64 was converted to float64 by MinMaxScaler.\n",
      "  warnings.warn(msg, DataConversionWarning)\n",
      "C:\\Program Files (x86)\\Microsoft Visual Studio\\Shared\\Anaconda3_64\\envs\\MScProject\\lib\\site-packages\\sklearn\\utils\\validation.py:475: DataConversionWarning: Data with input dtype int64 was converted to float64 by MinMaxScaler.\n",
      "  warnings.warn(msg, DataConversionWarning)\n",
      "C:\\Program Files (x86)\\Microsoft Visual Studio\\Shared\\Anaconda3_64\\envs\\MScProject\\lib\\site-packages\\sklearn\\utils\\validation.py:475: DataConversionWarning: Data with input dtype int64 was converted to float64 by MinMaxScaler.\n",
      "  warnings.warn(msg, DataConversionWarning)\n"
     ]
    },
    {
     "name": "stdout",
     "output_type": "stream",
     "text": [
      "CHI2 :  121 selected features out of 243\n"
     ]
    },
    {
     "name": "stderr",
     "output_type": "stream",
     "text": [
      "C:\\Program Files (x86)\\Microsoft Visual Studio\\Shared\\Anaconda3_64\\envs\\MScProject\\lib\\site-packages\\sklearn\\utils\\validation.py:475: DataConversionWarning: Data with input dtype int64 was converted to float64 by MinMaxScaler.\n",
      "  warnings.warn(msg, DataConversionWarning)\n",
      "C:\\Program Files (x86)\\Microsoft Visual Studio\\Shared\\Anaconda3_64\\envs\\MScProject\\lib\\site-packages\\sklearn\\utils\\validation.py:475: DataConversionWarning: Data with input dtype int64 was converted to float64 by MinMaxScaler.\n",
      "  warnings.warn(msg, DataConversionWarning)\n",
      "C:\\Program Files (x86)\\Microsoft Visual Studio\\Shared\\Anaconda3_64\\envs\\MScProject\\lib\\site-packages\\sklearn\\utils\\validation.py:475: DataConversionWarning: Data with input dtype int64 was converted to float64 by MinMaxScaler.\n",
      "  warnings.warn(msg, DataConversionWarning)\n",
      "C:\\Program Files (x86)\\Microsoft Visual Studio\\Shared\\Anaconda3_64\\envs\\MScProject\\lib\\site-packages\\sklearn\\utils\\validation.py:475: DataConversionWarning: Data with input dtype int64 was converted to float64 by MinMaxScaler.\n",
      "  warnings.warn(msg, DataConversionWarning)\n",
      "C:\\Program Files (x86)\\Microsoft Visual Studio\\Shared\\Anaconda3_64\\envs\\MScProject\\lib\\site-packages\\sklearn\\utils\\validation.py:475: DataConversionWarning: Data with input dtype int64 was converted to float64 by MinMaxScaler.\n",
      "  warnings.warn(msg, DataConversionWarning)\n",
      "C:\\Program Files (x86)\\Microsoft Visual Studio\\Shared\\Anaconda3_64\\envs\\MScProject\\lib\\site-packages\\sklearn\\utils\\validation.py:475: DataConversionWarning: Data with input dtype int64 was converted to float64 by MinMaxScaler.\n",
      "  warnings.warn(msg, DataConversionWarning)\n",
      "C:\\Program Files (x86)\\Microsoft Visual Studio\\Shared\\Anaconda3_64\\envs\\MScProject\\lib\\site-packages\\sklearn\\utils\\validation.py:475: DataConversionWarning: Data with input dtype int64 was converted to float64 by MinMaxScaler.\n",
      "  warnings.warn(msg, DataConversionWarning)\n",
      "C:\\Program Files (x86)\\Microsoft Visual Studio\\Shared\\Anaconda3_64\\envs\\MScProject\\lib\\site-packages\\sklearn\\utils\\validation.py:475: DataConversionWarning: Data with input dtype int64 was converted to float64 by MinMaxScaler.\n",
      "  warnings.warn(msg, DataConversionWarning)\n",
      "C:\\Program Files (x86)\\Microsoft Visual Studio\\Shared\\Anaconda3_64\\envs\\MScProject\\lib\\site-packages\\sklearn\\utils\\validation.py:475: DataConversionWarning: Data with input dtype int64 was converted to float64 by MinMaxScaler.\n",
      "  warnings.warn(msg, DataConversionWarning)\n",
      "C:\\Program Files (x86)\\Microsoft Visual Studio\\Shared\\Anaconda3_64\\envs\\MScProject\\lib\\site-packages\\sklearn\\utils\\validation.py:475: DataConversionWarning: Data with input dtype int64 was converted to float64 by MinMaxScaler.\n",
      "  warnings.warn(msg, DataConversionWarning)\n",
      "C:\\Program Files (x86)\\Microsoft Visual Studio\\Shared\\Anaconda3_64\\envs\\MScProject\\lib\\site-packages\\sklearn\\utils\\validation.py:475: DataConversionWarning: Data with input dtype int64 was converted to float64 by MinMaxScaler.\n",
      "  warnings.warn(msg, DataConversionWarning)\n",
      "C:\\Program Files (x86)\\Microsoft Visual Studio\\Shared\\Anaconda3_64\\envs\\MScProject\\lib\\site-packages\\sklearn\\utils\\validation.py:475: DataConversionWarning: Data with input dtype int64 was converted to float64 by MinMaxScaler.\n",
      "  warnings.warn(msg, DataConversionWarning)\n",
      "C:\\Program Files (x86)\\Microsoft Visual Studio\\Shared\\Anaconda3_64\\envs\\MScProject\\lib\\site-packages\\sklearn\\utils\\validation.py:475: DataConversionWarning: Data with input dtype int64 was converted to float64 by MinMaxScaler.\n",
      "  warnings.warn(msg, DataConversionWarning)\n",
      "C:\\Program Files (x86)\\Microsoft Visual Studio\\Shared\\Anaconda3_64\\envs\\MScProject\\lib\\site-packages\\sklearn\\utils\\validation.py:475: DataConversionWarning: Data with input dtype int64 was converted to float64 by MinMaxScaler.\n",
      "  warnings.warn(msg, DataConversionWarning)\n",
      "C:\\Program Files (x86)\\Microsoft Visual Studio\\Shared\\Anaconda3_64\\envs\\MScProject\\lib\\site-packages\\sklearn\\utils\\validation.py:475: DataConversionWarning: Data with input dtype int64 was converted to float64 by MinMaxScaler.\n",
      "  warnings.warn(msg, DataConversionWarning)\n",
      "C:\\Program Files (x86)\\Microsoft Visual Studio\\Shared\\Anaconda3_64\\envs\\MScProject\\lib\\site-packages\\sklearn\\utils\\validation.py:475: DataConversionWarning: Data with input dtype int64 was converted to float64 by MinMaxScaler.\n",
      "  warnings.warn(msg, DataConversionWarning)\n",
      "C:\\Program Files (x86)\\Microsoft Visual Studio\\Shared\\Anaconda3_64\\envs\\MScProject\\lib\\site-packages\\sklearn\\utils\\validation.py:475: DataConversionWarning: Data with input dtype int64 was converted to float64 by MinMaxScaler.\n",
      "  warnings.warn(msg, DataConversionWarning)\n",
      "C:\\Program Files (x86)\\Microsoft Visual Studio\\Shared\\Anaconda3_64\\envs\\MScProject\\lib\\site-packages\\sklearn\\utils\\validation.py:475: DataConversionWarning: Data with input dtype int64 was converted to float64 by MinMaxScaler.\n",
      "  warnings.warn(msg, DataConversionWarning)\n",
      "C:\\Program Files (x86)\\Microsoft Visual Studio\\Shared\\Anaconda3_64\\envs\\MScProject\\lib\\site-packages\\sklearn\\utils\\validation.py:475: DataConversionWarning: Data with input dtype int64 was converted to float64 by MinMaxScaler.\n",
      "  warnings.warn(msg, DataConversionWarning)\n",
      "C:\\Program Files (x86)\\Microsoft Visual Studio\\Shared\\Anaconda3_64\\envs\\MScProject\\lib\\site-packages\\sklearn\\utils\\validation.py:475: DataConversionWarning: Data with input dtype int64 was converted to float64 by MinMaxScaler.\n",
      "  warnings.warn(msg, DataConversionWarning)\n",
      "C:\\Program Files (x86)\\Microsoft Visual Studio\\Shared\\Anaconda3_64\\envs\\MScProject\\lib\\site-packages\\sklearn\\utils\\validation.py:475: DataConversionWarning: Data with input dtype int64 was converted to float64 by MinMaxScaler.\n",
      "  warnings.warn(msg, DataConversionWarning)\n",
      "C:\\Program Files (x86)\\Microsoft Visual Studio\\Shared\\Anaconda3_64\\envs\\MScProject\\lib\\site-packages\\sklearn\\utils\\validation.py:475: DataConversionWarning: Data with input dtype int64 was converted to float64 by MinMaxScaler.\n",
      "  warnings.warn(msg, DataConversionWarning)\n",
      "C:\\Program Files (x86)\\Microsoft Visual Studio\\Shared\\Anaconda3_64\\envs\\MScProject\\lib\\site-packages\\sklearn\\utils\\validation.py:475: DataConversionWarning: Data with input dtype int64 was converted to float64 by MinMaxScaler.\n",
      "  warnings.warn(msg, DataConversionWarning)\n",
      "C:\\Program Files (x86)\\Microsoft Visual Studio\\Shared\\Anaconda3_64\\envs\\MScProject\\lib\\site-packages\\sklearn\\utils\\validation.py:475: DataConversionWarning: Data with input dtype int64 was converted to float64 by MinMaxScaler.\n",
      "  warnings.warn(msg, DataConversionWarning)\n",
      "C:\\Program Files (x86)\\Microsoft Visual Studio\\Shared\\Anaconda3_64\\envs\\MScProject\\lib\\site-packages\\sklearn\\utils\\validation.py:475: DataConversionWarning: Data with input dtype int64 was converted to float64 by MinMaxScaler.\n",
      "  warnings.warn(msg, DataConversionWarning)\n",
      "C:\\Program Files (x86)\\Microsoft Visual Studio\\Shared\\Anaconda3_64\\envs\\MScProject\\lib\\site-packages\\sklearn\\utils\\validation.py:475: DataConversionWarning: Data with input dtype int64 was converted to float64 by MinMaxScaler.\n",
      "  warnings.warn(msg, DataConversionWarning)\n",
      "C:\\Program Files (x86)\\Microsoft Visual Studio\\Shared\\Anaconda3_64\\envs\\MScProject\\lib\\site-packages\\sklearn\\utils\\validation.py:475: DataConversionWarning: Data with input dtype int64 was converted to float64 by MinMaxScaler.\n",
      "  warnings.warn(msg, DataConversionWarning)\n",
      "C:\\Program Files (x86)\\Microsoft Visual Studio\\Shared\\Anaconda3_64\\envs\\MScProject\\lib\\site-packages\\sklearn\\utils\\validation.py:475: DataConversionWarning: Data with input dtype int64 was converted to float64 by MinMaxScaler.\n",
      "  warnings.warn(msg, DataConversionWarning)\n",
      "C:\\Program Files (x86)\\Microsoft Visual Studio\\Shared\\Anaconda3_64\\envs\\MScProject\\lib\\site-packages\\sklearn\\utils\\validation.py:475: DataConversionWarning: Data with input dtype int64 was converted to float64 by MinMaxScaler.\n",
      "  warnings.warn(msg, DataConversionWarning)\n",
      "C:\\Program Files (x86)\\Microsoft Visual Studio\\Shared\\Anaconda3_64\\envs\\MScProject\\lib\\site-packages\\sklearn\\utils\\validation.py:475: DataConversionWarning: Data with input dtype int64 was converted to float64 by MinMaxScaler.\n",
      "  warnings.warn(msg, DataConversionWarning)\n"
     ]
    },
    {
     "name": "stdout",
     "output_type": "stream",
     "text": [
      "Fitting estimator with 243 features.\n"
     ]
    },
    {
     "name": "stderr",
     "output_type": "stream",
     "text": [
      "C:\\Program Files (x86)\\Microsoft Visual Studio\\Shared\\Anaconda3_64\\envs\\MScProject\\lib\\site-packages\\sklearn\\linear_model\\sag.py:326: ConvergenceWarning: The max_iter was reached which means the coef_ did not converge\n",
      "  \"the coef_ did not converge\", ConvergenceWarning)\n"
     ]
    },
    {
     "name": "stdout",
     "output_type": "stream",
     "text": [
      "Fitting estimator with 233 features.\n"
     ]
    },
    {
     "name": "stderr",
     "output_type": "stream",
     "text": [
      "C:\\Program Files (x86)\\Microsoft Visual Studio\\Shared\\Anaconda3_64\\envs\\MScProject\\lib\\site-packages\\sklearn\\linear_model\\sag.py:326: ConvergenceWarning: The max_iter was reached which means the coef_ did not converge\n",
      "  \"the coef_ did not converge\", ConvergenceWarning)\n"
     ]
    },
    {
     "name": "stdout",
     "output_type": "stream",
     "text": [
      "Fitting estimator with 223 features.\n"
     ]
    },
    {
     "name": "stderr",
     "output_type": "stream",
     "text": [
      "C:\\Program Files (x86)\\Microsoft Visual Studio\\Shared\\Anaconda3_64\\envs\\MScProject\\lib\\site-packages\\sklearn\\linear_model\\sag.py:326: ConvergenceWarning: The max_iter was reached which means the coef_ did not converge\n",
      "  \"the coef_ did not converge\", ConvergenceWarning)\n"
     ]
    },
    {
     "name": "stdout",
     "output_type": "stream",
     "text": [
      "Fitting estimator with 213 features.\n"
     ]
    },
    {
     "name": "stderr",
     "output_type": "stream",
     "text": [
      "C:\\Program Files (x86)\\Microsoft Visual Studio\\Shared\\Anaconda3_64\\envs\\MScProject\\lib\\site-packages\\sklearn\\linear_model\\sag.py:326: ConvergenceWarning: The max_iter was reached which means the coef_ did not converge\n",
      "  \"the coef_ did not converge\", ConvergenceWarning)\n"
     ]
    },
    {
     "name": "stdout",
     "output_type": "stream",
     "text": [
      "Fitting estimator with 203 features.\n"
     ]
    },
    {
     "name": "stderr",
     "output_type": "stream",
     "text": [
      "C:\\Program Files (x86)\\Microsoft Visual Studio\\Shared\\Anaconda3_64\\envs\\MScProject\\lib\\site-packages\\sklearn\\linear_model\\sag.py:326: ConvergenceWarning: The max_iter was reached which means the coef_ did not converge\n",
      "  \"the coef_ did not converge\", ConvergenceWarning)\n"
     ]
    },
    {
     "name": "stdout",
     "output_type": "stream",
     "text": [
      "Fitting estimator with 193 features.\n"
     ]
    },
    {
     "name": "stderr",
     "output_type": "stream",
     "text": [
      "C:\\Program Files (x86)\\Microsoft Visual Studio\\Shared\\Anaconda3_64\\envs\\MScProject\\lib\\site-packages\\sklearn\\linear_model\\sag.py:326: ConvergenceWarning: The max_iter was reached which means the coef_ did not converge\n",
      "  \"the coef_ did not converge\", ConvergenceWarning)\n"
     ]
    },
    {
     "name": "stdout",
     "output_type": "stream",
     "text": [
      "Fitting estimator with 183 features.\n",
      "Fitting estimator with 173 features.\n",
      "Fitting estimator with 163 features.\n",
      "Fitting estimator with 153 features.\n",
      "Fitting estimator with 143 features.\n",
      "Fitting estimator with 133 features.\n",
      "Fitting estimator with 123 features.\n",
      "RFE :  121 selected features out of 121\n",
      "RF :  243 selected features out of 104\n"
     ]
    },
    {
     "name": "stderr",
     "output_type": "stream",
     "text": [
      "C:\\Program Files (x86)\\Microsoft Visual Studio\\Shared\\Anaconda3_64\\envs\\MScProject\\lib\\site-packages\\sklearn\\utils\\validation.py:475: DataConversionWarning: Data with input dtype int64 was converted to float64 by MinMaxScaler.\n",
      "  warnings.warn(msg, DataConversionWarning)\n",
      "C:\\Program Files (x86)\\Microsoft Visual Studio\\Shared\\Anaconda3_64\\envs\\MScProject\\lib\\site-packages\\sklearn\\utils\\validation.py:475: DataConversionWarning: Data with input dtype int64 was converted to float64 by MinMaxScaler.\n",
      "  warnings.warn(msg, DataConversionWarning)\n",
      "C:\\Program Files (x86)\\Microsoft Visual Studio\\Shared\\Anaconda3_64\\envs\\MScProject\\lib\\site-packages\\sklearn\\utils\\validation.py:475: DataConversionWarning: Data with input dtype int64 was converted to float64 by MinMaxScaler.\n",
      "  warnings.warn(msg, DataConversionWarning)\n",
      "C:\\Program Files (x86)\\Microsoft Visual Studio\\Shared\\Anaconda3_64\\envs\\MScProject\\lib\\site-packages\\sklearn\\utils\\validation.py:475: DataConversionWarning: Data with input dtype int64 was converted to float64 by MinMaxScaler.\n",
      "  warnings.warn(msg, DataConversionWarning)\n",
      "C:\\Program Files (x86)\\Microsoft Visual Studio\\Shared\\Anaconda3_64\\envs\\MScProject\\lib\\site-packages\\sklearn\\utils\\validation.py:475: DataConversionWarning: Data with input dtype int64 was converted to float64 by MinMaxScaler.\n",
      "  warnings.warn(msg, DataConversionWarning)\n",
      "C:\\Program Files (x86)\\Microsoft Visual Studio\\Shared\\Anaconda3_64\\envs\\MScProject\\lib\\site-packages\\sklearn\\utils\\validation.py:475: DataConversionWarning: Data with input dtype int64 was converted to float64 by MinMaxScaler.\n",
      "  warnings.warn(msg, DataConversionWarning)\n",
      "C:\\Program Files (x86)\\Microsoft Visual Studio\\Shared\\Anaconda3_64\\envs\\MScProject\\lib\\site-packages\\sklearn\\utils\\validation.py:475: DataConversionWarning: Data with input dtype int64 was converted to float64 by MinMaxScaler.\n",
      "  warnings.warn(msg, DataConversionWarning)\n",
      "C:\\Program Files (x86)\\Microsoft Visual Studio\\Shared\\Anaconda3_64\\envs\\MScProject\\lib\\site-packages\\sklearn\\utils\\validation.py:475: DataConversionWarning: Data with input dtype int64 was converted to float64 by MinMaxScaler.\n",
      "  warnings.warn(msg, DataConversionWarning)\n",
      "C:\\Program Files (x86)\\Microsoft Visual Studio\\Shared\\Anaconda3_64\\envs\\MScProject\\lib\\site-packages\\sklearn\\utils\\validation.py:475: DataConversionWarning: Data with input dtype int64 was converted to float64 by MinMaxScaler.\n",
      "  warnings.warn(msg, DataConversionWarning)\n",
      "C:\\Program Files (x86)\\Microsoft Visual Studio\\Shared\\Anaconda3_64\\envs\\MScProject\\lib\\site-packages\\sklearn\\utils\\validation.py:475: DataConversionWarning: Data with input dtype int64 was converted to float64 by MinMaxScaler.\n",
      "  warnings.warn(msg, DataConversionWarning)\n",
      "C:\\Program Files (x86)\\Microsoft Visual Studio\\Shared\\Anaconda3_64\\envs\\MScProject\\lib\\site-packages\\sklearn\\utils\\validation.py:475: DataConversionWarning: Data with input dtype int64 was converted to float64 by MinMaxScaler.\n",
      "  warnings.warn(msg, DataConversionWarning)\n"
     ]
    },
    {
     "name": "stdout",
     "output_type": "stream",
     "text": [
      "<class 'pandas.core.frame.DataFrame'>\n",
      "Int64Index: 307507 entries, 0 to 307510\n",
      "Columns: 120 entries, REG_CITY_NOT_LIVE_CITY to TARGET\n",
      "dtypes: float64(119), int64(1)\n",
      "memory usage: 283.9 MB\n"
     ]
    },
    {
     "data": {
      "text/plain": [
       "21"
      ]
     },
     "execution_count": 32,
     "metadata": {},
     "output_type": "execute_result"
    }
   ],
   "source": [
    "# Read Training data\n",
    "input_df = readFile(dataFolder + '\\\\application_train.csv')\n",
    "input_df = replace_outliers(input_df)\n",
    "input_df = input_df.drop(columns = 'SK_ID_CURR')\n",
    "categorical_feats, floatingPoint_feats, bool_feats, integer_feats = identify_feature_types(input_df,\n",
    "                                                                        ['TARGET', 'SK_ID_CURR', 'Unnamed :0'], verbose=True)\n",
    "labels = input_df.pop('TARGET')\n",
    "\n",
    "input_df = pd.get_dummies(input_df, columns=categorical_feats, dtype=np.int64)\n",
    "\n",
    "feature_df = select_features(input_df, labels, min_votes = 4, drop_ratio = 0.5)\n",
    "\n",
    "selected_features = feature_df[feature_df.Total >= 3].Feature.values\n",
    "input_df = input_df[selected_features]\n",
    "\n",
    "input_df = impute_features(input_df, features ='All')    \n",
    "input_df = scale_features(input_df)\n",
    "\n",
    "input_df['TARGET'] = labels \n",
    "input_df.info()\n",
    "del input_df\n",
    "gc.collect()"
   ]
  },
  {
   "cell_type": "markdown",
   "metadata": {},
   "source": [
    "### Data set version 5_c: With categorical features WoE Encoded"
   ]
  },
  {
   "cell_type": "code",
   "execution_count": 33,
   "metadata": {},
   "outputs": [
    {
     "name": "stdout",
     "output_type": "stream",
     "text": [
      "Catagorical Features : 16, Floating Point Features : 66, Boolean Features : 26, Integer Features : 12, Total Count : 120\n",
      "Variance :  53 selected features out of 120\n",
      "Pearson :  60 selected features out of 120\n"
     ]
    },
    {
     "name": "stderr",
     "output_type": "stream",
     "text": [
      "C:\\Program Files (x86)\\Microsoft Visual Studio\\Shared\\Anaconda3_64\\envs\\MScProject\\lib\\site-packages\\sklearn\\utils\\validation.py:475: DataConversionWarning: Data with input dtype int64 was converted to float64 by MinMaxScaler.\n",
      "  warnings.warn(msg, DataConversionWarning)\n",
      "C:\\Program Files (x86)\\Microsoft Visual Studio\\Shared\\Anaconda3_64\\envs\\MScProject\\lib\\site-packages\\sklearn\\utils\\validation.py:475: DataConversionWarning: Data with input dtype int64 was converted to float64 by MinMaxScaler.\n",
      "  warnings.warn(msg, DataConversionWarning)\n",
      "C:\\Program Files (x86)\\Microsoft Visual Studio\\Shared\\Anaconda3_64\\envs\\MScProject\\lib\\site-packages\\sklearn\\utils\\validation.py:475: DataConversionWarning: Data with input dtype int64 was converted to float64 by MinMaxScaler.\n",
      "  warnings.warn(msg, DataConversionWarning)\n",
      "C:\\Program Files (x86)\\Microsoft Visual Studio\\Shared\\Anaconda3_64\\envs\\MScProject\\lib\\site-packages\\sklearn\\utils\\validation.py:475: DataConversionWarning: Data with input dtype int64 was converted to float64 by MinMaxScaler.\n",
      "  warnings.warn(msg, DataConversionWarning)\n",
      "C:\\Program Files (x86)\\Microsoft Visual Studio\\Shared\\Anaconda3_64\\envs\\MScProject\\lib\\site-packages\\sklearn\\utils\\validation.py:475: DataConversionWarning: Data with input dtype int64 was converted to float64 by MinMaxScaler.\n",
      "  warnings.warn(msg, DataConversionWarning)\n",
      "C:\\Program Files (x86)\\Microsoft Visual Studio\\Shared\\Anaconda3_64\\envs\\MScProject\\lib\\site-packages\\sklearn\\utils\\validation.py:475: DataConversionWarning: Data with input dtype int64 was converted to float64 by MinMaxScaler.\n",
      "  warnings.warn(msg, DataConversionWarning)\n",
      "C:\\Program Files (x86)\\Microsoft Visual Studio\\Shared\\Anaconda3_64\\envs\\MScProject\\lib\\site-packages\\sklearn\\utils\\validation.py:475: DataConversionWarning: Data with input dtype int64 was converted to float64 by MinMaxScaler.\n",
      "  warnings.warn(msg, DataConversionWarning)\n",
      "C:\\Program Files (x86)\\Microsoft Visual Studio\\Shared\\Anaconda3_64\\envs\\MScProject\\lib\\site-packages\\sklearn\\utils\\validation.py:475: DataConversionWarning: Data with input dtype int64 was converted to float64 by MinMaxScaler.\n",
      "  warnings.warn(msg, DataConversionWarning)\n",
      "C:\\Program Files (x86)\\Microsoft Visual Studio\\Shared\\Anaconda3_64\\envs\\MScProject\\lib\\site-packages\\sklearn\\utils\\validation.py:475: DataConversionWarning: Data with input dtype int64 was converted to float64 by MinMaxScaler.\n",
      "  warnings.warn(msg, DataConversionWarning)\n",
      "C:\\Program Files (x86)\\Microsoft Visual Studio\\Shared\\Anaconda3_64\\envs\\MScProject\\lib\\site-packages\\sklearn\\utils\\validation.py:475: DataConversionWarning: Data with input dtype int64 was converted to float64 by MinMaxScaler.\n",
      "  warnings.warn(msg, DataConversionWarning)\n",
      "C:\\Program Files (x86)\\Microsoft Visual Studio\\Shared\\Anaconda3_64\\envs\\MScProject\\lib\\site-packages\\sklearn\\utils\\validation.py:475: DataConversionWarning: Data with input dtype int64 was converted to float64 by MinMaxScaler.\n",
      "  warnings.warn(msg, DataConversionWarning)\n",
      "C:\\Program Files (x86)\\Microsoft Visual Studio\\Shared\\Anaconda3_64\\envs\\MScProject\\lib\\site-packages\\sklearn\\utils\\validation.py:475: DataConversionWarning: Data with input dtype int64 was converted to float64 by MinMaxScaler.\n",
      "  warnings.warn(msg, DataConversionWarning)\n",
      "C:\\Program Files (x86)\\Microsoft Visual Studio\\Shared\\Anaconda3_64\\envs\\MScProject\\lib\\site-packages\\sklearn\\utils\\validation.py:475: DataConversionWarning: Data with input dtype int64 was converted to float64 by MinMaxScaler.\n",
      "  warnings.warn(msg, DataConversionWarning)\n",
      "C:\\Program Files (x86)\\Microsoft Visual Studio\\Shared\\Anaconda3_64\\envs\\MScProject\\lib\\site-packages\\sklearn\\utils\\validation.py:475: DataConversionWarning: Data with input dtype int64 was converted to float64 by MinMaxScaler.\n",
      "  warnings.warn(msg, DataConversionWarning)\n",
      "C:\\Program Files (x86)\\Microsoft Visual Studio\\Shared\\Anaconda3_64\\envs\\MScProject\\lib\\site-packages\\sklearn\\utils\\validation.py:475: DataConversionWarning: Data with input dtype int64 was converted to float64 by MinMaxScaler.\n",
      "  warnings.warn(msg, DataConversionWarning)\n",
      "C:\\Program Files (x86)\\Microsoft Visual Studio\\Shared\\Anaconda3_64\\envs\\MScProject\\lib\\site-packages\\sklearn\\utils\\validation.py:475: DataConversionWarning: Data with input dtype int64 was converted to float64 by MinMaxScaler.\n",
      "  warnings.warn(msg, DataConversionWarning)\n",
      "C:\\Program Files (x86)\\Microsoft Visual Studio\\Shared\\Anaconda3_64\\envs\\MScProject\\lib\\site-packages\\sklearn\\utils\\validation.py:475: DataConversionWarning: Data with input dtype int64 was converted to float64 by MinMaxScaler.\n",
      "  warnings.warn(msg, DataConversionWarning)\n",
      "C:\\Program Files (x86)\\Microsoft Visual Studio\\Shared\\Anaconda3_64\\envs\\MScProject\\lib\\site-packages\\sklearn\\utils\\validation.py:475: DataConversionWarning: Data with input dtype int64 was converted to float64 by MinMaxScaler.\n",
      "  warnings.warn(msg, DataConversionWarning)\n",
      "C:\\Program Files (x86)\\Microsoft Visual Studio\\Shared\\Anaconda3_64\\envs\\MScProject\\lib\\site-packages\\sklearn\\utils\\validation.py:475: DataConversionWarning: Data with input dtype int64 was converted to float64 by MinMaxScaler.\n",
      "  warnings.warn(msg, DataConversionWarning)\n",
      "C:\\Program Files (x86)\\Microsoft Visual Studio\\Shared\\Anaconda3_64\\envs\\MScProject\\lib\\site-packages\\sklearn\\utils\\validation.py:475: DataConversionWarning: Data with input dtype int64 was converted to float64 by MinMaxScaler.\n",
      "  warnings.warn(msg, DataConversionWarning)\n",
      "C:\\Program Files (x86)\\Microsoft Visual Studio\\Shared\\Anaconda3_64\\envs\\MScProject\\lib\\site-packages\\sklearn\\utils\\validation.py:475: DataConversionWarning: Data with input dtype int64 was converted to float64 by MinMaxScaler.\n",
      "  warnings.warn(msg, DataConversionWarning)\n",
      "C:\\Program Files (x86)\\Microsoft Visual Studio\\Shared\\Anaconda3_64\\envs\\MScProject\\lib\\site-packages\\sklearn\\utils\\validation.py:475: DataConversionWarning: Data with input dtype int64 was converted to float64 by MinMaxScaler.\n",
      "  warnings.warn(msg, DataConversionWarning)\n",
      "C:\\Program Files (x86)\\Microsoft Visual Studio\\Shared\\Anaconda3_64\\envs\\MScProject\\lib\\site-packages\\sklearn\\utils\\validation.py:475: DataConversionWarning: Data with input dtype int64 was converted to float64 by MinMaxScaler.\n",
      "  warnings.warn(msg, DataConversionWarning)\n",
      "C:\\Program Files (x86)\\Microsoft Visual Studio\\Shared\\Anaconda3_64\\envs\\MScProject\\lib\\site-packages\\sklearn\\utils\\validation.py:475: DataConversionWarning: Data with input dtype int64 was converted to float64 by MinMaxScaler.\n",
      "  warnings.warn(msg, DataConversionWarning)\n",
      "C:\\Program Files (x86)\\Microsoft Visual Studio\\Shared\\Anaconda3_64\\envs\\MScProject\\lib\\site-packages\\sklearn\\utils\\validation.py:475: DataConversionWarning: Data with input dtype int64 was converted to float64 by MinMaxScaler.\n",
      "  warnings.warn(msg, DataConversionWarning)\n",
      "C:\\Program Files (x86)\\Microsoft Visual Studio\\Shared\\Anaconda3_64\\envs\\MScProject\\lib\\site-packages\\sklearn\\utils\\validation.py:475: DataConversionWarning: Data with input dtype int64 was converted to float64 by MinMaxScaler.\n",
      "  warnings.warn(msg, DataConversionWarning)\n"
     ]
    },
    {
     "name": "stdout",
     "output_type": "stream",
     "text": [
      "CHI2 :  60 selected features out of 120\n"
     ]
    },
    {
     "name": "stderr",
     "output_type": "stream",
     "text": [
      "C:\\Program Files (x86)\\Microsoft Visual Studio\\Shared\\Anaconda3_64\\envs\\MScProject\\lib\\site-packages\\sklearn\\utils\\validation.py:475: DataConversionWarning: Data with input dtype int64 was converted to float64 by MinMaxScaler.\n",
      "  warnings.warn(msg, DataConversionWarning)\n",
      "C:\\Program Files (x86)\\Microsoft Visual Studio\\Shared\\Anaconda3_64\\envs\\MScProject\\lib\\site-packages\\sklearn\\utils\\validation.py:475: DataConversionWarning: Data with input dtype int64 was converted to float64 by MinMaxScaler.\n",
      "  warnings.warn(msg, DataConversionWarning)\n",
      "C:\\Program Files (x86)\\Microsoft Visual Studio\\Shared\\Anaconda3_64\\envs\\MScProject\\lib\\site-packages\\sklearn\\utils\\validation.py:475: DataConversionWarning: Data with input dtype int64 was converted to float64 by MinMaxScaler.\n",
      "  warnings.warn(msg, DataConversionWarning)\n",
      "C:\\Program Files (x86)\\Microsoft Visual Studio\\Shared\\Anaconda3_64\\envs\\MScProject\\lib\\site-packages\\sklearn\\utils\\validation.py:475: DataConversionWarning: Data with input dtype int64 was converted to float64 by MinMaxScaler.\n",
      "  warnings.warn(msg, DataConversionWarning)\n",
      "C:\\Program Files (x86)\\Microsoft Visual Studio\\Shared\\Anaconda3_64\\envs\\MScProject\\lib\\site-packages\\sklearn\\utils\\validation.py:475: DataConversionWarning: Data with input dtype int64 was converted to float64 by MinMaxScaler.\n",
      "  warnings.warn(msg, DataConversionWarning)\n",
      "C:\\Program Files (x86)\\Microsoft Visual Studio\\Shared\\Anaconda3_64\\envs\\MScProject\\lib\\site-packages\\sklearn\\utils\\validation.py:475: DataConversionWarning: Data with input dtype int64 was converted to float64 by MinMaxScaler.\n",
      "  warnings.warn(msg, DataConversionWarning)\n",
      "C:\\Program Files (x86)\\Microsoft Visual Studio\\Shared\\Anaconda3_64\\envs\\MScProject\\lib\\site-packages\\sklearn\\utils\\validation.py:475: DataConversionWarning: Data with input dtype int64 was converted to float64 by MinMaxScaler.\n",
      "  warnings.warn(msg, DataConversionWarning)\n",
      "C:\\Program Files (x86)\\Microsoft Visual Studio\\Shared\\Anaconda3_64\\envs\\MScProject\\lib\\site-packages\\sklearn\\utils\\validation.py:475: DataConversionWarning: Data with input dtype int64 was converted to float64 by MinMaxScaler.\n",
      "  warnings.warn(msg, DataConversionWarning)\n",
      "C:\\Program Files (x86)\\Microsoft Visual Studio\\Shared\\Anaconda3_64\\envs\\MScProject\\lib\\site-packages\\sklearn\\utils\\validation.py:475: DataConversionWarning: Data with input dtype int64 was converted to float64 by MinMaxScaler.\n",
      "  warnings.warn(msg, DataConversionWarning)\n",
      "C:\\Program Files (x86)\\Microsoft Visual Studio\\Shared\\Anaconda3_64\\envs\\MScProject\\lib\\site-packages\\sklearn\\utils\\validation.py:475: DataConversionWarning: Data with input dtype int64 was converted to float64 by MinMaxScaler.\n",
      "  warnings.warn(msg, DataConversionWarning)\n",
      "C:\\Program Files (x86)\\Microsoft Visual Studio\\Shared\\Anaconda3_64\\envs\\MScProject\\lib\\site-packages\\sklearn\\utils\\validation.py:475: DataConversionWarning: Data with input dtype int64 was converted to float64 by MinMaxScaler.\n",
      "  warnings.warn(msg, DataConversionWarning)\n",
      "C:\\Program Files (x86)\\Microsoft Visual Studio\\Shared\\Anaconda3_64\\envs\\MScProject\\lib\\site-packages\\sklearn\\utils\\validation.py:475: DataConversionWarning: Data with input dtype int64 was converted to float64 by MinMaxScaler.\n",
      "  warnings.warn(msg, DataConversionWarning)\n",
      "C:\\Program Files (x86)\\Microsoft Visual Studio\\Shared\\Anaconda3_64\\envs\\MScProject\\lib\\site-packages\\sklearn\\utils\\validation.py:475: DataConversionWarning: Data with input dtype int64 was converted to float64 by MinMaxScaler.\n",
      "  warnings.warn(msg, DataConversionWarning)\n",
      "C:\\Program Files (x86)\\Microsoft Visual Studio\\Shared\\Anaconda3_64\\envs\\MScProject\\lib\\site-packages\\sklearn\\utils\\validation.py:475: DataConversionWarning: Data with input dtype int64 was converted to float64 by MinMaxScaler.\n",
      "  warnings.warn(msg, DataConversionWarning)\n",
      "C:\\Program Files (x86)\\Microsoft Visual Studio\\Shared\\Anaconda3_64\\envs\\MScProject\\lib\\site-packages\\sklearn\\utils\\validation.py:475: DataConversionWarning: Data with input dtype int64 was converted to float64 by MinMaxScaler.\n",
      "  warnings.warn(msg, DataConversionWarning)\n",
      "C:\\Program Files (x86)\\Microsoft Visual Studio\\Shared\\Anaconda3_64\\envs\\MScProject\\lib\\site-packages\\sklearn\\utils\\validation.py:475: DataConversionWarning: Data with input dtype int64 was converted to float64 by MinMaxScaler.\n",
      "  warnings.warn(msg, DataConversionWarning)\n",
      "C:\\Program Files (x86)\\Microsoft Visual Studio\\Shared\\Anaconda3_64\\envs\\MScProject\\lib\\site-packages\\sklearn\\utils\\validation.py:475: DataConversionWarning: Data with input dtype int64 was converted to float64 by MinMaxScaler.\n",
      "  warnings.warn(msg, DataConversionWarning)\n",
      "C:\\Program Files (x86)\\Microsoft Visual Studio\\Shared\\Anaconda3_64\\envs\\MScProject\\lib\\site-packages\\sklearn\\utils\\validation.py:475: DataConversionWarning: Data with input dtype int64 was converted to float64 by MinMaxScaler.\n",
      "  warnings.warn(msg, DataConversionWarning)\n",
      "C:\\Program Files (x86)\\Microsoft Visual Studio\\Shared\\Anaconda3_64\\envs\\MScProject\\lib\\site-packages\\sklearn\\utils\\validation.py:475: DataConversionWarning: Data with input dtype int64 was converted to float64 by MinMaxScaler.\n",
      "  warnings.warn(msg, DataConversionWarning)\n",
      "C:\\Program Files (x86)\\Microsoft Visual Studio\\Shared\\Anaconda3_64\\envs\\MScProject\\lib\\site-packages\\sklearn\\utils\\validation.py:475: DataConversionWarning: Data with input dtype int64 was converted to float64 by MinMaxScaler.\n",
      "  warnings.warn(msg, DataConversionWarning)\n",
      "C:\\Program Files (x86)\\Microsoft Visual Studio\\Shared\\Anaconda3_64\\envs\\MScProject\\lib\\site-packages\\sklearn\\utils\\validation.py:475: DataConversionWarning: Data with input dtype int64 was converted to float64 by MinMaxScaler.\n",
      "  warnings.warn(msg, DataConversionWarning)\n",
      "C:\\Program Files (x86)\\Microsoft Visual Studio\\Shared\\Anaconda3_64\\envs\\MScProject\\lib\\site-packages\\sklearn\\utils\\validation.py:475: DataConversionWarning: Data with input dtype int64 was converted to float64 by MinMaxScaler.\n",
      "  warnings.warn(msg, DataConversionWarning)\n",
      "C:\\Program Files (x86)\\Microsoft Visual Studio\\Shared\\Anaconda3_64\\envs\\MScProject\\lib\\site-packages\\sklearn\\utils\\validation.py:475: DataConversionWarning: Data with input dtype int64 was converted to float64 by MinMaxScaler.\n",
      "  warnings.warn(msg, DataConversionWarning)\n",
      "C:\\Program Files (x86)\\Microsoft Visual Studio\\Shared\\Anaconda3_64\\envs\\MScProject\\lib\\site-packages\\sklearn\\utils\\validation.py:475: DataConversionWarning: Data with input dtype int64 was converted to float64 by MinMaxScaler.\n",
      "  warnings.warn(msg, DataConversionWarning)\n",
      "C:\\Program Files (x86)\\Microsoft Visual Studio\\Shared\\Anaconda3_64\\envs\\MScProject\\lib\\site-packages\\sklearn\\utils\\validation.py:475: DataConversionWarning: Data with input dtype int64 was converted to float64 by MinMaxScaler.\n",
      "  warnings.warn(msg, DataConversionWarning)\n",
      "C:\\Program Files (x86)\\Microsoft Visual Studio\\Shared\\Anaconda3_64\\envs\\MScProject\\lib\\site-packages\\sklearn\\utils\\validation.py:475: DataConversionWarning: Data with input dtype int64 was converted to float64 by MinMaxScaler.\n",
      "  warnings.warn(msg, DataConversionWarning)\n"
     ]
    },
    {
     "name": "stdout",
     "output_type": "stream",
     "text": [
      "Fitting estimator with 120 features.\n"
     ]
    },
    {
     "name": "stderr",
     "output_type": "stream",
     "text": [
      "C:\\Program Files (x86)\\Microsoft Visual Studio\\Shared\\Anaconda3_64\\envs\\MScProject\\lib\\site-packages\\sklearn\\linear_model\\sag.py:326: ConvergenceWarning: The max_iter was reached which means the coef_ did not converge\n",
      "  \"the coef_ did not converge\", ConvergenceWarning)\n"
     ]
    },
    {
     "name": "stdout",
     "output_type": "stream",
     "text": [
      "Fitting estimator with 110 features.\n"
     ]
    },
    {
     "name": "stderr",
     "output_type": "stream",
     "text": [
      "C:\\Program Files (x86)\\Microsoft Visual Studio\\Shared\\Anaconda3_64\\envs\\MScProject\\lib\\site-packages\\sklearn\\linear_model\\sag.py:326: ConvergenceWarning: The max_iter was reached which means the coef_ did not converge\n",
      "  \"the coef_ did not converge\", ConvergenceWarning)\n"
     ]
    },
    {
     "name": "stdout",
     "output_type": "stream",
     "text": [
      "Fitting estimator with 100 features.\n"
     ]
    },
    {
     "name": "stderr",
     "output_type": "stream",
     "text": [
      "C:\\Program Files (x86)\\Microsoft Visual Studio\\Shared\\Anaconda3_64\\envs\\MScProject\\lib\\site-packages\\sklearn\\linear_model\\sag.py:326: ConvergenceWarning: The max_iter was reached which means the coef_ did not converge\n",
      "  \"the coef_ did not converge\", ConvergenceWarning)\n"
     ]
    },
    {
     "name": "stdout",
     "output_type": "stream",
     "text": [
      "Fitting estimator with 90 features.\n",
      "Fitting estimator with 80 features.\n",
      "Fitting estimator with 70 features.\n",
      "RFE :  60 selected features out of 60\n",
      "RF :  120 selected features out of 44\n"
     ]
    },
    {
     "name": "stderr",
     "output_type": "stream",
     "text": [
      "C:\\Program Files (x86)\\Microsoft Visual Studio\\Shared\\Anaconda3_64\\envs\\MScProject\\lib\\site-packages\\sklearn\\utils\\validation.py:475: DataConversionWarning: Data with input dtype int64 was converted to float64 by MinMaxScaler.\n",
      "  warnings.warn(msg, DataConversionWarning)\n",
      "C:\\Program Files (x86)\\Microsoft Visual Studio\\Shared\\Anaconda3_64\\envs\\MScProject\\lib\\site-packages\\sklearn\\utils\\validation.py:475: DataConversionWarning: Data with input dtype int64 was converted to float64 by MinMaxScaler.\n",
      "  warnings.warn(msg, DataConversionWarning)\n",
      "C:\\Program Files (x86)\\Microsoft Visual Studio\\Shared\\Anaconda3_64\\envs\\MScProject\\lib\\site-packages\\sklearn\\utils\\validation.py:475: DataConversionWarning: Data with input dtype int64 was converted to float64 by MinMaxScaler.\n",
      "  warnings.warn(msg, DataConversionWarning)\n",
      "C:\\Program Files (x86)\\Microsoft Visual Studio\\Shared\\Anaconda3_64\\envs\\MScProject\\lib\\site-packages\\sklearn\\utils\\validation.py:475: DataConversionWarning: Data with input dtype int64 was converted to float64 by MinMaxScaler.\n",
      "  warnings.warn(msg, DataConversionWarning)\n",
      "C:\\Program Files (x86)\\Microsoft Visual Studio\\Shared\\Anaconda3_64\\envs\\MScProject\\lib\\site-packages\\sklearn\\utils\\validation.py:475: DataConversionWarning: Data with input dtype int64 was converted to float64 by MinMaxScaler.\n",
      "  warnings.warn(msg, DataConversionWarning)\n"
     ]
    },
    {
     "name": "stdout",
     "output_type": "stream",
     "text": [
      "<class 'pandas.core.frame.DataFrame'>\n",
      "Int64Index: 307507 entries, 0 to 307510\n",
      "Data columns (total 59 columns):\n",
      "ORGANIZATION_TYPE              307507 non-null float64\n",
      "OCCUPATION_TYPE                307507 non-null float64\n",
      "NAME_INCOME_TYPE               307507 non-null float64\n",
      "NAME_EDUCATION_TYPE            307507 non-null float64\n",
      "EXT_SOURCE_3                   307507 non-null float64\n",
      "EXT_SOURCE_2                   307507 non-null float64\n",
      "EXT_SOURCE_1                   307507 non-null float64\n",
      "DAYS_LAST_PHONE_CHANGE         307507 non-null float64\n",
      "DAYS_ID_PUBLISH                307507 non-null float64\n",
      "DAYS_EMPLOYED                  307507 non-null float64\n",
      "CNT_CHILDREN                   307507 non-null float64\n",
      "AMT_GOODS_PRICE                307507 non-null float64\n",
      "AMT_CREDIT                     307507 non-null float64\n",
      "REGION_RATING_CLIENT_W_CITY    307507 non-null float64\n",
      "NAME_HOUSING_TYPE              307507 non-null float64\n",
      "NAME_FAMILY_STATUS             307507 non-null float64\n",
      "LIVINGAREA_AVG                 307507 non-null float64\n",
      "HOUR_APPR_PROCESS_START        307507 non-null float64\n",
      "FLOORSMAX_MODE                 307507 non-null float64\n",
      "FLAG_DOCUMENT_6                307507 non-null float64\n",
      "FLAG_DOCUMENT_3                307507 non-null float64\n",
      "ELEVATORS_AVG                  307507 non-null float64\n",
      "DEF_60_CNT_SOCIAL_CIRCLE       307507 non-null float64\n",
      "DEF_30_CNT_SOCIAL_CIRCLE       307507 non-null float64\n",
      "DAYS_REGISTRATION              307507 non-null float64\n",
      "DAYS_BIRTH                     307507 non-null float64\n",
      "CODE_GENDER                    307507 non-null float64\n",
      "APARTMENTS_AVG                 307507 non-null float64\n",
      "AMT_INCOME_TOTAL               307507 non-null float64\n",
      "TOTALAREA_MODE                 307507 non-null float64\n",
      "REG_CITY_NOT_WORK_CITY         307507 non-null float64\n",
      "REG_CITY_NOT_LIVE_CITY         307507 non-null float64\n",
      "REGION_RATING_CLIENT           307507 non-null float64\n",
      "REGION_POPULATION_RELATIVE     307507 non-null float64\n",
      "OWN_CAR_AGE                    307507 non-null float64\n",
      "OBS_60_CNT_SOCIAL_CIRCLE       307507 non-null float64\n",
      "OBS_30_CNT_SOCIAL_CIRCLE       307507 non-null float64\n",
      "NONLIVINGAREA_MODE             307507 non-null float64\n",
      "NONLIVINGAREA_AVG              307507 non-null float64\n",
      "NAME_CONTRACT_TYPE             307507 non-null float64\n",
      "LIVINGAREA_MODE                307507 non-null float64\n",
      "LIVINGAREA_MEDI                307507 non-null float64\n",
      "LIVE_CITY_NOT_WORK_CITY        307507 non-null float64\n",
      "FLOORSMAX_MEDI                 307507 non-null float64\n",
      "FLOORSMAX_AVG                  307507 non-null float64\n",
      "FLAG_WORK_PHONE                307507 non-null float64\n",
      "FLAG_PHONE                     307507 non-null float64\n",
      "FLAG_OWN_CAR                   307507 non-null float64\n",
      "FLAG_EMP_PHONE                 307507 non-null float64\n",
      "ELEVATORS_MODE                 307507 non-null float64\n",
      "ELEVATORS_MEDI                 307507 non-null float64\n",
      "CNT_FAM_MEMBERS                307507 non-null float64\n",
      "BASEMENTAREA_MEDI              307507 non-null float64\n",
      "BASEMENTAREA_AVG               307507 non-null float64\n",
      "APARTMENTS_MODE                307507 non-null float64\n",
      "APARTMENTS_MEDI                307507 non-null float64\n",
      "AMT_REQ_CREDIT_BUREAU_MON      307507 non-null float64\n",
      "AMT_ANNUITY                    307507 non-null float64\n",
      "TARGET                         307507 non-null int64\n",
      "dtypes: float64(58), int64(1)\n",
      "memory usage: 140.8 MB\n"
     ]
    },
    {
     "data": {
      "text/plain": [
       "21"
      ]
     },
     "execution_count": 33,
     "metadata": {},
     "output_type": "execute_result"
    }
   ],
   "source": [
    "# Read Training data\n",
    "input_df = readFile(dataFolder + '\\\\application_train.csv')\n",
    "input_df = replace_outliers(input_df)\n",
    "input_df = input_df.drop(columns = 'SK_ID_CURR')\n",
    "categorical_feats, floatingPoint_feats, bool_feats, integer_feats = identify_feature_types(input_df,\n",
    "                                                                        ['TARGET', 'SK_ID_CURR', 'Unnamed :0'], verbose=True)\n",
    "\n",
    "#Replace categorical columns with WOE columns\n",
    "for cat_feature in categorical_feats:\n",
    "    WoE_df = calculate_WOE(input_df, 'TARGET', cat_feature)\n",
    "    input_df[cat_feature] = input_df[cat_feature].replace(WoE_df.set_index('Value')['WoE'])\n",
    "    del WoE_df\n",
    "    \n",
    "labels = input_df.pop('TARGET')\n",
    "feature_df = select_features(input_df, labels, min_votes = 4, drop_ratio = 0.5)\n",
    "\n",
    "selected_features = feature_df[feature_df.Total >= 3].Feature.values\n",
    "input_df = input_df[selected_features]\n",
    "\n",
    "input_df = impute_features(input_df, features ='All')    \n",
    "input_df = scale_features(input_df)\n",
    "\n",
    "input_df['TARGET'] = labels \n",
    "input_df.info()\n",
    "del input_df\n",
    "gc.collect()"
   ]
  },
  {
   "cell_type": "markdown",
   "metadata": {},
   "source": [
    "## Version 6: Balanced and Imbalanced Sampling\n",
    "### Data set version 6_a: Balanced Samples with categorical features OHE"
   ]
  },
  {
   "cell_type": "code",
   "execution_count": 34,
   "metadata": {},
   "outputs": [
    {
     "name": "stdout",
     "output_type": "stream",
     "text": [
      "Catagorical Features : 16, Floating Point Features : 66, Boolean Features : 26, Integer Features : 12, Total Count : 120\n"
     ]
    },
    {
     "name": "stderr",
     "output_type": "stream",
     "text": [
      "C:\\Program Files (x86)\\Microsoft Visual Studio\\Shared\\Anaconda3_64\\envs\\MScProject\\lib\\site-packages\\sklearn\\utils\\validation.py:475: DataConversionWarning: Data with input dtype int64 was converted to float64 by MinMaxScaler.\n",
      "  warnings.warn(msg, DataConversionWarning)\n",
      "C:\\Program Files (x86)\\Microsoft Visual Studio\\Shared\\Anaconda3_64\\envs\\MScProject\\lib\\site-packages\\sklearn\\utils\\validation.py:475: DataConversionWarning: Data with input dtype int64 was converted to float64 by MinMaxScaler.\n",
      "  warnings.warn(msg, DataConversionWarning)\n",
      "C:\\Program Files (x86)\\Microsoft Visual Studio\\Shared\\Anaconda3_64\\envs\\MScProject\\lib\\site-packages\\sklearn\\utils\\validation.py:475: DataConversionWarning: Data with input dtype int64 was converted to float64 by MinMaxScaler.\n",
      "  warnings.warn(msg, DataConversionWarning)\n",
      "C:\\Program Files (x86)\\Microsoft Visual Studio\\Shared\\Anaconda3_64\\envs\\MScProject\\lib\\site-packages\\sklearn\\utils\\validation.py:475: DataConversionWarning: Data with input dtype int64 was converted to float64 by MinMaxScaler.\n",
      "  warnings.warn(msg, DataConversionWarning)\n",
      "C:\\Program Files (x86)\\Microsoft Visual Studio\\Shared\\Anaconda3_64\\envs\\MScProject\\lib\\site-packages\\sklearn\\utils\\validation.py:475: DataConversionWarning: Data with input dtype int64 was converted to float64 by MinMaxScaler.\n",
      "  warnings.warn(msg, DataConversionWarning)\n",
      "C:\\Program Files (x86)\\Microsoft Visual Studio\\Shared\\Anaconda3_64\\envs\\MScProject\\lib\\site-packages\\sklearn\\utils\\validation.py:475: DataConversionWarning: Data with input dtype int64 was converted to float64 by MinMaxScaler.\n",
      "  warnings.warn(msg, DataConversionWarning)\n",
      "C:\\Program Files (x86)\\Microsoft Visual Studio\\Shared\\Anaconda3_64\\envs\\MScProject\\lib\\site-packages\\sklearn\\utils\\validation.py:475: DataConversionWarning: Data with input dtype int64 was converted to float64 by MinMaxScaler.\n",
      "  warnings.warn(msg, DataConversionWarning)\n",
      "C:\\Program Files (x86)\\Microsoft Visual Studio\\Shared\\Anaconda3_64\\envs\\MScProject\\lib\\site-packages\\sklearn\\utils\\validation.py:475: DataConversionWarning: Data with input dtype int64 was converted to float64 by MinMaxScaler.\n",
      "  warnings.warn(msg, DataConversionWarning)\n",
      "C:\\Program Files (x86)\\Microsoft Visual Studio\\Shared\\Anaconda3_64\\envs\\MScProject\\lib\\site-packages\\sklearn\\utils\\validation.py:475: DataConversionWarning: Data with input dtype int64 was converted to float64 by MinMaxScaler.\n",
      "  warnings.warn(msg, DataConversionWarning)\n",
      "C:\\Program Files (x86)\\Microsoft Visual Studio\\Shared\\Anaconda3_64\\envs\\MScProject\\lib\\site-packages\\sklearn\\utils\\validation.py:475: DataConversionWarning: Data with input dtype int64 was converted to float64 by MinMaxScaler.\n",
      "  warnings.warn(msg, DataConversionWarning)\n",
      "C:\\Program Files (x86)\\Microsoft Visual Studio\\Shared\\Anaconda3_64\\envs\\MScProject\\lib\\site-packages\\sklearn\\utils\\validation.py:475: DataConversionWarning: Data with input dtype int64 was converted to float64 by MinMaxScaler.\n",
      "  warnings.warn(msg, DataConversionWarning)\n",
      "C:\\Program Files (x86)\\Microsoft Visual Studio\\Shared\\Anaconda3_64\\envs\\MScProject\\lib\\site-packages\\sklearn\\utils\\validation.py:475: DataConversionWarning: Data with input dtype int64 was converted to float64 by MinMaxScaler.\n",
      "  warnings.warn(msg, DataConversionWarning)\n",
      "C:\\Program Files (x86)\\Microsoft Visual Studio\\Shared\\Anaconda3_64\\envs\\MScProject\\lib\\site-packages\\sklearn\\utils\\validation.py:475: DataConversionWarning: Data with input dtype int64 was converted to float64 by MinMaxScaler.\n",
      "  warnings.warn(msg, DataConversionWarning)\n",
      "C:\\Program Files (x86)\\Microsoft Visual Studio\\Shared\\Anaconda3_64\\envs\\MScProject\\lib\\site-packages\\sklearn\\utils\\validation.py:475: DataConversionWarning: Data with input dtype int64 was converted to float64 by MinMaxScaler.\n",
      "  warnings.warn(msg, DataConversionWarning)\n",
      "C:\\Program Files (x86)\\Microsoft Visual Studio\\Shared\\Anaconda3_64\\envs\\MScProject\\lib\\site-packages\\sklearn\\utils\\validation.py:475: DataConversionWarning: Data with input dtype int64 was converted to float64 by MinMaxScaler.\n",
      "  warnings.warn(msg, DataConversionWarning)\n",
      "C:\\Program Files (x86)\\Microsoft Visual Studio\\Shared\\Anaconda3_64\\envs\\MScProject\\lib\\site-packages\\sklearn\\utils\\validation.py:475: DataConversionWarning: Data with input dtype int64 was converted to float64 by MinMaxScaler.\n",
      "  warnings.warn(msg, DataConversionWarning)\n",
      "C:\\Program Files (x86)\\Microsoft Visual Studio\\Shared\\Anaconda3_64\\envs\\MScProject\\lib\\site-packages\\sklearn\\utils\\validation.py:475: DataConversionWarning: Data with input dtype int64 was converted to float64 by MinMaxScaler.\n",
      "  warnings.warn(msg, DataConversionWarning)\n",
      "C:\\Program Files (x86)\\Microsoft Visual Studio\\Shared\\Anaconda3_64\\envs\\MScProject\\lib\\site-packages\\sklearn\\utils\\validation.py:475: DataConversionWarning: Data with input dtype int64 was converted to float64 by MinMaxScaler.\n",
      "  warnings.warn(msg, DataConversionWarning)\n",
      "C:\\Program Files (x86)\\Microsoft Visual Studio\\Shared\\Anaconda3_64\\envs\\MScProject\\lib\\site-packages\\sklearn\\utils\\validation.py:475: DataConversionWarning: Data with input dtype int64 was converted to float64 by MinMaxScaler.\n",
      "  warnings.warn(msg, DataConversionWarning)\n",
      "C:\\Program Files (x86)\\Microsoft Visual Studio\\Shared\\Anaconda3_64\\envs\\MScProject\\lib\\site-packages\\sklearn\\utils\\validation.py:475: DataConversionWarning: Data with input dtype int64 was converted to float64 by MinMaxScaler.\n",
      "  warnings.warn(msg, DataConversionWarning)\n",
      "C:\\Program Files (x86)\\Microsoft Visual Studio\\Shared\\Anaconda3_64\\envs\\MScProject\\lib\\site-packages\\sklearn\\utils\\validation.py:475: DataConversionWarning: Data with input dtype int64 was converted to float64 by MinMaxScaler.\n",
      "  warnings.warn(msg, DataConversionWarning)\n",
      "C:\\Program Files (x86)\\Microsoft Visual Studio\\Shared\\Anaconda3_64\\envs\\MScProject\\lib\\site-packages\\sklearn\\utils\\validation.py:475: DataConversionWarning: Data with input dtype int64 was converted to float64 by MinMaxScaler.\n",
      "  warnings.warn(msg, DataConversionWarning)\n",
      "C:\\Program Files (x86)\\Microsoft Visual Studio\\Shared\\Anaconda3_64\\envs\\MScProject\\lib\\site-packages\\sklearn\\utils\\validation.py:475: DataConversionWarning: Data with input dtype int64 was converted to float64 by MinMaxScaler.\n",
      "  warnings.warn(msg, DataConversionWarning)\n",
      "C:\\Program Files (x86)\\Microsoft Visual Studio\\Shared\\Anaconda3_64\\envs\\MScProject\\lib\\site-packages\\sklearn\\utils\\validation.py:475: DataConversionWarning: Data with input dtype int64 was converted to float64 by MinMaxScaler.\n",
      "  warnings.warn(msg, DataConversionWarning)\n",
      "C:\\Program Files (x86)\\Microsoft Visual Studio\\Shared\\Anaconda3_64\\envs\\MScProject\\lib\\site-packages\\sklearn\\utils\\validation.py:475: DataConversionWarning: Data with input dtype int64 was converted to float64 by MinMaxScaler.\n",
      "  warnings.warn(msg, DataConversionWarning)\n",
      "C:\\Program Files (x86)\\Microsoft Visual Studio\\Shared\\Anaconda3_64\\envs\\MScProject\\lib\\site-packages\\sklearn\\utils\\validation.py:475: DataConversionWarning: Data with input dtype int64 was converted to float64 by MinMaxScaler.\n",
      "  warnings.warn(msg, DataConversionWarning)\n",
      "C:\\Program Files (x86)\\Microsoft Visual Studio\\Shared\\Anaconda3_64\\envs\\MScProject\\lib\\site-packages\\sklearn\\utils\\validation.py:475: DataConversionWarning: Data with input dtype int64 was converted to float64 by MinMaxScaler.\n",
      "  warnings.warn(msg, DataConversionWarning)\n",
      "C:\\Program Files (x86)\\Microsoft Visual Studio\\Shared\\Anaconda3_64\\envs\\MScProject\\lib\\site-packages\\sklearn\\utils\\validation.py:475: DataConversionWarning: Data with input dtype int64 was converted to float64 by MinMaxScaler.\n",
      "  warnings.warn(msg, DataConversionWarning)\n",
      "C:\\Program Files (x86)\\Microsoft Visual Studio\\Shared\\Anaconda3_64\\envs\\MScProject\\lib\\site-packages\\sklearn\\utils\\validation.py:475: DataConversionWarning: Data with input dtype int64 was converted to float64 by MinMaxScaler.\n",
      "  warnings.warn(msg, DataConversionWarning)\n",
      "C:\\Program Files (x86)\\Microsoft Visual Studio\\Shared\\Anaconda3_64\\envs\\MScProject\\lib\\site-packages\\sklearn\\utils\\validation.py:475: DataConversionWarning: Data with input dtype int64 was converted to float64 by MinMaxScaler.\n",
      "  warnings.warn(msg, DataConversionWarning)\n"
     ]
    },
    {
     "name": "stdout",
     "output_type": "stream",
     "text": [
      "label 1 sample size: 24825\n",
      "label 0 sample size: 24825\n",
      "<class 'pandas.core.frame.DataFrame'>\n",
      "Int64Index: 49650 entries, 264056 to 77514\n",
      "Columns: 244 entries, CNT_CHILDREN to TARGET\n",
      "dtypes: float64(243), int64(1)\n",
      "memory usage: 92.8 MB\n"
     ]
    },
    {
     "data": {
      "text/plain": [
       "56"
      ]
     },
     "execution_count": 34,
     "metadata": {},
     "output_type": "execute_result"
    }
   ],
   "source": [
    "# Read Training data\n",
    "input_df = readFile(dataFolder + '\\\\application_train.csv')\n",
    "input_df = replace_outliers(input_df)\n",
    "input_df = input_df.drop(columns = 'SK_ID_CURR')\n",
    "categorical_feats, floatingPoint_feats, bool_feats, integer_feats = identify_feature_types(input_df,\n",
    "                                                                        ['TARGET', 'SK_ID_CURR', 'Unnamed :0'], verbose=True)\n",
    "labels = input_df.pop('TARGET')\n",
    "\n",
    "input_df = pd.get_dummies(input_df, columns=categorical_feats, dtype=np.int64)\n",
    "\n",
    "input_df = impute_features(input_df, features ='All')    \n",
    "input_df = scale_features(input_df)\n",
    "\n",
    "sampled_df , sampled_labels = take_sample(input_df, labels, stratified = False)\n",
    "sampled_df['TARGET'] = sampled_labels\n",
    "sampled_df.info()\n",
    "del input_df, sampled_df, labels\n",
    "gc.collect()"
   ]
  },
  {
   "cell_type": "markdown",
   "metadata": {},
   "source": [
    "### Data set version 6_b: Unbalanced sample with categorical features OHE"
   ]
  },
  {
   "cell_type": "code",
   "execution_count": 35,
   "metadata": {},
   "outputs": [
    {
     "name": "stdout",
     "output_type": "stream",
     "text": [
      "Catagorical Features : 16, Floating Point Features : 66, Boolean Features : 26, Integer Features : 12, Total Count : 120\n"
     ]
    },
    {
     "name": "stderr",
     "output_type": "stream",
     "text": [
      "C:\\Program Files (x86)\\Microsoft Visual Studio\\Shared\\Anaconda3_64\\envs\\MScProject\\lib\\site-packages\\sklearn\\utils\\validation.py:475: DataConversionWarning: Data with input dtype int64 was converted to float64 by MinMaxScaler.\n",
      "  warnings.warn(msg, DataConversionWarning)\n",
      "C:\\Program Files (x86)\\Microsoft Visual Studio\\Shared\\Anaconda3_64\\envs\\MScProject\\lib\\site-packages\\sklearn\\utils\\validation.py:475: DataConversionWarning: Data with input dtype int64 was converted to float64 by MinMaxScaler.\n",
      "  warnings.warn(msg, DataConversionWarning)\n",
      "C:\\Program Files (x86)\\Microsoft Visual Studio\\Shared\\Anaconda3_64\\envs\\MScProject\\lib\\site-packages\\sklearn\\utils\\validation.py:475: DataConversionWarning: Data with input dtype int64 was converted to float64 by MinMaxScaler.\n",
      "  warnings.warn(msg, DataConversionWarning)\n",
      "C:\\Program Files (x86)\\Microsoft Visual Studio\\Shared\\Anaconda3_64\\envs\\MScProject\\lib\\site-packages\\sklearn\\utils\\validation.py:475: DataConversionWarning: Data with input dtype int64 was converted to float64 by MinMaxScaler.\n",
      "  warnings.warn(msg, DataConversionWarning)\n",
      "C:\\Program Files (x86)\\Microsoft Visual Studio\\Shared\\Anaconda3_64\\envs\\MScProject\\lib\\site-packages\\sklearn\\utils\\validation.py:475: DataConversionWarning: Data with input dtype int64 was converted to float64 by MinMaxScaler.\n",
      "  warnings.warn(msg, DataConversionWarning)\n",
      "C:\\Program Files (x86)\\Microsoft Visual Studio\\Shared\\Anaconda3_64\\envs\\MScProject\\lib\\site-packages\\sklearn\\utils\\validation.py:475: DataConversionWarning: Data with input dtype int64 was converted to float64 by MinMaxScaler.\n",
      "  warnings.warn(msg, DataConversionWarning)\n",
      "C:\\Program Files (x86)\\Microsoft Visual Studio\\Shared\\Anaconda3_64\\envs\\MScProject\\lib\\site-packages\\sklearn\\utils\\validation.py:475: DataConversionWarning: Data with input dtype int64 was converted to float64 by MinMaxScaler.\n",
      "  warnings.warn(msg, DataConversionWarning)\n",
      "C:\\Program Files (x86)\\Microsoft Visual Studio\\Shared\\Anaconda3_64\\envs\\MScProject\\lib\\site-packages\\sklearn\\utils\\validation.py:475: DataConversionWarning: Data with input dtype int64 was converted to float64 by MinMaxScaler.\n",
      "  warnings.warn(msg, DataConversionWarning)\n",
      "C:\\Program Files (x86)\\Microsoft Visual Studio\\Shared\\Anaconda3_64\\envs\\MScProject\\lib\\site-packages\\sklearn\\utils\\validation.py:475: DataConversionWarning: Data with input dtype int64 was converted to float64 by MinMaxScaler.\n",
      "  warnings.warn(msg, DataConversionWarning)\n",
      "C:\\Program Files (x86)\\Microsoft Visual Studio\\Shared\\Anaconda3_64\\envs\\MScProject\\lib\\site-packages\\sklearn\\utils\\validation.py:475: DataConversionWarning: Data with input dtype int64 was converted to float64 by MinMaxScaler.\n",
      "  warnings.warn(msg, DataConversionWarning)\n",
      "C:\\Program Files (x86)\\Microsoft Visual Studio\\Shared\\Anaconda3_64\\envs\\MScProject\\lib\\site-packages\\sklearn\\utils\\validation.py:475: DataConversionWarning: Data with input dtype int64 was converted to float64 by MinMaxScaler.\n",
      "  warnings.warn(msg, DataConversionWarning)\n",
      "C:\\Program Files (x86)\\Microsoft Visual Studio\\Shared\\Anaconda3_64\\envs\\MScProject\\lib\\site-packages\\sklearn\\utils\\validation.py:475: DataConversionWarning: Data with input dtype int64 was converted to float64 by MinMaxScaler.\n",
      "  warnings.warn(msg, DataConversionWarning)\n",
      "C:\\Program Files (x86)\\Microsoft Visual Studio\\Shared\\Anaconda3_64\\envs\\MScProject\\lib\\site-packages\\sklearn\\utils\\validation.py:475: DataConversionWarning: Data with input dtype int64 was converted to float64 by MinMaxScaler.\n",
      "  warnings.warn(msg, DataConversionWarning)\n",
      "C:\\Program Files (x86)\\Microsoft Visual Studio\\Shared\\Anaconda3_64\\envs\\MScProject\\lib\\site-packages\\sklearn\\utils\\validation.py:475: DataConversionWarning: Data with input dtype int64 was converted to float64 by MinMaxScaler.\n",
      "  warnings.warn(msg, DataConversionWarning)\n",
      "C:\\Program Files (x86)\\Microsoft Visual Studio\\Shared\\Anaconda3_64\\envs\\MScProject\\lib\\site-packages\\sklearn\\utils\\validation.py:475: DataConversionWarning: Data with input dtype int64 was converted to float64 by MinMaxScaler.\n",
      "  warnings.warn(msg, DataConversionWarning)\n",
      "C:\\Program Files (x86)\\Microsoft Visual Studio\\Shared\\Anaconda3_64\\envs\\MScProject\\lib\\site-packages\\sklearn\\utils\\validation.py:475: DataConversionWarning: Data with input dtype int64 was converted to float64 by MinMaxScaler.\n",
      "  warnings.warn(msg, DataConversionWarning)\n",
      "C:\\Program Files (x86)\\Microsoft Visual Studio\\Shared\\Anaconda3_64\\envs\\MScProject\\lib\\site-packages\\sklearn\\utils\\validation.py:475: DataConversionWarning: Data with input dtype int64 was converted to float64 by MinMaxScaler.\n",
      "  warnings.warn(msg, DataConversionWarning)\n",
      "C:\\Program Files (x86)\\Microsoft Visual Studio\\Shared\\Anaconda3_64\\envs\\MScProject\\lib\\site-packages\\sklearn\\utils\\validation.py:475: DataConversionWarning: Data with input dtype int64 was converted to float64 by MinMaxScaler.\n",
      "  warnings.warn(msg, DataConversionWarning)\n",
      "C:\\Program Files (x86)\\Microsoft Visual Studio\\Shared\\Anaconda3_64\\envs\\MScProject\\lib\\site-packages\\sklearn\\utils\\validation.py:475: DataConversionWarning: Data with input dtype int64 was converted to float64 by MinMaxScaler.\n",
      "  warnings.warn(msg, DataConversionWarning)\n",
      "C:\\Program Files (x86)\\Microsoft Visual Studio\\Shared\\Anaconda3_64\\envs\\MScProject\\lib\\site-packages\\sklearn\\utils\\validation.py:475: DataConversionWarning: Data with input dtype int64 was converted to float64 by MinMaxScaler.\n",
      "  warnings.warn(msg, DataConversionWarning)\n",
      "C:\\Program Files (x86)\\Microsoft Visual Studio\\Shared\\Anaconda3_64\\envs\\MScProject\\lib\\site-packages\\sklearn\\utils\\validation.py:475: DataConversionWarning: Data with input dtype int64 was converted to float64 by MinMaxScaler.\n",
      "  warnings.warn(msg, DataConversionWarning)\n",
      "C:\\Program Files (x86)\\Microsoft Visual Studio\\Shared\\Anaconda3_64\\envs\\MScProject\\lib\\site-packages\\sklearn\\utils\\validation.py:475: DataConversionWarning: Data with input dtype int64 was converted to float64 by MinMaxScaler.\n",
      "  warnings.warn(msg, DataConversionWarning)\n",
      "C:\\Program Files (x86)\\Microsoft Visual Studio\\Shared\\Anaconda3_64\\envs\\MScProject\\lib\\site-packages\\sklearn\\utils\\validation.py:475: DataConversionWarning: Data with input dtype int64 was converted to float64 by MinMaxScaler.\n",
      "  warnings.warn(msg, DataConversionWarning)\n",
      "C:\\Program Files (x86)\\Microsoft Visual Studio\\Shared\\Anaconda3_64\\envs\\MScProject\\lib\\site-packages\\sklearn\\utils\\validation.py:475: DataConversionWarning: Data with input dtype int64 was converted to float64 by MinMaxScaler.\n",
      "  warnings.warn(msg, DataConversionWarning)\n",
      "C:\\Program Files (x86)\\Microsoft Visual Studio\\Shared\\Anaconda3_64\\envs\\MScProject\\lib\\site-packages\\sklearn\\utils\\validation.py:475: DataConversionWarning: Data with input dtype int64 was converted to float64 by MinMaxScaler.\n",
      "  warnings.warn(msg, DataConversionWarning)\n",
      "C:\\Program Files (x86)\\Microsoft Visual Studio\\Shared\\Anaconda3_64\\envs\\MScProject\\lib\\site-packages\\sklearn\\utils\\validation.py:475: DataConversionWarning: Data with input dtype int64 was converted to float64 by MinMaxScaler.\n",
      "  warnings.warn(msg, DataConversionWarning)\n",
      "C:\\Program Files (x86)\\Microsoft Visual Studio\\Shared\\Anaconda3_64\\envs\\MScProject\\lib\\site-packages\\sklearn\\utils\\validation.py:475: DataConversionWarning: Data with input dtype int64 was converted to float64 by MinMaxScaler.\n",
      "  warnings.warn(msg, DataConversionWarning)\n",
      "C:\\Program Files (x86)\\Microsoft Visual Studio\\Shared\\Anaconda3_64\\envs\\MScProject\\lib\\site-packages\\sklearn\\utils\\validation.py:475: DataConversionWarning: Data with input dtype int64 was converted to float64 by MinMaxScaler.\n",
      "  warnings.warn(msg, DataConversionWarning)\n",
      "C:\\Program Files (x86)\\Microsoft Visual Studio\\Shared\\Anaconda3_64\\envs\\MScProject\\lib\\site-packages\\sklearn\\utils\\validation.py:475: DataConversionWarning: Data with input dtype int64 was converted to float64 by MinMaxScaler.\n",
      "  warnings.warn(msg, DataConversionWarning)\n",
      "C:\\Program Files (x86)\\Microsoft Visual Studio\\Shared\\Anaconda3_64\\envs\\MScProject\\lib\\site-packages\\sklearn\\utils\\validation.py:475: DataConversionWarning: Data with input dtype int64 was converted to float64 by MinMaxScaler.\n",
      "  warnings.warn(msg, DataConversionWarning)\n"
     ]
    },
    {
     "name": "stdout",
     "output_type": "stream",
     "text": [
      "label 1 sample size: 2004\n",
      "label 0 sample size: 22821\n",
      "<class 'pandas.core.frame.DataFrame'>\n",
      "Int64Index: 24825 entries, 253126 to 46676\n",
      "Columns: 244 entries, CNT_CHILDREN to TARGET\n",
      "dtypes: float64(243), int64(1)\n",
      "memory usage: 46.4 MB\n"
     ]
    },
    {
     "data": {
      "text/plain": [
       "56"
      ]
     },
     "execution_count": 35,
     "metadata": {},
     "output_type": "execute_result"
    }
   ],
   "source": [
    "# Read Training data\n",
    "input_df = readFile(dataFolder + '\\\\application_train.csv')\n",
    "input_df = replace_outliers(input_df)\n",
    "input_df = input_df.drop(columns = 'SK_ID_CURR')\n",
    "categorical_feats, floatingPoint_feats, bool_feats, integer_feats = identify_feature_types(input_df,\n",
    "                                                                        ['TARGET', 'SK_ID_CURR', 'Unnamed :0'], verbose=True)\n",
    "labels = input_df.pop('TARGET')\n",
    "\n",
    "input_df = pd.get_dummies(input_df, columns=categorical_feats, dtype=np.int64)\n",
    "\n",
    "input_df = impute_features(input_df, features ='All')    \n",
    "input_df = scale_features(input_df)\n",
    "\n",
    "sampled_df , sampled_labels = take_sample(input_df, labels)\n",
    "sampled_df['TARGET'] = sampled_labels\n",
    "sampled_df.info()\n",
    "del input_df, sampled_df, labels\n",
    "gc.collect()"
   ]
  }
 ],
 "metadata": {
  "kernelspec": {
   "display_name": "Python 3",
   "language": "python",
   "name": "python3"
  },
  "language_info": {
   "codemirror_mode": {
    "name": "ipython",
    "version": 3
   },
   "file_extension": ".py",
   "mimetype": "text/x-python",
   "name": "python",
   "nbconvert_exporter": "python",
   "pygments_lexer": "ipython3",
   "version": "3.6.6"
  }
 },
 "nbformat": 4,
 "nbformat_minor": 2
}
